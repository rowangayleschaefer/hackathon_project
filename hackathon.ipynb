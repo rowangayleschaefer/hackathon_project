{
 "cells": [
  {
   "cell_type": "markdown",
   "id": "e2ed4e86-4979-4602-9032-305f1bd02028",
   "metadata": {},
   "source": [
    "<center><h1> Buyer Analysis & Classification</h1></center>"
   ]
  },
  {
   "cell_type": "markdown",
   "id": "3a1fa15e-0b41-4f86-80f0-3674fa236f7e",
   "metadata": {
    "jp-MarkdownHeadingCollapsed": true,
    "tags": []
   },
   "source": [
    "<center><img src='./img/bird.jpeg'></center>"
   ]
  },
  {
   "cell_type": "markdown",
   "id": "ed580737-9a1c-4f15-a72d-1008d0bdbd1e",
   "metadata": {},
   "source": [
    "<font color=white>/</font>"
   ]
  },
  {
   "cell_type": "markdown",
   "id": "a4790c2a-6ce8-40cf-b25f-2a486e083c1b",
   "metadata": {},
   "source": [
    "### Background"
   ]
  },
  {
   "cell_type": "markdown",
   "id": "f64e02eb-bef5-451b-ade9-4d2d27e437e0",
   "metadata": {},
   "source": [
    "This project was completed individually as part of a full-day hackathon for GA's Data Science Immersive. Project was completed in 7 hours. The presentation was completed afterward for use in portfolio."
   ]
  },
  {
   "cell_type": "markdown",
   "id": "2391c23d-f25f-494e-a8f7-c91daf37cab9",
   "metadata": {},
   "source": [
    "<font color=white>/</font>"
   ]
  },
  {
   "cell_type": "markdown",
   "id": "3eb83cf7-c796-47c8-98fe-c47aeabacf87",
   "metadata": {},
   "source": [
    "### Data"
   ]
  },
  {
   "cell_type": "markdown",
   "id": "5cc6480c-67cb-42b5-ad04-8a02e95460e9",
   "metadata": {},
   "source": [
    "The data I chose was a dataset on customer transactions from 2010-2011 for an online retailer, made public by the UC Irvine Machine Learning Repository. Documentation and full dataset can be downloaded [here.](https://archive.ics.uci.edu/ml/datasets/online+retail)"
   ]
  },
  {
   "cell_type": "markdown",
   "id": "439d9473-5a02-4d4c-ae22-f60402aa46f2",
   "metadata": {},
   "source": [
    "<font color=white>/</font>"
   ]
  },
  {
   "cell_type": "markdown",
   "id": "af4d389c-39c4-412b-ab9a-bb056e497496",
   "metadata": {},
   "source": [
    "### Research Questions\n",
    "\n",
    "* Which products are most popular worldwide, and by country?\n",
    "* What is the likelihood of a customer purchasing <code>item 1</code>, given their past purchases?\n",
    "* Which purchases are most important in determining the probability of a customer purchasing <code>item 1</code>?\n",
    "\n",
    "<p></p>\n",
    "<br />"
   ]
  },
  {
   "cell_type": "markdown",
   "id": "e7983f8d-a752-4aa0-a8c4-8aefc990991c",
   "metadata": {},
   "source": [
    "<font color=white>/</font>"
   ]
  },
  {
   "cell_type": "markdown",
   "id": "5371ef08-9e8f-4b15-8cab-eeb8e7a7f703",
   "metadata": {},
   "source": [
    "### Imports"
   ]
  },
  {
   "cell_type": "code",
   "execution_count": 14,
   "id": "adf600c3-96c8-4cb7-a2c9-cd7443fc442f",
   "metadata": {},
   "outputs": [],
   "source": [
    "import pandas as pd\n",
    "import numpy as np"
   ]
  },
  {
   "cell_type": "code",
   "execution_count": 4,
   "id": "deec17f8-4253-41c1-a9d0-e65df88479e9",
   "metadata": {},
   "outputs": [],
   "source": [
    "df = pd.read_csv('./data/data.csv', encoding= 'unicode_escape')"
   ]
  },
  {
   "cell_type": "markdown",
   "id": "026fb65f-8848-4835-bb14-f825ee7ed268",
   "metadata": {},
   "source": [
    "<font color=white>/</font>"
   ]
  },
  {
   "cell_type": "markdown",
   "id": "f1f7c574-5440-4ee3-a981-c5836ac1355c",
   "metadata": {},
   "source": [
    "## Data Cleaning/Exploratory Analysis"
   ]
  },
  {
   "cell_type": "code",
   "execution_count": 6,
   "id": "e96a5b42-1c27-4723-aa20-ffe2bf8e5aea",
   "metadata": {},
   "outputs": [],
   "source": [
    "df.columns = df.columns.str.lower().str.replace(\" \", \"_\")"
   ]
  },
  {
   "cell_type": "code",
   "execution_count": 7,
   "id": "c4597ee7-7e85-4d24-9c30-a563fc58e7d0",
   "metadata": {},
   "outputs": [
    {
     "name": "stdout",
     "output_type": "stream",
     "text": [
      "<class 'pandas.core.frame.DataFrame'>\n",
      "RangeIndex: 541909 entries, 0 to 541908\n",
      "Data columns (total 8 columns):\n",
      " #   Column       Non-Null Count   Dtype  \n",
      "---  ------       --------------   -----  \n",
      " 0   invoiceno    541909 non-null  object \n",
      " 1   stockcode    541909 non-null  object \n",
      " 2   description  540455 non-null  object \n",
      " 3   quantity     541909 non-null  int64  \n",
      " 4   invoicedate  541909 non-null  object \n",
      " 5   unitprice    541909 non-null  float64\n",
      " 6   customerid   406829 non-null  float64\n",
      " 7   country      541909 non-null  object \n",
      "dtypes: float64(2), int64(1), object(5)\n",
      "memory usage: 33.1+ MB\n"
     ]
    }
   ],
   "source": [
    "df.info()"
   ]
  },
  {
   "cell_type": "code",
   "execution_count": 17,
   "id": "16821831-8f4f-45d2-ba08-c2958db9c16e",
   "metadata": {},
   "outputs": [
    {
     "data": {
      "text/plain": [
       "invoiceno           0\n",
       "stockcode           0\n",
       "description      1454\n",
       "quantity            0\n",
       "invoicedate         0\n",
       "unitprice           0\n",
       "customerid     135080\n",
       "country             0\n",
       "dtype: int64"
      ]
     },
     "execution_count": 17,
     "metadata": {},
     "output_type": "execute_result"
    }
   ],
   "source": [
    "df.isna().sum()"
   ]
  },
  {
   "cell_type": "markdown",
   "id": "ac315c84-80d0-47a9-b207-5c8720f6b2ca",
   "metadata": {},
   "source": [
    "<font color=white>.</font>"
   ]
  },
  {
   "cell_type": "markdown",
   "id": "fa5156e5-3e60-4660-a291-84673ef83ec8",
   "metadata": {},
   "source": [
    "#### Data Collection date range"
   ]
  },
  {
   "cell_type": "code",
   "execution_count": 48,
   "id": "d514e997-6be4-4ceb-a626-ddd012b67d8c",
   "metadata": {},
   "outputs": [],
   "source": [
    "df['invoicedate']=pd.to_datetime(df['invoicedate'])"
   ]
  },
  {
   "cell_type": "code",
   "execution_count": 61,
   "id": "5fd5c48f-a790-4d31-a4e2-9d6b0f92ce22",
   "metadata": {},
   "outputs": [
    {
     "data": {
      "text/plain": [
       "(Timestamp('2010-12-01 08:26:00'), Timestamp('2011-12-09 12:50:00'))"
      ]
     },
     "execution_count": 61,
     "metadata": {},
     "output_type": "execute_result"
    }
   ],
   "source": [
    "df['invoicedate'].min(), df['invoicedate'].max()"
   ]
  },
  {
   "cell_type": "markdown",
   "id": "27afc8bc-f4b5-48fb-9be3-1ce8c83abb40",
   "metadata": {},
   "source": [
    "<font color=white>.</font>"
   ]
  },
  {
   "cell_type": "markdown",
   "id": "430d343f-1024-4a98-969f-8db062927a3b",
   "metadata": {},
   "source": [
    "#### Countries included"
   ]
  },
  {
   "cell_type": "code",
   "execution_count": 69,
   "id": "fa708904-b573-4362-b0e7-491ba649efa9",
   "metadata": {},
   "outputs": [
    {
     "data": {
      "text/plain": [
       "array(['United Kingdom', 'France', 'Australia', 'Netherlands', 'Germany',\n",
       "       'Norway', 'EIRE', 'Switzerland', 'Spain', 'Poland', 'Portugal',\n",
       "       'Italy', 'Belgium', 'Lithuania', 'Japan', 'Iceland',\n",
       "       'Channel Islands', 'Denmark', 'Cyprus', 'Sweden', 'Austria',\n",
       "       'Israel', 'Finland', 'Greece', 'Singapore', 'Lebanon',\n",
       "       'United Arab Emirates', 'Saudi Arabia', 'Czech Republic', 'Canada',\n",
       "       'Unspecified', 'Brazil', 'USA', 'European Community', 'Bahrain',\n",
       "       'Malta', 'RSA'], dtype=object)"
      ]
     },
     "execution_count": 69,
     "metadata": {},
     "output_type": "execute_result"
    }
   ],
   "source": [
    "df['country'].unique()"
   ]
  },
  {
   "cell_type": "code",
   "execution_count": 71,
   "id": "2be16e73-2b21-4ff4-b3e3-cf25b5399f44",
   "metadata": {},
   "outputs": [
    {
     "data": {
      "text/plain": [
       "37"
      ]
     },
     "execution_count": 71,
     "metadata": {},
     "output_type": "execute_result"
    }
   ],
   "source": [
    "len(list(df['country'].unique()))"
   ]
  },
  {
   "cell_type": "markdown",
   "id": "d4beeb4f-e900-4557-b56c-8d746618d42b",
   "metadata": {},
   "source": [
    "<font color=white>.</font>"
   ]
  },
  {
   "cell_type": "markdown",
   "id": "c82b6088-0015-4f6e-8c0f-683d1c89e1f2",
   "metadata": {},
   "source": [
    "#### Nulls"
   ]
  },
  {
   "cell_type": "markdown",
   "id": "af6e6ed8-1f55-44da-81f4-b16ceb237122",
   "metadata": {},
   "source": [
    "Dropped all entries that are missing an item description or customer ID."
   ]
  },
  {
   "cell_type": "code",
   "execution_count": 49,
   "id": "326eb237-9f63-484f-be97-a05547ce67c9",
   "metadata": {},
   "outputs": [],
   "source": [
    "df = df.dropna()"
   ]
  },
  {
   "cell_type": "code",
   "execution_count": 50,
   "id": "2cf6dd63-fc4f-4825-9ef5-fcd05bdf7695",
   "metadata": {},
   "outputs": [
    {
     "data": {
      "text/plain": [
       "invoiceno      0\n",
       "stockcode      0\n",
       "description    0\n",
       "quantity       0\n",
       "invoicedate    0\n",
       "unitprice      0\n",
       "customerid     0\n",
       "country        0\n",
       "total          0\n",
       "dtype: int64"
      ]
     },
     "execution_count": 50,
     "metadata": {},
     "output_type": "execute_result"
    }
   ],
   "source": [
    "df.isna().sum()"
   ]
  },
  {
   "cell_type": "code",
   "execution_count": 51,
   "id": "ccab7c3c-47b0-45ad-9e34-907ddd6f1fb1",
   "metadata": {},
   "outputs": [
    {
     "data": {
      "text/html": [
       "<div>\n",
       "<style scoped>\n",
       "    .dataframe tbody tr th:only-of-type {\n",
       "        vertical-align: middle;\n",
       "    }\n",
       "\n",
       "    .dataframe tbody tr th {\n",
       "        vertical-align: top;\n",
       "    }\n",
       "\n",
       "    .dataframe thead th {\n",
       "        text-align: right;\n",
       "    }\n",
       "</style>\n",
       "<table border=\"1\" class=\"dataframe\">\n",
       "  <thead>\n",
       "    <tr style=\"text-align: right;\">\n",
       "      <th></th>\n",
       "      <th>invoiceno</th>\n",
       "      <th>stockcode</th>\n",
       "      <th>description</th>\n",
       "      <th>quantity</th>\n",
       "      <th>invoicedate</th>\n",
       "      <th>unitprice</th>\n",
       "      <th>customerid</th>\n",
       "      <th>country</th>\n",
       "      <th>total</th>\n",
       "    </tr>\n",
       "  </thead>\n",
       "  <tbody>\n",
       "    <tr>\n",
       "      <th>0</th>\n",
       "      <td>536365</td>\n",
       "      <td>85123A</td>\n",
       "      <td>WHITE HANGING HEART T-LIGHT HOLDER</td>\n",
       "      <td>6</td>\n",
       "      <td>2010-12-01 08:26:00</td>\n",
       "      <td>2.55</td>\n",
       "      <td>17850.0</td>\n",
       "      <td>United Kingdom</td>\n",
       "      <td>15.30</td>\n",
       "    </tr>\n",
       "    <tr>\n",
       "      <th>1</th>\n",
       "      <td>536365</td>\n",
       "      <td>71053</td>\n",
       "      <td>WHITE METAL LANTERN</td>\n",
       "      <td>6</td>\n",
       "      <td>2010-12-01 08:26:00</td>\n",
       "      <td>3.39</td>\n",
       "      <td>17850.0</td>\n",
       "      <td>United Kingdom</td>\n",
       "      <td>20.34</td>\n",
       "    </tr>\n",
       "    <tr>\n",
       "      <th>2</th>\n",
       "      <td>536365</td>\n",
       "      <td>84406B</td>\n",
       "      <td>CREAM CUPID HEARTS COAT HANGER</td>\n",
       "      <td>8</td>\n",
       "      <td>2010-12-01 08:26:00</td>\n",
       "      <td>2.75</td>\n",
       "      <td>17850.0</td>\n",
       "      <td>United Kingdom</td>\n",
       "      <td>22.00</td>\n",
       "    </tr>\n",
       "    <tr>\n",
       "      <th>3</th>\n",
       "      <td>536365</td>\n",
       "      <td>84029G</td>\n",
       "      <td>KNITTED UNION FLAG HOT WATER BOTTLE</td>\n",
       "      <td>6</td>\n",
       "      <td>2010-12-01 08:26:00</td>\n",
       "      <td>3.39</td>\n",
       "      <td>17850.0</td>\n",
       "      <td>United Kingdom</td>\n",
       "      <td>20.34</td>\n",
       "    </tr>\n",
       "    <tr>\n",
       "      <th>4</th>\n",
       "      <td>536365</td>\n",
       "      <td>84029E</td>\n",
       "      <td>RED WOOLLY HOTTIE WHITE HEART.</td>\n",
       "      <td>6</td>\n",
       "      <td>2010-12-01 08:26:00</td>\n",
       "      <td>3.39</td>\n",
       "      <td>17850.0</td>\n",
       "      <td>United Kingdom</td>\n",
       "      <td>20.34</td>\n",
       "    </tr>\n",
       "  </tbody>\n",
       "</table>\n",
       "</div>"
      ],
      "text/plain": [
       "  invoiceno stockcode                          description  quantity  \\\n",
       "0    536365    85123A   WHITE HANGING HEART T-LIGHT HOLDER         6   \n",
       "1    536365     71053                  WHITE METAL LANTERN         6   \n",
       "2    536365    84406B       CREAM CUPID HEARTS COAT HANGER         8   \n",
       "3    536365    84029G  KNITTED UNION FLAG HOT WATER BOTTLE         6   \n",
       "4    536365    84029E       RED WOOLLY HOTTIE WHITE HEART.         6   \n",
       "\n",
       "          invoicedate  unitprice  customerid         country  total  \n",
       "0 2010-12-01 08:26:00       2.55     17850.0  United Kingdom  15.30  \n",
       "1 2010-12-01 08:26:00       3.39     17850.0  United Kingdom  20.34  \n",
       "2 2010-12-01 08:26:00       2.75     17850.0  United Kingdom  22.00  \n",
       "3 2010-12-01 08:26:00       3.39     17850.0  United Kingdom  20.34  \n",
       "4 2010-12-01 08:26:00       3.39     17850.0  United Kingdom  20.34  "
      ]
     },
     "execution_count": 51,
     "metadata": {},
     "output_type": "execute_result"
    }
   ],
   "source": [
    "df.head(5)"
   ]
  },
  {
   "cell_type": "code",
   "execution_count": 52,
   "id": "69bc9e4d-a1b7-4b7b-83d7-9b3ba07776ce",
   "metadata": {},
   "outputs": [],
   "source": [
    "df['total']=df['unitprice']*df['quantity']"
   ]
  },
  {
   "cell_type": "code",
   "execution_count": 250,
   "id": "b974df42-a115-4424-9330-8e3124577ac4",
   "metadata": {},
   "outputs": [],
   "source": [
    "# Drop all rows where description is \"discount\", \"manual\", or \"postage\"\n",
    "\n",
    "df = df.drop(df[df['description']=='Discount'].index)\n",
    "df = df.drop(df[df['description']=='Manual'].index)\n",
    "df = df.drop(df[df['description']=='Postage'].index)"
   ]
  },
  {
   "cell_type": "markdown",
   "id": "06a3a8f7-e630-449d-80c3-594811f4c7ac",
   "metadata": {},
   "source": [
    "<font color=white>.</font>"
   ]
  },
  {
   "cell_type": "markdown",
   "id": "732c67e3-e99d-4ebc-bc15-f824b21f59d0",
   "metadata": {},
   "source": [
    "#### Top Individual Spenders"
   ]
  },
  {
   "cell_type": "code",
   "execution_count": 582,
   "id": "e14cc688-2f75-4b3c-becb-96bc1f6ca401",
   "metadata": {},
   "outputs": [
    {
     "data": {
      "text/plain": [
       "4363"
      ]
     },
     "execution_count": 582,
     "metadata": {},
     "output_type": "execute_result"
    }
   ],
   "source": [
    "len(df['customerid'].unique())"
   ]
  },
  {
   "cell_type": "code",
   "execution_count": 172,
   "id": "bd31e49b-6998-4f08-a25d-20a82cbddcba",
   "metadata": {},
   "outputs": [
    {
     "data": {
      "text/html": [
       "<div>\n",
       "<style scoped>\n",
       "    .dataframe tbody tr th:only-of-type {\n",
       "        vertical-align: middle;\n",
       "    }\n",
       "\n",
       "    .dataframe tbody tr th {\n",
       "        vertical-align: top;\n",
       "    }\n",
       "\n",
       "    .dataframe thead th {\n",
       "        text-align: right;\n",
       "    }\n",
       "</style>\n",
       "<table border=\"1\" class=\"dataframe\">\n",
       "  <thead>\n",
       "    <tr style=\"text-align: right;\">\n",
       "      <th></th>\n",
       "      <th>quantity</th>\n",
       "      <th>total</th>\n",
       "      <th>country</th>\n",
       "    </tr>\n",
       "    <tr>\n",
       "      <th>customerid</th>\n",
       "      <th></th>\n",
       "      <th></th>\n",
       "      <th></th>\n",
       "    </tr>\n",
       "  </thead>\n",
       "  <tbody>\n",
       "    <tr>\n",
       "      <th>14646.0</th>\n",
       "      <td>197200</td>\n",
       "      <td>279801.02</td>\n",
       "      <td>Netherlands</td>\n",
       "    </tr>\n",
       "    <tr>\n",
       "      <th>18102.0</th>\n",
       "      <td>64124</td>\n",
       "      <td>259657.30</td>\n",
       "      <td>United Kingdom</td>\n",
       "    </tr>\n",
       "    <tr>\n",
       "      <th>17450.0</th>\n",
       "      <td>69041</td>\n",
       "      <td>189735.53</td>\n",
       "      <td>United Kingdom</td>\n",
       "    </tr>\n",
       "    <tr>\n",
       "      <th>14911.0</th>\n",
       "      <td>77235</td>\n",
       "      <td>133090.85</td>\n",
       "      <td>EIRE</td>\n",
       "    </tr>\n",
       "    <tr>\n",
       "      <th>12415.0</th>\n",
       "      <td>77242</td>\n",
       "      <td>123725.45</td>\n",
       "      <td>Australia</td>\n",
       "    </tr>\n",
       "    <tr>\n",
       "      <th>14156.0</th>\n",
       "      <td>57029</td>\n",
       "      <td>114517.47</td>\n",
       "      <td>EIRE</td>\n",
       "    </tr>\n",
       "    <tr>\n",
       "      <th>17511.0</th>\n",
       "      <td>63033</td>\n",
       "      <td>88193.23</td>\n",
       "      <td>United Kingdom</td>\n",
       "    </tr>\n",
       "    <tr>\n",
       "      <th>16684.0</th>\n",
       "      <td>49391</td>\n",
       "      <td>65920.12</td>\n",
       "      <td>United Kingdom</td>\n",
       "    </tr>\n",
       "    <tr>\n",
       "      <th>14096.0</th>\n",
       "      <td>16352</td>\n",
       "      <td>65164.79</td>\n",
       "      <td>United Kingdom</td>\n",
       "    </tr>\n",
       "    <tr>\n",
       "      <th>13694.0</th>\n",
       "      <td>61872</td>\n",
       "      <td>63029.70</td>\n",
       "      <td>United Kingdom</td>\n",
       "    </tr>\n",
       "  </tbody>\n",
       "</table>\n",
       "</div>"
      ],
      "text/plain": [
       "            quantity      total         country\n",
       "customerid                                     \n",
       "14646.0       197200  279801.02     Netherlands\n",
       "18102.0        64124  259657.30  United Kingdom\n",
       "17450.0        69041  189735.53  United Kingdom\n",
       "14911.0        77235  133090.85            EIRE\n",
       "12415.0        77242  123725.45       Australia\n",
       "14156.0        57029  114517.47            EIRE\n",
       "17511.0        63033   88193.23  United Kingdom\n",
       "16684.0        49391   65920.12  United Kingdom\n",
       "14096.0        16352   65164.79  United Kingdom\n",
       "13694.0        61872   63029.70  United Kingdom"
      ]
     },
     "execution_count": 172,
     "metadata": {},
     "output_type": "execute_result"
    }
   ],
   "source": [
    "pd.merge(df.groupby('customerid').sum().sort_values(by = 'total', ascending=False)[['quantity', 'total']], \n",
    "         buyers, left_on='customerid', right_on='customerid').head(10)"
   ]
  },
  {
   "cell_type": "markdown",
   "id": "fcc05ba3-4751-41d8-891c-a85ce19bf377",
   "metadata": {},
   "source": [
    "Dataset also seems to includes items that are being returned, and negative total (money returned to customers.) Need to check out rows for these customers to see if they include initial purchase, or return only."
   ]
  },
  {
   "cell_type": "markdown",
   "id": "ce15e2cf-49ec-4491-ac73-3bb13c09f6e8",
   "metadata": {},
   "source": [
    " "
   ]
  },
  {
   "cell_type": "markdown",
   "id": "e32a6378-a6c9-496d-86cd-e3c21706ef4e",
   "metadata": {},
   "source": [
    "#### Top Individual Returners"
   ]
  },
  {
   "cell_type": "code",
   "execution_count": 107,
   "id": "9fd66b22-99e1-44b6-9eab-9bfb7fcab04f",
   "metadata": {},
   "outputs": [
    {
     "data": {
      "text/html": [
       "<div>\n",
       "<style scoped>\n",
       "    .dataframe tbody tr th:only-of-type {\n",
       "        vertical-align: middle;\n",
       "    }\n",
       "\n",
       "    .dataframe tbody tr th {\n",
       "        vertical-align: top;\n",
       "    }\n",
       "\n",
       "    .dataframe thead th {\n",
       "        text-align: right;\n",
       "    }\n",
       "</style>\n",
       "<table border=\"1\" class=\"dataframe\">\n",
       "  <thead>\n",
       "    <tr style=\"text-align: right;\">\n",
       "      <th></th>\n",
       "      <th>quantity</th>\n",
       "      <th>total</th>\n",
       "      <th>country</th>\n",
       "    </tr>\n",
       "    <tr>\n",
       "      <th>customerid</th>\n",
       "      <th></th>\n",
       "      <th></th>\n",
       "      <th></th>\n",
       "    </tr>\n",
       "  </thead>\n",
       "  <tbody>\n",
       "    <tr>\n",
       "      <th>16446.0</th>\n",
       "      <td>-80995</td>\n",
       "      <td>-168469.60</td>\n",
       "      <td>United Kingdom</td>\n",
       "    </tr>\n",
       "    <tr>\n",
       "      <th>12346.0</th>\n",
       "      <td>-74215</td>\n",
       "      <td>-77183.60</td>\n",
       "      <td>United Kingdom</td>\n",
       "    </tr>\n",
       "    <tr>\n",
       "      <th>15749.0</th>\n",
       "      <td>-9014</td>\n",
       "      <td>-22998.40</td>\n",
       "      <td>United Kingdom</td>\n",
       "    </tr>\n",
       "    <tr>\n",
       "      <th>16029.0</th>\n",
       "      <td>-8005</td>\n",
       "      <td>-22830.99</td>\n",
       "      <td>United Kingdom</td>\n",
       "    </tr>\n",
       "    <tr>\n",
       "      <th>12931.0</th>\n",
       "      <td>-4427</td>\n",
       "      <td>-8511.15</td>\n",
       "      <td>United Kingdom</td>\n",
       "    </tr>\n",
       "    <tr>\n",
       "      <th>...</th>\n",
       "      <td>...</td>\n",
       "      <td>...</td>\n",
       "      <td>...</td>\n",
       "    </tr>\n",
       "    <tr>\n",
       "      <th>12933.0</th>\n",
       "      <td>-1</td>\n",
       "      <td>-1.25</td>\n",
       "      <td>United Kingdom</td>\n",
       "    </tr>\n",
       "    <tr>\n",
       "      <th>17164.0</th>\n",
       "      <td>-1</td>\n",
       "      <td>-0.95</td>\n",
       "      <td>United Kingdom</td>\n",
       "    </tr>\n",
       "    <tr>\n",
       "      <th>16566.0</th>\n",
       "      <td>-1</td>\n",
       "      <td>-0.65</td>\n",
       "      <td>United Kingdom</td>\n",
       "    </tr>\n",
       "    <tr>\n",
       "      <th>15903.0</th>\n",
       "      <td>-1</td>\n",
       "      <td>-0.42</td>\n",
       "      <td>United Kingdom</td>\n",
       "    </tr>\n",
       "    <tr>\n",
       "      <th>17334.0</th>\n",
       "      <td>-1</td>\n",
       "      <td>-0.42</td>\n",
       "      <td>United Kingdom</td>\n",
       "    </tr>\n",
       "  </tbody>\n",
       "</table>\n",
       "<p>1549 rows × 3 columns</p>\n",
       "</div>"
      ],
      "text/plain": [
       "            quantity      total         country\n",
       "customerid                                     \n",
       "16446.0       -80995 -168469.60  United Kingdom\n",
       "12346.0       -74215  -77183.60  United Kingdom\n",
       "15749.0        -9014  -22998.40  United Kingdom\n",
       "16029.0        -8005  -22830.99  United Kingdom\n",
       "12931.0        -4427   -8511.15  United Kingdom\n",
       "...              ...        ...             ...\n",
       "12933.0           -1      -1.25  United Kingdom\n",
       "17164.0           -1      -0.95  United Kingdom\n",
       "16566.0           -1      -0.65  United Kingdom\n",
       "15903.0           -1      -0.42  United Kingdom\n",
       "17334.0           -1      -0.42  United Kingdom\n",
       "\n",
       "[1549 rows x 3 columns]"
      ]
     },
     "execution_count": 107,
     "metadata": {},
     "output_type": "execute_result"
    }
   ],
   "source": [
    "pd.merge(df[df['quantity']<0].groupby('customerid').sum().sort_values(by = 'total', ascending=True)[['quantity', 'total']], buyers, left_on='customerid', right_on='customerid')"
   ]
  },
  {
   "cell_type": "markdown",
   "id": "7bea2d00-76ca-47d2-ab22-48be6a740ba4",
   "metadata": {},
   "source": [
    "At a glance, the UK seems to be topping the charts for returning the most items."
   ]
  },
  {
   "cell_type": "markdown",
   "id": "be88c0c3-1001-426b-9de4-d84a5e9b6712",
   "metadata": {},
   "source": [
    " "
   ]
  },
  {
   "cell_type": "markdown",
   "id": "b4c2247e-e5c2-408e-878f-15fa2cf2f9a4",
   "metadata": {},
   "source": [
    " "
   ]
  },
  {
   "cell_type": "code",
   "execution_count": 150,
   "id": "818ed09e-2016-40de-b1c0-9c6a78d93894",
   "metadata": {},
   "outputs": [
    {
     "data": {
      "text/html": [
       "<div>\n",
       "<style scoped>\n",
       "    .dataframe tbody tr th:only-of-type {\n",
       "        vertical-align: middle;\n",
       "    }\n",
       "\n",
       "    .dataframe tbody tr th {\n",
       "        vertical-align: top;\n",
       "    }\n",
       "\n",
       "    .dataframe thead th {\n",
       "        text-align: right;\n",
       "    }\n",
       "</style>\n",
       "<table border=\"1\" class=\"dataframe\">\n",
       "  <thead>\n",
       "    <tr style=\"text-align: right;\">\n",
       "      <th></th>\n",
       "      <th>invoiceno</th>\n",
       "      <th>stockcode</th>\n",
       "      <th>description</th>\n",
       "      <th>quantity</th>\n",
       "      <th>invoicedate</th>\n",
       "      <th>unitprice</th>\n",
       "      <th>customerid</th>\n",
       "      <th>country</th>\n",
       "      <th>total</th>\n",
       "    </tr>\n",
       "  </thead>\n",
       "  <tbody>\n",
       "    <tr>\n",
       "      <th>194354</th>\n",
       "      <td>553573</td>\n",
       "      <td>22980</td>\n",
       "      <td>PANTRY SCRUBBING BRUSH</td>\n",
       "      <td>1</td>\n",
       "      <td>2011-05-18 09:52:00</td>\n",
       "      <td>1.65</td>\n",
       "      <td>16446.0</td>\n",
       "      <td>United Kingdom</td>\n",
       "      <td>1.65</td>\n",
       "    </tr>\n",
       "    <tr>\n",
       "      <th>194355</th>\n",
       "      <td>553573</td>\n",
       "      <td>22982</td>\n",
       "      <td>PANTRY PASTRY BRUSH</td>\n",
       "      <td>1</td>\n",
       "      <td>2011-05-18 09:52:00</td>\n",
       "      <td>1.25</td>\n",
       "      <td>16446.0</td>\n",
       "      <td>United Kingdom</td>\n",
       "      <td>1.25</td>\n",
       "    </tr>\n",
       "    <tr>\n",
       "      <th>540421</th>\n",
       "      <td>581483</td>\n",
       "      <td>23843</td>\n",
       "      <td>PAPER CRAFT , LITTLE BIRDIE</td>\n",
       "      <td>80995</td>\n",
       "      <td>2011-12-09 09:15:00</td>\n",
       "      <td>2.08</td>\n",
       "      <td>16446.0</td>\n",
       "      <td>United Kingdom</td>\n",
       "      <td>168469.60</td>\n",
       "    </tr>\n",
       "    <tr>\n",
       "      <th>540422</th>\n",
       "      <td>C581484</td>\n",
       "      <td>23843</td>\n",
       "      <td>PAPER CRAFT , LITTLE BIRDIE</td>\n",
       "      <td>-80995</td>\n",
       "      <td>2011-12-09 09:27:00</td>\n",
       "      <td>2.08</td>\n",
       "      <td>16446.0</td>\n",
       "      <td>United Kingdom</td>\n",
       "      <td>-168469.60</td>\n",
       "    </tr>\n",
       "  </tbody>\n",
       "</table>\n",
       "</div>"
      ],
      "text/plain": [
       "       invoiceno stockcode                  description  quantity  \\\n",
       "194354    553573     22980       PANTRY SCRUBBING BRUSH         1   \n",
       "194355    553573     22982          PANTRY PASTRY BRUSH         1   \n",
       "540421    581483     23843  PAPER CRAFT , LITTLE BIRDIE     80995   \n",
       "540422   C581484     23843  PAPER CRAFT , LITTLE BIRDIE    -80995   \n",
       "\n",
       "               invoicedate  unitprice  customerid         country      total  \n",
       "194354 2011-05-18 09:52:00       1.65     16446.0  United Kingdom       1.65  \n",
       "194355 2011-05-18 09:52:00       1.25     16446.0  United Kingdom       1.25  \n",
       "540421 2011-12-09 09:15:00       2.08     16446.0  United Kingdom  168469.60  \n",
       "540422 2011-12-09 09:27:00       2.08     16446.0  United Kingdom -168469.60  "
      ]
     },
     "execution_count": 150,
     "metadata": {},
     "output_type": "execute_result"
    }
   ],
   "source": [
    "df[df['customerid']==16446.0]"
   ]
  },
  {
   "cell_type": "markdown",
   "id": "3fa7af6b-47ff-4afd-93fc-c721fa027357",
   "metadata": {},
   "source": [
    "* This person spent $168,469.60 on 80,995 \"PAPER CRAFT , LITTLE BIRDIE\" and then returned it 12 minutes later."
   ]
  },
  {
   "cell_type": "markdown",
   "id": "dd076491-de22-4774-95ec-29e98c225e57",
   "metadata": {},
   "source": [
    " "
   ]
  },
  {
   "cell_type": "code",
   "execution_count": 151,
   "id": "2ead05e9-af1f-4dd1-b09a-14f279344bd0",
   "metadata": {},
   "outputs": [
    {
     "data": {
      "text/html": [
       "<div>\n",
       "<style scoped>\n",
       "    .dataframe tbody tr th:only-of-type {\n",
       "        vertical-align: middle;\n",
       "    }\n",
       "\n",
       "    .dataframe tbody tr th {\n",
       "        vertical-align: top;\n",
       "    }\n",
       "\n",
       "    .dataframe thead th {\n",
       "        text-align: right;\n",
       "    }\n",
       "</style>\n",
       "<table border=\"1\" class=\"dataframe\">\n",
       "  <thead>\n",
       "    <tr style=\"text-align: right;\">\n",
       "      <th></th>\n",
       "      <th>invoiceno</th>\n",
       "      <th>stockcode</th>\n",
       "      <th>description</th>\n",
       "      <th>quantity</th>\n",
       "      <th>invoicedate</th>\n",
       "      <th>unitprice</th>\n",
       "      <th>customerid</th>\n",
       "      <th>country</th>\n",
       "      <th>total</th>\n",
       "    </tr>\n",
       "  </thead>\n",
       "  <tbody>\n",
       "    <tr>\n",
       "      <th>5232</th>\n",
       "      <td>C536850</td>\n",
       "      <td>22942</td>\n",
       "      <td>CHRISTMAS LIGHTS 10 SANTAS</td>\n",
       "      <td>-48</td>\n",
       "      <td>2010-12-03 09:47:00</td>\n",
       "      <td>7.65</td>\n",
       "      <td>14213.0</td>\n",
       "      <td>United Kingdom</td>\n",
       "      <td>-367.2</td>\n",
       "    </tr>\n",
       "    <tr>\n",
       "      <th>5233</th>\n",
       "      <td>C536850</td>\n",
       "      <td>22689</td>\n",
       "      <td>DOORMAT MERRY CHRISTMAS RED</td>\n",
       "      <td>-50</td>\n",
       "      <td>2010-12-03 09:47:00</td>\n",
       "      <td>6.75</td>\n",
       "      <td>14213.0</td>\n",
       "      <td>United Kingdom</td>\n",
       "      <td>-337.5</td>\n",
       "    </tr>\n",
       "    <tr>\n",
       "      <th>5234</th>\n",
       "      <td>C536850</td>\n",
       "      <td>22591</td>\n",
       "      <td>CARDHOLDER GINGHAM CHRISTMAS TREE</td>\n",
       "      <td>-50</td>\n",
       "      <td>2010-12-03 09:47:00</td>\n",
       "      <td>2.55</td>\n",
       "      <td>14213.0</td>\n",
       "      <td>United Kingdom</td>\n",
       "      <td>-127.5</td>\n",
       "    </tr>\n",
       "    <tr>\n",
       "      <th>5235</th>\n",
       "      <td>C536850</td>\n",
       "      <td>22580</td>\n",
       "      <td>ADVENT CALENDAR GINGHAM SACK</td>\n",
       "      <td>-48</td>\n",
       "      <td>2010-12-03 09:47:00</td>\n",
       "      <td>4.95</td>\n",
       "      <td>14213.0</td>\n",
       "      <td>United Kingdom</td>\n",
       "      <td>-237.6</td>\n",
       "    </tr>\n",
       "    <tr>\n",
       "      <th>5236</th>\n",
       "      <td>C536850</td>\n",
       "      <td>22186</td>\n",
       "      <td>RED STAR CARD HOLDER</td>\n",
       "      <td>-48</td>\n",
       "      <td>2010-12-03 09:47:00</td>\n",
       "      <td>2.55</td>\n",
       "      <td>14213.0</td>\n",
       "      <td>United Kingdom</td>\n",
       "      <td>-122.4</td>\n",
       "    </tr>\n",
       "  </tbody>\n",
       "</table>\n",
       "</div>"
      ],
      "text/plain": [
       "     invoiceno stockcode                        description  quantity  \\\n",
       "5232   C536850     22942        CHRISTMAS LIGHTS 10 SANTAS        -48   \n",
       "5233   C536850     22689       DOORMAT MERRY CHRISTMAS RED        -50   \n",
       "5234   C536850     22591  CARDHOLDER GINGHAM CHRISTMAS TREE       -50   \n",
       "5235   C536850     22580       ADVENT CALENDAR GINGHAM SACK       -48   \n",
       "5236   C536850     22186               RED STAR CARD HOLDER       -48   \n",
       "\n",
       "             invoicedate  unitprice  customerid         country  total  \n",
       "5232 2010-12-03 09:47:00       7.65     14213.0  United Kingdom -367.2  \n",
       "5233 2010-12-03 09:47:00       6.75     14213.0  United Kingdom -337.5  \n",
       "5234 2010-12-03 09:47:00       2.55     14213.0  United Kingdom -127.5  \n",
       "5235 2010-12-03 09:47:00       4.95     14213.0  United Kingdom -237.6  \n",
       "5236 2010-12-03 09:47:00       2.55     14213.0  United Kingdom -122.4  "
      ]
     },
     "execution_count": 151,
     "metadata": {},
     "output_type": "execute_result"
    }
   ],
   "source": [
    "df[df['customerid']==14213.0]"
   ]
  },
  {
   "cell_type": "markdown",
   "id": "ee6b361e-2ff8-48ca-806a-f9ffb0df79ec",
   "metadata": {},
   "source": [
    "* This person returned many items that they had bought before data collection began, so there are no entries for their original purchases."
   ]
  },
  {
   "cell_type": "markdown",
   "id": "d140968e-93ce-41f3-bc01-86b36fd4cefc",
   "metadata": {},
   "source": [
    " "
   ]
  },
  {
   "cell_type": "markdown",
   "id": "1d03b9e6-d5c3-46e4-8060-ac1e8f53ca6f",
   "metadata": {},
   "source": [
    "#### Item Returns"
   ]
  },
  {
   "cell_type": "markdown",
   "id": "680227f6-94f4-457f-afb8-43bebf262044",
   "metadata": {},
   "source": [
    "A customer returning an item implies that they bought it at one point, but not everyone has their initial purchases listed in the dataset. This makes their overall spend amount show as negative and affects overall analysis.\n",
    "\n",
    "In order to even out stats for returners and total spend on each product, I duplicated the unmatched return rows, took the absolute value of the quantity and total, and appended the \"fake\" purchases onto the original dataframe.\n",
    "\n",
    "Since I won't be looking at purchase time data in depth, I set the purchase timestamps to '2010-11-01 07:00:00' (1 month before the earliest date in data collection. This also  should account for winter seasonal items, hopefully.) \n",
    "\n",
    "~1000 rows in ~40,000 total rows of data"
   ]
  },
  {
   "cell_type": "code",
   "execution_count": 274,
   "id": "c1bc4e6e-dcbc-414a-aad0-50a57fe739c0",
   "metadata": {},
   "outputs": [
    {
     "data": {
      "text/plain": [
       "invoiceno_x      0\n",
       "stockcode_x      0\n",
       "description      0\n",
       "quantity_x       0\n",
       "invoicedate_x    0\n",
       "unitprice_x      0\n",
       "customerid       0\n",
       "country_x        0\n",
       "total_x          0\n",
       "invoiceno_y      0\n",
       "stockcode_y      0\n",
       "quantity_y       0\n",
       "invoicedate_y    0\n",
       "unitprice_y      0\n",
       "country_y        0\n",
       "total_y          0\n",
       "dtype: int64"
      ]
     },
     "execution_count": 274,
     "metadata": {},
     "output_type": "execute_result"
    }
   ],
   "source": [
    "# Find rows where purchase was returned but no row for purchase made\n",
    "negs = df[df['quantity']<0] #8653\n",
    "\n",
    "# Join positive purchases on stockcode and customerid\n",
    "negs.merge(right=df[df['quantity']>0], how='left', left_on=['customerid', 'description'], right_on=['customerid', 'description']).isna().sum()"
   ]
  },
  {
   "cell_type": "code",
   "execution_count": 275,
   "id": "5d486fc8-f889-42c4-ae4e-4ee02d003fec",
   "metadata": {},
   "outputs": [],
   "source": [
    "diff = negs.merge(right=df[df['quantity']>0], how='left', left_on=['customerid', 'description'], right_on=['customerid', 'description'])\n",
    "diff = diff[diff['invoiceno_y'].isna()].iloc[:, :9]\n",
    "diff.columns=df.columns\n",
    "diff['invoicedate']='2010-11-01 07:00:00'\n",
    "diff['quantity']=np.absolute(diff['quantity'])\n",
    "diff['total']=np.absolute(diff['total'])"
   ]
  },
  {
   "cell_type": "code",
   "execution_count": 154,
   "id": "a277e44f-b34b-4d54-a0ba-b8efadf99330",
   "metadata": {},
   "outputs": [],
   "source": [
    "# Don't run me twice\n",
    "df = pd.concat(objs=[df, diff], axis=0)"
   ]
  },
  {
   "cell_type": "markdown",
   "id": "fe8f58cc-0e40-4a32-95b9-c3cac45aa074",
   "metadata": {},
   "source": [
    "<font color=white>.</font>"
   ]
  },
  {
   "cell_type": "markdown",
   "id": "a685cb0d-2605-4a47-9e7d-1bfe036def47",
   "metadata": {},
   "source": [
    "Checking work"
   ]
  },
  {
   "cell_type": "code",
   "execution_count": 155,
   "id": "7e21eb15-6c5d-4816-822a-24df0fe651ca",
   "metadata": {},
   "outputs": [
    {
     "data": {
      "text/plain": [
       "invoiceno_x      0\n",
       "stockcode_x      0\n",
       "description      0\n",
       "quantity_x       0\n",
       "invoicedate_x    0\n",
       "unitprice_x      0\n",
       "customerid       0\n",
       "country_x        0\n",
       "total_x          0\n",
       "invoiceno_y      0\n",
       "stockcode_y      0\n",
       "quantity_y       0\n",
       "invoicedate_y    0\n",
       "unitprice_y      0\n",
       "country_y        0\n",
       "total_y          0\n",
       "dtype: int64"
      ]
     },
     "execution_count": 155,
     "metadata": {},
     "output_type": "execute_result"
    }
   ],
   "source": [
    "negs = df[df['quantity']<0] #8653\n",
    "\n",
    "# Join positive purchases on stockcode and customerid\n",
    "negs.merge(right=df[df['quantity']>0], how='left', left_on=['customerid', 'description'], right_on=['customerid', 'description']).isna().sum()"
   ]
  },
  {
   "cell_type": "markdown",
   "id": "693205a2-6628-410b-9a58-13e02432dde7",
   "metadata": {},
   "source": [
    " "
   ]
  },
  {
   "cell_type": "markdown",
   "id": "7c5a2fa8-df09-4fab-9965-ad04c70f5f2d",
   "metadata": {},
   "source": [
    " "
   ]
  },
  {
   "cell_type": "markdown",
   "id": "ca0ddeb9-32c1-4b21-88aa-4c6bb61ad527",
   "metadata": {},
   "source": [
    " ## Exploratory Analysis"
   ]
  },
  {
   "cell_type": "markdown",
   "id": "ec6192de-4e7f-410f-974d-4d8e8e0d8a33",
   "metadata": {},
   "source": [
    "### Top customers"
   ]
  },
  {
   "cell_type": "code",
   "execution_count": 100,
   "id": "5f8056b0-9f6e-47c7-b311-7184996dfe0b",
   "metadata": {},
   "outputs": [
    {
     "data": {
      "text/html": [
       "<div>\n",
       "<style scoped>\n",
       "    .dataframe tbody tr th:only-of-type {\n",
       "        vertical-align: middle;\n",
       "    }\n",
       "\n",
       "    .dataframe tbody tr th {\n",
       "        vertical-align: top;\n",
       "    }\n",
       "\n",
       "    .dataframe thead th {\n",
       "        text-align: right;\n",
       "    }\n",
       "</style>\n",
       "<table border=\"1\" class=\"dataframe\">\n",
       "  <thead>\n",
       "    <tr style=\"text-align: right;\">\n",
       "      <th></th>\n",
       "      <th>invoiceno</th>\n",
       "      <th>stockcode</th>\n",
       "      <th>description</th>\n",
       "      <th>quantity</th>\n",
       "      <th>invoicedate</th>\n",
       "      <th>unitprice</th>\n",
       "      <th>country</th>\n",
       "      <th>total</th>\n",
       "    </tr>\n",
       "    <tr>\n",
       "      <th>customerid</th>\n",
       "      <th></th>\n",
       "      <th></th>\n",
       "      <th></th>\n",
       "      <th></th>\n",
       "      <th></th>\n",
       "      <th></th>\n",
       "      <th></th>\n",
       "      <th></th>\n",
       "    </tr>\n",
       "  </thead>\n",
       "  <tbody>\n",
       "    <tr>\n",
       "      <th>17841.0</th>\n",
       "      <td>7971</td>\n",
       "      <td>7971</td>\n",
       "      <td>7971</td>\n",
       "      <td>7971</td>\n",
       "      <td>7971</td>\n",
       "      <td>7971</td>\n",
       "      <td>7971</td>\n",
       "      <td>7971</td>\n",
       "    </tr>\n",
       "    <tr>\n",
       "      <th>14911.0</th>\n",
       "      <td>5898</td>\n",
       "      <td>5898</td>\n",
       "      <td>5898</td>\n",
       "      <td>5898</td>\n",
       "      <td>5898</td>\n",
       "      <td>5898</td>\n",
       "      <td>5898</td>\n",
       "      <td>5898</td>\n",
       "    </tr>\n",
       "    <tr>\n",
       "      <th>14096.0</th>\n",
       "      <td>5127</td>\n",
       "      <td>5127</td>\n",
       "      <td>5127</td>\n",
       "      <td>5127</td>\n",
       "      <td>5127</td>\n",
       "      <td>5127</td>\n",
       "      <td>5127</td>\n",
       "      <td>5127</td>\n",
       "    </tr>\n",
       "    <tr>\n",
       "      <th>12748.0</th>\n",
       "      <td>4625</td>\n",
       "      <td>4625</td>\n",
       "      <td>4625</td>\n",
       "      <td>4625</td>\n",
       "      <td>4625</td>\n",
       "      <td>4625</td>\n",
       "      <td>4625</td>\n",
       "      <td>4625</td>\n",
       "    </tr>\n",
       "    <tr>\n",
       "      <th>14606.0</th>\n",
       "      <td>2780</td>\n",
       "      <td>2780</td>\n",
       "      <td>2780</td>\n",
       "      <td>2780</td>\n",
       "      <td>2780</td>\n",
       "      <td>2780</td>\n",
       "      <td>2780</td>\n",
       "      <td>2780</td>\n",
       "    </tr>\n",
       "    <tr>\n",
       "      <th>15311.0</th>\n",
       "      <td>2491</td>\n",
       "      <td>2491</td>\n",
       "      <td>2491</td>\n",
       "      <td>2491</td>\n",
       "      <td>2491</td>\n",
       "      <td>2491</td>\n",
       "      <td>2491</td>\n",
       "      <td>2491</td>\n",
       "    </tr>\n",
       "    <tr>\n",
       "      <th>14646.0</th>\n",
       "      <td>2083</td>\n",
       "      <td>2083</td>\n",
       "      <td>2083</td>\n",
       "      <td>2083</td>\n",
       "      <td>2083</td>\n",
       "      <td>2083</td>\n",
       "      <td>2083</td>\n",
       "      <td>2083</td>\n",
       "    </tr>\n",
       "    <tr>\n",
       "      <th>13089.0</th>\n",
       "      <td>1857</td>\n",
       "      <td>1857</td>\n",
       "      <td>1857</td>\n",
       "      <td>1857</td>\n",
       "      <td>1857</td>\n",
       "      <td>1857</td>\n",
       "      <td>1857</td>\n",
       "      <td>1857</td>\n",
       "    </tr>\n",
       "    <tr>\n",
       "      <th>13263.0</th>\n",
       "      <td>1673</td>\n",
       "      <td>1673</td>\n",
       "      <td>1673</td>\n",
       "      <td>1673</td>\n",
       "      <td>1673</td>\n",
       "      <td>1673</td>\n",
       "      <td>1673</td>\n",
       "      <td>1673</td>\n",
       "    </tr>\n",
       "    <tr>\n",
       "      <th>14298.0</th>\n",
       "      <td>1640</td>\n",
       "      <td>1640</td>\n",
       "      <td>1640</td>\n",
       "      <td>1640</td>\n",
       "      <td>1640</td>\n",
       "      <td>1640</td>\n",
       "      <td>1640</td>\n",
       "      <td>1640</td>\n",
       "    </tr>\n",
       "  </tbody>\n",
       "</table>\n",
       "</div>"
      ],
      "text/plain": [
       "            invoiceno  stockcode  description  quantity  invoicedate  \\\n",
       "customerid                                                             \n",
       "17841.0          7971       7971         7971      7971         7971   \n",
       "14911.0          5898       5898         5898      5898         5898   \n",
       "14096.0          5127       5127         5127      5127         5127   \n",
       "12748.0          4625       4625         4625      4625         4625   \n",
       "14606.0          2780       2780         2780      2780         2780   \n",
       "15311.0          2491       2491         2491      2491         2491   \n",
       "14646.0          2083       2083         2083      2083         2083   \n",
       "13089.0          1857       1857         1857      1857         1857   \n",
       "13263.0          1673       1673         1673      1673         1673   \n",
       "14298.0          1640       1640         1640      1640         1640   \n",
       "\n",
       "            unitprice  country  total  \n",
       "customerid                             \n",
       "17841.0          7971     7971   7971  \n",
       "14911.0          5898     5898   5898  \n",
       "14096.0          5127     5127   5127  \n",
       "12748.0          4625     4625   4625  \n",
       "14606.0          2780     2780   2780  \n",
       "15311.0          2491     2491   2491  \n",
       "14646.0          2083     2083   2083  \n",
       "13089.0          1857     1857   1857  \n",
       "13263.0          1673     1673   1673  \n",
       "14298.0          1640     1640   1640  "
      ]
     },
     "execution_count": 100,
     "metadata": {},
     "output_type": "execute_result"
    }
   ],
   "source": [
    "df.groupby('customerid').count().sort_values(by = 'invoiceno', ascending=False).head(10)"
   ]
  },
  {
   "cell_type": "markdown",
   "id": "73b016d8-2e45-4c5d-8467-ab9feb7d1663",
   "metadata": {},
   "source": [
    " "
   ]
  },
  {
   "cell_type": "markdown",
   "id": "7964d80a-ebfd-4a18-9942-b9e8efe182f9",
   "metadata": {},
   "source": [
    "### Most popular products"
   ]
  },
  {
   "cell_type": "markdown",
   "id": "85feaf34-988b-4d3f-86fe-64ffc2b3c8f5",
   "metadata": {},
   "source": [
    "<span style='color:green'><h4> Total number of individual purchases for each item (quantity per order not considered). </h4></span>"
   ]
  },
  {
   "cell_type": "code",
   "execution_count": 252,
   "id": "1486c086-0440-48ab-980b-cfff508ca209",
   "metadata": {},
   "outputs": [
    {
     "data": {
      "text/html": [
       "<div>\n",
       "<style scoped>\n",
       "    .dataframe tbody tr th:only-of-type {\n",
       "        vertical-align: middle;\n",
       "    }\n",
       "\n",
       "    .dataframe tbody tr th {\n",
       "        vertical-align: top;\n",
       "    }\n",
       "\n",
       "    .dataframe thead th {\n",
       "        text-align: right;\n",
       "    }\n",
       "</style>\n",
       "<table border=\"1\" class=\"dataframe\">\n",
       "  <thead>\n",
       "    <tr style=\"text-align: right;\">\n",
       "      <th></th>\n",
       "      <th>description</th>\n",
       "      <th>invoiceno</th>\n",
       "    </tr>\n",
       "  </thead>\n",
       "  <tbody>\n",
       "    <tr>\n",
       "      <th>0</th>\n",
       "      <td>WHITE HANGING HEART T-LIGHT HOLDER</td>\n",
       "      <td>2072</td>\n",
       "    </tr>\n",
       "    <tr>\n",
       "      <th>1</th>\n",
       "      <td>REGENCY CAKESTAND 3 TIER</td>\n",
       "      <td>1913</td>\n",
       "    </tr>\n",
       "    <tr>\n",
       "      <th>2</th>\n",
       "      <td>JUMBO BAG RED RETROSPOT</td>\n",
       "      <td>1663</td>\n",
       "    </tr>\n",
       "    <tr>\n",
       "      <th>3</th>\n",
       "      <td>ASSORTED COLOUR BIRD ORNAMENT</td>\n",
       "      <td>1419</td>\n",
       "    </tr>\n",
       "    <tr>\n",
       "      <th>4</th>\n",
       "      <td>PARTY BUNTING</td>\n",
       "      <td>1416</td>\n",
       "    </tr>\n",
       "    <tr>\n",
       "      <th>5</th>\n",
       "      <td>LUNCH BAG RED RETROSPOT</td>\n",
       "      <td>1358</td>\n",
       "    </tr>\n",
       "    <tr>\n",
       "      <th>6</th>\n",
       "      <td>POSTAGE</td>\n",
       "      <td>1252</td>\n",
       "    </tr>\n",
       "    <tr>\n",
       "      <th>7</th>\n",
       "      <td>SET OF 3 CAKE TINS PANTRY DESIGN</td>\n",
       "      <td>1232</td>\n",
       "    </tr>\n",
       "    <tr>\n",
       "      <th>8</th>\n",
       "      <td>LUNCH BAG  BLACK SKULL.</td>\n",
       "      <td>1126</td>\n",
       "    </tr>\n",
       "    <tr>\n",
       "      <th>9</th>\n",
       "      <td>PACK OF 72 RETROSPOT CAKE CASES</td>\n",
       "      <td>1081</td>\n",
       "    </tr>\n",
       "  </tbody>\n",
       "</table>\n",
       "</div>"
      ],
      "text/plain": [
       "                          description  invoiceno\n",
       "0  WHITE HANGING HEART T-LIGHT HOLDER       2072\n",
       "1            REGENCY CAKESTAND 3 TIER       1913\n",
       "2             JUMBO BAG RED RETROSPOT       1663\n",
       "3       ASSORTED COLOUR BIRD ORNAMENT       1419\n",
       "4                       PARTY BUNTING       1416\n",
       "5             LUNCH BAG RED RETROSPOT       1358\n",
       "6                             POSTAGE       1252\n",
       "7   SET OF 3 CAKE TINS PANTRY DESIGN        1232\n",
       "8             LUNCH BAG  BLACK SKULL.       1126\n",
       "9     PACK OF 72 RETROSPOT CAKE CASES       1081"
      ]
     },
     "execution_count": 252,
     "metadata": {},
     "output_type": "execute_result"
    }
   ],
   "source": [
    "pop = pd.DataFrame(df.groupby('description').count().sort_values(by = 'invoiceno', ascending=False)['invoiceno']).reset_index()\n",
    "pop.head(10)"
   ]
  },
  {
   "cell_type": "code",
   "execution_count": 327,
   "id": "a2a07ef7-6ed5-4870-8ffc-ed3cb2a80f3a",
   "metadata": {},
   "outputs": [
    {
     "data": {
      "image/png": "[encoded data removed]",
      "text/plain": [
       "<Figure size 1800x648 with 1 Axes>"
      ]
     },
     "metadata": {
      "needs_background": "light"
     },
     "output_type": "display_data"
    }
   ],
   "source": [
    "plt.figure(figsize=(25, 9))\n",
    "sns.set(font_scale = 2)\n",
    "\n",
    "axs = sns.barplot(data=pop.head(10), x='description', y='invoiceno', palette=sns.color_palette(\"rainbow\", n_colors=10))\n",
    "axs.set_xticklabels(axs.get_xticklabels(), rotation=30, horizontalalignment='right')\n",
    "axs.set_title(\"Popular Products (no. of Individual Purchases)\")\n",
    "plt.show()"
   ]
  },
  {
   "cell_type": "markdown",
   "id": "6f4c6433-0575-4c80-bd53-b61b6a420de7",
   "metadata": {},
   "source": [
    " "
   ]
  },
  {
   "cell_type": "markdown",
   "id": "9943af2a-d246-441b-9c69-cc0cd89b5d8e",
   "metadata": {},
   "source": [
    " "
   ]
  },
  {
   "cell_type": "markdown",
   "id": "5cc8a2ca-c39d-4df3-8cd2-5b1e3c87de7b",
   "metadata": {},
   "source": [
    "#### Total # of units sold for each product (quantity sold per order is condered, so items that are generally ordered in multiples will rank higher.)"
   ]
  },
  {
   "cell_type": "code",
   "execution_count": 211,
   "id": "26222720-e260-4fc5-859f-52576f4709ac",
   "metadata": {},
   "outputs": [
    {
     "data": {
      "text/html": [
       "<div>\n",
       "<style scoped>\n",
       "    .dataframe tbody tr th:only-of-type {\n",
       "        vertical-align: middle;\n",
       "    }\n",
       "\n",
       "    .dataframe tbody tr th {\n",
       "        vertical-align: top;\n",
       "    }\n",
       "\n",
       "    .dataframe thead th {\n",
       "        text-align: right;\n",
       "    }\n",
       "</style>\n",
       "<table border=\"1\" class=\"dataframe\">\n",
       "  <thead>\n",
       "    <tr style=\"text-align: right;\">\n",
       "      <th></th>\n",
       "      <th>description</th>\n",
       "      <th>quantity</th>\n",
       "    </tr>\n",
       "  </thead>\n",
       "  <tbody>\n",
       "    <tr>\n",
       "      <th>0</th>\n",
       "      <td>WORLD WAR 2 GLIDERS ASSTD DESIGNS</td>\n",
       "      <td>53215</td>\n",
       "    </tr>\n",
       "    <tr>\n",
       "      <th>1</th>\n",
       "      <td>JUMBO BAG RED RETROSPOT</td>\n",
       "      <td>45070</td>\n",
       "    </tr>\n",
       "    <tr>\n",
       "      <th>2</th>\n",
       "      <td>ASSORTED COLOUR BIRD ORNAMENT</td>\n",
       "      <td>35315</td>\n",
       "    </tr>\n",
       "    <tr>\n",
       "      <th>3</th>\n",
       "      <td>WHITE HANGING HEART T-LIGHT HOLDER</td>\n",
       "      <td>34149</td>\n",
       "    </tr>\n",
       "    <tr>\n",
       "      <th>4</th>\n",
       "      <td>PACK OF 72 RETROSPOT CAKE CASES</td>\n",
       "      <td>33417</td>\n",
       "    </tr>\n",
       "    <tr>\n",
       "      <th>5</th>\n",
       "      <td>POPCORN HOLDER</td>\n",
       "      <td>30510</td>\n",
       "    </tr>\n",
       "    <tr>\n",
       "      <th>6</th>\n",
       "      <td>RABBIT NIGHT LIGHT</td>\n",
       "      <td>27094</td>\n",
       "    </tr>\n",
       "    <tr>\n",
       "      <th>7</th>\n",
       "      <td>MINI PAINT SET VINTAGE</td>\n",
       "      <td>25880</td>\n",
       "    </tr>\n",
       "    <tr>\n",
       "      <th>8</th>\n",
       "      <td>PACK OF 12 LONDON TISSUES</td>\n",
       "      <td>25321</td>\n",
       "    </tr>\n",
       "    <tr>\n",
       "      <th>9</th>\n",
       "      <td>PACK OF 60 PINK PAISLEY CAKE CASES</td>\n",
       "      <td>24167</td>\n",
       "    </tr>\n",
       "  </tbody>\n",
       "</table>\n",
       "</div>"
      ],
      "text/plain": [
       "                          description  quantity\n",
       "0   WORLD WAR 2 GLIDERS ASSTD DESIGNS     53215\n",
       "1             JUMBO BAG RED RETROSPOT     45070\n",
       "2       ASSORTED COLOUR BIRD ORNAMENT     35315\n",
       "3  WHITE HANGING HEART T-LIGHT HOLDER     34149\n",
       "4     PACK OF 72 RETROSPOT CAKE CASES     33417\n",
       "5                      POPCORN HOLDER     30510\n",
       "6                  RABBIT NIGHT LIGHT     27094\n",
       "7             MINI PAINT SET VINTAGE      25880\n",
       "8          PACK OF 12 LONDON TISSUES      25321\n",
       "9  PACK OF 60 PINK PAISLEY CAKE CASES     24167"
      ]
     },
     "execution_count": 211,
     "metadata": {},
     "output_type": "execute_result"
    }
   ],
   "source": [
    "num = pd.DataFrame(df.groupby('description').sum().sort_values(by = 'quantity', ascending=False)['quantity']).reset_index()\n",
    "num.head(10)"
   ]
  },
  {
   "cell_type": "code",
   "execution_count": 326,
   "id": "9f30372d-3156-4b52-8997-1b3bcaa2512e",
   "metadata": {},
   "outputs": [
    {
     "data": {
      "image/png": "[encoded data removed]",
      "text/plain": [
       "<Figure size 1800x648 with 1 Axes>"
      ]
     },
     "metadata": {
      "needs_background": "light"
     },
     "output_type": "display_data"
    }
   ],
   "source": [
    "import matplotlib.pyplot as plt\n",
    "from matplotlib.pyplot import figure\n",
    "import seaborn as sns\n",
    "\n",
    "plt.figure(figsize=(25, 9))\n",
    "axs = sns.barplot(data=num.head(10), x='description', y='quantity', palette=sns.color_palette(\"rainbow\", n_colors=10))\n",
    "axs.set_xticklabels(axs.get_xticklabels(), rotation=30, horizontalalignment='right')\n",
    "axs.set_title(\"Units Sold Per Product (Popular Products)\")\n",
    "plt.show()"
   ]
  },
  {
   "cell_type": "markdown",
   "id": "cd1908e8-6055-4710-a202-bd69d8e21287",
   "metadata": {},
   "source": [
    " "
   ]
  },
  {
   "cell_type": "markdown",
   "id": "9a156d0e-71b2-465d-ab84-d85a2272b412",
   "metadata": {},
   "source": [
    " "
   ]
  },
  {
   "cell_type": "markdown",
   "id": "97f97df0-e46d-4941-a037-ab9d7dcdfe14",
   "metadata": {},
   "source": [
    " "
   ]
  },
  {
   "cell_type": "markdown",
   "id": "4dad4eed-4433-4674-bb14-1855ac40edaa",
   "metadata": {},
   "source": [
    "#### Wide individual appeal products - these products were purchased by the most unique customers (<code>customerid</code>)"
   ]
  },
  {
   "cell_type": "code",
   "execution_count": 208,
   "id": "3b25789c-3640-402e-af70-69d70237afcb",
   "metadata": {},
   "outputs": [
    {
     "data": {
      "text/html": [
       "<div>\n",
       "<style scoped>\n",
       "    .dataframe tbody tr th:only-of-type {\n",
       "        vertical-align: middle;\n",
       "    }\n",
       "\n",
       "    .dataframe tbody tr th {\n",
       "        vertical-align: top;\n",
       "    }\n",
       "\n",
       "    .dataframe thead th {\n",
       "        text-align: right;\n",
       "    }\n",
       "</style>\n",
       "<table border=\"1\" class=\"dataframe\">\n",
       "  <thead>\n",
       "    <tr style=\"text-align: right;\">\n",
       "      <th></th>\n",
       "      <th>description</th>\n",
       "      <th>customerid</th>\n",
       "      <th>country</th>\n",
       "    </tr>\n",
       "  </thead>\n",
       "  <tbody>\n",
       "    <tr>\n",
       "      <th>0</th>\n",
       "      <td>REGENCY CAKESTAND 3 TIER</td>\n",
       "      <td>887</td>\n",
       "      <td>29</td>\n",
       "    </tr>\n",
       "    <tr>\n",
       "      <th>1</th>\n",
       "      <td>WHITE HANGING HEART T-LIGHT HOLDER</td>\n",
       "      <td>858</td>\n",
       "      <td>16</td>\n",
       "    </tr>\n",
       "    <tr>\n",
       "      <th>2</th>\n",
       "      <td>PARTY BUNTING</td>\n",
       "      <td>708</td>\n",
       "      <td>20</td>\n",
       "    </tr>\n",
       "    <tr>\n",
       "      <th>3</th>\n",
       "      <td>ASSORTED COLOUR BIRD ORNAMENT</td>\n",
       "      <td>679</td>\n",
       "      <td>16</td>\n",
       "    </tr>\n",
       "    <tr>\n",
       "      <th>4</th>\n",
       "      <td>SET OF 3 CAKE TINS PANTRY DESIGN</td>\n",
       "      <td>640</td>\n",
       "      <td>22</td>\n",
       "    </tr>\n",
       "    <tr>\n",
       "      <th>5</th>\n",
       "      <td>JUMBO BAG RED RETROSPOT</td>\n",
       "      <td>636</td>\n",
       "      <td>20</td>\n",
       "    </tr>\n",
       "    <tr>\n",
       "      <th>6</th>\n",
       "      <td>PACK OF 72 RETROSPOT CAKE CASES</td>\n",
       "      <td>636</td>\n",
       "      <td>20</td>\n",
       "    </tr>\n",
       "    <tr>\n",
       "      <th>7</th>\n",
       "      <td>PAPER CHAIN KIT 50'S CHRISTMAS</td>\n",
       "      <td>615</td>\n",
       "      <td>10</td>\n",
       "    </tr>\n",
       "    <tr>\n",
       "      <th>8</th>\n",
       "      <td>NATURAL SLATE HEART CHALKBOARD</td>\n",
       "      <td>590</td>\n",
       "      <td>12</td>\n",
       "    </tr>\n",
       "    <tr>\n",
       "      <th>9</th>\n",
       "      <td>BAKING SET 9 PIECE RETROSPOT</td>\n",
       "      <td>585</td>\n",
       "      <td>23</td>\n",
       "    </tr>\n",
       "  </tbody>\n",
       "</table>\n",
       "</div>"
      ],
      "text/plain": [
       "                          description  customerid  country\n",
       "0            REGENCY CAKESTAND 3 TIER         887       29\n",
       "1  WHITE HANGING HEART T-LIGHT HOLDER         858       16\n",
       "2                       PARTY BUNTING         708       20\n",
       "3       ASSORTED COLOUR BIRD ORNAMENT         679       16\n",
       "4   SET OF 3 CAKE TINS PANTRY DESIGN          640       22\n",
       "5             JUMBO BAG RED RETROSPOT         636       20\n",
       "6     PACK OF 72 RETROSPOT CAKE CASES         636       20\n",
       "7     PAPER CHAIN KIT 50'S CHRISTMAS          615       10\n",
       "8     NATURAL SLATE HEART CHALKBOARD          590       12\n",
       "9       BAKING SET 9 PIECE RETROSPOT          585       23"
      ]
     },
     "execution_count": 208,
     "metadata": {},
     "output_type": "execute_result"
    }
   ],
   "source": [
    "ind = df.groupby('description').nunique().sort_values(by = 'customerid', ascending=False)[['customerid', 'country']].reset_index()\n",
    "ind.head(10)"
   ]
  },
  {
   "cell_type": "code",
   "execution_count": 324,
   "id": "2b376266-1295-4c61-ac06-42d68ebb074a",
   "metadata": {},
   "outputs": [
    {
     "data": {
      "image/png": "[encoded data removed]",
      "text/plain": [
       "<Figure size 1800x648 with 1 Axes>"
      ]
     },
     "metadata": {
      "needs_background": "light"
     },
     "output_type": "display_data"
    }
   ],
   "source": [
    "plt.figure(figsize=(25, 9))\n",
    "axs = sns.barplot(data=ind.head(10), x='description', y='customerid', palette=sns.color_palette(\"rainbow\", n_colors=10))\n",
    "axs.set_xticklabels(axs.get_xticklabels(), rotation=30, horizontalalignment='right')\n",
    "axs.set_title(\"Wide Individual Appeal Products\")\n",
    "plt.show()"
   ]
  },
  {
   "cell_type": "markdown",
   "id": "f6b8dec8-31ca-4a50-bb05-473316f6b60a",
   "metadata": {},
   "source": [
    " "
   ]
  },
  {
   "cell_type": "markdown",
   "id": "c3794b50-15d5-42f8-adad-9fd26c07bbd1",
   "metadata": {},
   "source": [
    " "
   ]
  },
  {
   "cell_type": "markdown",
   "id": "3b205820-34b8-4d99-8aad-c31f4be42826",
   "metadata": {},
   "source": [
    " #### Wide international appeal products - these products were purchased most often by customers in many different countries. "
   ]
  },
  {
   "cell_type": "code",
   "execution_count": 209,
   "id": "a8db32ec-76f7-4f6f-90f7-808a6f6e7cfa",
   "metadata": {},
   "outputs": [
    {
     "data": {
      "text/html": [
       "<div>\n",
       "<style scoped>\n",
       "    .dataframe tbody tr th:only-of-type {\n",
       "        vertical-align: middle;\n",
       "    }\n",
       "\n",
       "    .dataframe tbody tr th {\n",
       "        vertical-align: top;\n",
       "    }\n",
       "\n",
       "    .dataframe thead th {\n",
       "        text-align: right;\n",
       "    }\n",
       "</style>\n",
       "<table border=\"1\" class=\"dataframe\">\n",
       "  <thead>\n",
       "    <tr style=\"text-align: right;\">\n",
       "      <th></th>\n",
       "      <th>description</th>\n",
       "      <th>customerid</th>\n",
       "      <th>country</th>\n",
       "    </tr>\n",
       "  </thead>\n",
       "  <tbody>\n",
       "    <tr>\n",
       "      <th>0</th>\n",
       "      <td>REGENCY CAKESTAND 3 TIER</td>\n",
       "      <td>887</td>\n",
       "      <td>29</td>\n",
       "    </tr>\n",
       "    <tr>\n",
       "      <th>1</th>\n",
       "      <td>JAM MAKING SET WITH JARS</td>\n",
       "      <td>574</td>\n",
       "      <td>25</td>\n",
       "    </tr>\n",
       "    <tr>\n",
       "      <th>2</th>\n",
       "      <td>JAM MAKING SET PRINTED</td>\n",
       "      <td>538</td>\n",
       "      <td>25</td>\n",
       "    </tr>\n",
       "    <tr>\n",
       "      <th>3</th>\n",
       "      <td>BAKING SET 9 PIECE RETROSPOT</td>\n",
       "      <td>585</td>\n",
       "      <td>23</td>\n",
       "    </tr>\n",
       "    <tr>\n",
       "      <th>4</th>\n",
       "      <td>POSTAGE</td>\n",
       "      <td>379</td>\n",
       "      <td>23</td>\n",
       "    </tr>\n",
       "    <tr>\n",
       "      <th>5</th>\n",
       "      <td>SET OF 3 REGENCY CAKE TINS</td>\n",
       "      <td>472</td>\n",
       "      <td>23</td>\n",
       "    </tr>\n",
       "    <tr>\n",
       "      <th>6</th>\n",
       "      <td>SET OF 3 CAKE TINS PANTRY DESIGN</td>\n",
       "      <td>640</td>\n",
       "      <td>22</td>\n",
       "    </tr>\n",
       "    <tr>\n",
       "      <th>7</th>\n",
       "      <td>RETROSPOT TEA SET CERAMIC 11 PC</td>\n",
       "      <td>489</td>\n",
       "      <td>21</td>\n",
       "    </tr>\n",
       "    <tr>\n",
       "      <th>8</th>\n",
       "      <td>ROUND SNACK BOXES SET OF4 WOODLAND</td>\n",
       "      <td>281</td>\n",
       "      <td>21</td>\n",
       "    </tr>\n",
       "    <tr>\n",
       "      <th>9</th>\n",
       "      <td>GREEN REGENCY TEACUP AND SAUCER</td>\n",
       "      <td>390</td>\n",
       "      <td>21</td>\n",
       "    </tr>\n",
       "  </tbody>\n",
       "</table>\n",
       "</div>"
      ],
      "text/plain": [
       "                           description  customerid  country\n",
       "0             REGENCY CAKESTAND 3 TIER         887       29\n",
       "1             JAM MAKING SET WITH JARS         574       25\n",
       "2               JAM MAKING SET PRINTED         538       25\n",
       "3        BAKING SET 9 PIECE RETROSPOT          585       23\n",
       "4                              POSTAGE         379       23\n",
       "5           SET OF 3 REGENCY CAKE TINS         472       23\n",
       "6    SET OF 3 CAKE TINS PANTRY DESIGN          640       22\n",
       "7     RETROSPOT TEA SET CERAMIC 11 PC          489       21\n",
       "8  ROUND SNACK BOXES SET OF4 WOODLAND          281       21\n",
       "9      GREEN REGENCY TEACUP AND SAUCER         390       21"
      ]
     },
     "execution_count": 209,
     "metadata": {},
     "output_type": "execute_result"
    }
   ],
   "source": [
    "int = df.groupby('description').nunique().sort_values(by = 'country', ascending=False)[['customerid', 'country']].reset_index()\n",
    "int.head(10)"
   ]
  },
  {
   "cell_type": "code",
   "execution_count": 325,
   "id": "789c2182-3175-47b9-b0fb-6d0e47ffd355",
   "metadata": {},
   "outputs": [
    {
     "data": {
      "image/png": "[encoded data removed]",
      "text/plain": [
       "<Figure size 1800x648 with 1 Axes>"
      ]
     },
     "metadata": {
      "needs_background": "light"
     },
     "output_type": "display_data"
    }
   ],
   "source": [
    "plt.figure(figsize=(25, 9))\n",
    "axs = sns.barplot(data=int.head(10), x='description', y='country', palette=sns.color_palette(\"rainbow\", n_colors=10))\n",
    "axs.set_xticklabels(axs.get_xticklabels(), rotation=30, horizontalalignment='right')\n",
    "axs.set_title(\"Wide International Appeal Products\")\n",
    "plt.show()"
   ]
  },
  {
   "cell_type": "markdown",
   "id": "041a5ef2-78c2-40ef-8099-04c2fe470cc1",
   "metadata": {},
   "source": [
    "Certain items are appearing over and over - notably baking items - so it would be interesting to have more info on this retailer, their target demographics, and ad spend."
   ]
  },
  {
   "cell_type": "markdown",
   "id": "e100b6b5-314b-4a36-b501-e11b22a75f1b",
   "metadata": {},
   "source": [
    " "
   ]
  },
  {
   "cell_type": "markdown",
   "id": "fcc16ff6-0213-4b66-9662-023afb2cd36e",
   "metadata": {},
   "source": [
    "#### Top Purchased Item by Country"
   ]
  },
  {
   "cell_type": "code",
   "execution_count": 180,
   "id": "fd8f176b-2728-4dfe-8660-fd6d75629ead",
   "metadata": {
    "scrolled": true,
    "tags": []
   },
   "outputs": [
    {
     "name": "stderr",
     "output_type": "stream",
     "text": [
      "/var/folders/zd/6jtvs5r55vvdpnl2c2q7kv0m0000gn/T/ipykernel_2470/1844171538.py:1: FutureWarning: Inferring datetime64[ns] from data containing strings is deprecated and will be removed in a future version. To retain the old behavior explicitly pass Series(data, dtype={value.dtype})\n",
      "  a = df.groupby('country').max()['description']\n"
     ]
    },
    {
     "data": {
      "text/html": [
       "<div>\n",
       "<style scoped>\n",
       "    .dataframe tbody tr th:only-of-type {\n",
       "        vertical-align: middle;\n",
       "    }\n",
       "\n",
       "    .dataframe tbody tr th {\n",
       "        vertical-align: top;\n",
       "    }\n",
       "\n",
       "    .dataframe thead th {\n",
       "        text-align: right;\n",
       "    }\n",
       "</style>\n",
       "<table border=\"1\" class=\"dataframe\">\n",
       "  <thead>\n",
       "    <tr style=\"text-align: right;\">\n",
       "      <th></th>\n",
       "      <th>description</th>\n",
       "      <th>quantity</th>\n",
       "    </tr>\n",
       "    <tr>\n",
       "      <th>country</th>\n",
       "      <th></th>\n",
       "      <th></th>\n",
       "    </tr>\n",
       "  </thead>\n",
       "  <tbody>\n",
       "    <tr>\n",
       "      <th>Australia</th>\n",
       "      <td>YELLOW GIANT GARDEN THERMOMETER</td>\n",
       "      <td>36</td>\n",
       "    </tr>\n",
       "    <tr>\n",
       "      <th>Austria</th>\n",
       "      <td>ZINC WILLIE WINKIE  CANDLE STICK</td>\n",
       "      <td>12</td>\n",
       "    </tr>\n",
       "    <tr>\n",
       "      <th>Bahrain</th>\n",
       "      <td>VANILLA SCENT CANDLE JEWELLED BOX</td>\n",
       "      <td>6</td>\n",
       "    </tr>\n",
       "    <tr>\n",
       "      <th>Belgium</th>\n",
       "      <td>WRAP SUKI AND FRIENDS</td>\n",
       "      <td>50</td>\n",
       "    </tr>\n",
       "    <tr>\n",
       "      <th>Brazil</th>\n",
       "      <td>SPACEBOY LUNCH BOX</td>\n",
       "      <td>12</td>\n",
       "    </tr>\n",
       "    <tr>\n",
       "      <th>Canada</th>\n",
       "      <td>YELLOW COAT RACK PARIS FASHION</td>\n",
       "      <td>3</td>\n",
       "    </tr>\n",
       "    <tr>\n",
       "      <th>Channel Islands</th>\n",
       "      <td>ZINC T-LIGHT HOLDER STARS SMALL</td>\n",
       "      <td>24</td>\n",
       "    </tr>\n",
       "    <tr>\n",
       "      <th>Cyprus</th>\n",
       "      <td>ZINC METAL HEART DECORATION</td>\n",
       "      <td>48</td>\n",
       "    </tr>\n",
       "    <tr>\n",
       "      <th>Czech Republic</th>\n",
       "      <td>WOODEN TREE CHRISTMAS SCANDINAVIAN</td>\n",
       "      <td>72</td>\n",
       "    </tr>\n",
       "    <tr>\n",
       "      <th>Denmark</th>\n",
       "      <td>WRAP VINTAGE PETALS  DESIGN</td>\n",
       "      <td>25</td>\n",
       "    </tr>\n",
       "    <tr>\n",
       "      <th>EIRE</th>\n",
       "      <td>ZINC WIRE SWEETHEART LETTER TRAY</td>\n",
       "      <td>8</td>\n",
       "    </tr>\n",
       "    <tr>\n",
       "      <th>European Community</th>\n",
       "      <td>WHITE ROCKING HORSE HAND PAINTED</td>\n",
       "      <td>24</td>\n",
       "    </tr>\n",
       "    <tr>\n",
       "      <th>Finland</th>\n",
       "      <td>ZINC T-LIGHT HOLDER STARS SMALL</td>\n",
       "      <td>12</td>\n",
       "    </tr>\n",
       "    <tr>\n",
       "      <th>France</th>\n",
       "      <td>ZINC T-LIGHT HOLDER STARS SMALL</td>\n",
       "      <td>24</td>\n",
       "    </tr>\n",
       "    <tr>\n",
       "      <th>Germany</th>\n",
       "      <td>ZINC WILLIE WINKIE  CANDLE STICK</td>\n",
       "      <td>60</td>\n",
       "    </tr>\n",
       "    <tr>\n",
       "      <th>Greece</th>\n",
       "      <td>ZINC METAL HEART DECORATION</td>\n",
       "      <td>12</td>\n",
       "    </tr>\n",
       "    <tr>\n",
       "      <th>Iceland</th>\n",
       "      <td>WOODLAND DESIGN  COTTON TOTE BAG</td>\n",
       "      <td>6</td>\n",
       "    </tr>\n",
       "    <tr>\n",
       "      <th>Israel</th>\n",
       "      <td>YELLOW COAT RACK PARIS FASHION</td>\n",
       "      <td>6</td>\n",
       "    </tr>\n",
       "    <tr>\n",
       "      <th>Italy</th>\n",
       "      <td>ZINC FOLKART SLEIGH BELLS</td>\n",
       "      <td>12</td>\n",
       "    </tr>\n",
       "    <tr>\n",
       "      <th>Japan</th>\n",
       "      <td>WORLD WAR 2 GLIDERS ASSTD DESIGNS</td>\n",
       "      <td>577</td>\n",
       "    </tr>\n",
       "    <tr>\n",
       "      <th>Lebanon</th>\n",
       "      <td>WOODEN SKITTLES GARDEN SET</td>\n",
       "      <td>8</td>\n",
       "    </tr>\n",
       "    <tr>\n",
       "      <th>Lithuania</th>\n",
       "      <td>SILVER MUG BONE CHINA TREE OF LIFE</td>\n",
       "      <td>36</td>\n",
       "    </tr>\n",
       "    <tr>\n",
       "      <th>Malta</th>\n",
       "      <td>WRAP CHRISTMAS VILLAGE</td>\n",
       "      <td>25</td>\n",
       "    </tr>\n",
       "    <tr>\n",
       "      <th>Netherlands</th>\n",
       "      <td>ZINC WILLIE WINKIE  CANDLE STICK</td>\n",
       "      <td>384</td>\n",
       "    </tr>\n",
       "    <tr>\n",
       "      <th>Norway</th>\n",
       "      <td>ZINC WILLIE WINKIE  CANDLE STICK</td>\n",
       "      <td>24</td>\n",
       "    </tr>\n",
       "    <tr>\n",
       "      <th>Poland</th>\n",
       "      <td>ZINC WILLIE WINKIE  CANDLE STICK</td>\n",
       "      <td>24</td>\n",
       "    </tr>\n",
       "    <tr>\n",
       "      <th>Portugal</th>\n",
       "      <td>ZINC WIRE KITCHEN ORGANISER</td>\n",
       "      <td>1</td>\n",
       "    </tr>\n",
       "    <tr>\n",
       "      <th>RSA</th>\n",
       "      <td>WOODEN CROQUET GARDEN SET</td>\n",
       "      <td>2</td>\n",
       "    </tr>\n",
       "    <tr>\n",
       "      <th>Saudi Arabia</th>\n",
       "      <td>PLASTERS IN TIN STRONGMAN</td>\n",
       "      <td>12</td>\n",
       "    </tr>\n",
       "    <tr>\n",
       "      <th>Singapore</th>\n",
       "      <td>ZINC FOLKART SLEIGH BELLS</td>\n",
       "      <td>72</td>\n",
       "    </tr>\n",
       "    <tr>\n",
       "      <th>Spain</th>\n",
       "      <td>ZINC T-LIGHT HOLDER STARS SMALL</td>\n",
       "      <td>12</td>\n",
       "    </tr>\n",
       "    <tr>\n",
       "      <th>Sweden</th>\n",
       "      <td>ZINC WILLIE WINKIE  CANDLE STICK</td>\n",
       "      <td>12</td>\n",
       "    </tr>\n",
       "    <tr>\n",
       "      <th>Switzerland</th>\n",
       "      <td>ZINC WILLIE WINKIE  CANDLE STICK</td>\n",
       "      <td>24</td>\n",
       "    </tr>\n",
       "    <tr>\n",
       "      <th>USA</th>\n",
       "      <td>WRAP ENGLISH ROSE</td>\n",
       "      <td>0</td>\n",
       "    </tr>\n",
       "    <tr>\n",
       "      <th>United Arab Emirates</th>\n",
       "      <td>WRAP PAISLEY PARK</td>\n",
       "      <td>25</td>\n",
       "    </tr>\n",
       "    <tr>\n",
       "      <th>United Kingdom</th>\n",
       "      <td>ZINC WIRE SWEETHEART LETTER TRAY</td>\n",
       "      <td>72</td>\n",
       "    </tr>\n",
       "    <tr>\n",
       "      <th>Unspecified</th>\n",
       "      <td>ZINC METAL HEART DECORATION</td>\n",
       "      <td>2</td>\n",
       "    </tr>\n",
       "  </tbody>\n",
       "</table>\n",
       "</div>"
      ],
      "text/plain": [
       "                                             description  quantity\n",
       "country                                                           \n",
       "Australia                YELLOW GIANT GARDEN THERMOMETER        36\n",
       "Austria                 ZINC WILLIE WINKIE  CANDLE STICK        12\n",
       "Bahrain                VANILLA SCENT CANDLE JEWELLED BOX         6\n",
       "Belgium                            WRAP SUKI AND FRIENDS        50\n",
       "Brazil                               SPACEBOY LUNCH BOX         12\n",
       "Canada                    YELLOW COAT RACK PARIS FASHION         3\n",
       "Channel Islands          ZINC T-LIGHT HOLDER STARS SMALL        24\n",
       "Cyprus                       ZINC METAL HEART DECORATION        48\n",
       "Czech Republic        WOODEN TREE CHRISTMAS SCANDINAVIAN        72\n",
       "Denmark                      WRAP VINTAGE PETALS  DESIGN        25\n",
       "EIRE                    ZINC WIRE SWEETHEART LETTER TRAY         8\n",
       "European Community      WHITE ROCKING HORSE HAND PAINTED        24\n",
       "Finland                  ZINC T-LIGHT HOLDER STARS SMALL        12\n",
       "France                   ZINC T-LIGHT HOLDER STARS SMALL        24\n",
       "Germany                 ZINC WILLIE WINKIE  CANDLE STICK        60\n",
       "Greece                       ZINC METAL HEART DECORATION        12\n",
       "Iceland                 WOODLAND DESIGN  COTTON TOTE BAG         6\n",
       "Israel                    YELLOW COAT RACK PARIS FASHION         6\n",
       "Italy                          ZINC FOLKART SLEIGH BELLS        12\n",
       "Japan                  WORLD WAR 2 GLIDERS ASSTD DESIGNS       577\n",
       "Lebanon                       WOODEN SKITTLES GARDEN SET         8\n",
       "Lithuania             SILVER MUG BONE CHINA TREE OF LIFE        36\n",
       "Malta                             WRAP CHRISTMAS VILLAGE        25\n",
       "Netherlands             ZINC WILLIE WINKIE  CANDLE STICK       384\n",
       "Norway                  ZINC WILLIE WINKIE  CANDLE STICK        24\n",
       "Poland                  ZINC WILLIE WINKIE  CANDLE STICK        24\n",
       "Portugal                     ZINC WIRE KITCHEN ORGANISER         1\n",
       "RSA                            WOODEN CROQUET GARDEN SET         2\n",
       "Saudi Arabia                   PLASTERS IN TIN STRONGMAN        12\n",
       "Singapore                      ZINC FOLKART SLEIGH BELLS        72\n",
       "Spain                    ZINC T-LIGHT HOLDER STARS SMALL        12\n",
       "Sweden                  ZINC WILLIE WINKIE  CANDLE STICK        12\n",
       "Switzerland             ZINC WILLIE WINKIE  CANDLE STICK        24\n",
       "USA                                   WRAP ENGLISH ROSE          0\n",
       "United Arab Emirates                  WRAP PAISLEY PARK         25\n",
       "United Kingdom          ZINC WIRE SWEETHEART LETTER TRAY        72\n",
       "Unspecified                  ZINC METAL HEART DECORATION         2"
      ]
     },
     "execution_count": 180,
     "metadata": {},
     "output_type": "execute_result"
    }
   ],
   "source": [
    "a = df.groupby('country').max()['description']\n",
    "b = df.groupby(['country', 'description']).sum()['quantity'] #pkey = description\n",
    "\n",
    "pd.merge(a, b, how='left', left_on=(['country', 'description']), right_on=(['country', 'description']))"
   ]
  },
  {
   "cell_type": "markdown",
   "id": "21389249-7d16-41c0-ae76-8e26589d5fe6",
   "metadata": {},
   "source": [
    "Top purchase in Brazil was SPACEBOY LUNCH BOX "
   ]
  },
  {
   "cell_type": "markdown",
   "id": "9d5c0efd-adf4-43a4-9b72-5bb0eeef9831",
   "metadata": {},
   "source": [
    "very interesting products being sold here"
   ]
  },
  {
   "cell_type": "markdown",
   "id": "efdf97bb-a3cd-4e5f-b1e6-c3a8f7295fb3",
   "metadata": {},
   "source": [
    " "
   ]
  },
  {
   "cell_type": "markdown",
   "id": "824b9234-e044-489a-9a68-1f2626ce666d",
   "metadata": {},
   "source": [
    " "
   ]
  },
  {
   "cell_type": "markdown",
   "id": "b2b8549f-4b2e-49b1-9433-436fe639c1a8",
   "metadata": {},
   "source": [
    "<center><img src='./img/world.jpeg' height=200 width=200></center>"
   ]
  },
  {
   "cell_type": "markdown",
   "id": "490126bf-006d-4196-8ecf-2d728e4b4da4",
   "metadata": {},
   "source": [
    "### Buyer Locations"
   ]
  },
  {
   "cell_type": "markdown",
   "id": "c22fac76-8f8b-4ce6-a644-0a9c2adb2bf2",
   "metadata": {},
   "source": [
    "I need to see if buyers moved, or if the countries attached to <code>customerid</code> are consistent."
   ]
  },
  {
   "cell_type": "markdown",
   "id": "6c533139-b378-437e-90ce-b73e4e34bd7b",
   "metadata": {},
   "source": [
    "*Flipping back into SQL mindset*"
   ]
  },
  {
   "cell_type": "code",
   "execution_count": 104,
   "id": "831c29b0-0052-4572-91ff-df782007c692",
   "metadata": {},
   "outputs": [
    {
     "data": {
      "text/html": [
       "<div>\n",
       "<style scoped>\n",
       "    .dataframe tbody tr th:only-of-type {\n",
       "        vertical-align: middle;\n",
       "    }\n",
       "\n",
       "    .dataframe tbody tr th {\n",
       "        vertical-align: top;\n",
       "    }\n",
       "\n",
       "    .dataframe thead th {\n",
       "        text-align: right;\n",
       "    }\n",
       "</style>\n",
       "<table border=\"1\" class=\"dataframe\">\n",
       "  <thead>\n",
       "    <tr style=\"text-align: right;\">\n",
       "      <th></th>\n",
       "      <th>country_x</th>\n",
       "      <th>country_y</th>\n",
       "      <th>country_count</th>\n",
       "    </tr>\n",
       "    <tr>\n",
       "      <th>customerid</th>\n",
       "      <th></th>\n",
       "      <th></th>\n",
       "      <th></th>\n",
       "    </tr>\n",
       "  </thead>\n",
       "  <tbody>\n",
       "    <tr>\n",
       "      <th>12370.0</th>\n",
       "      <td>Cyprus</td>\n",
       "      <td>Austria</td>\n",
       "      <td>2</td>\n",
       "    </tr>\n",
       "    <tr>\n",
       "      <th>12394.0</th>\n",
       "      <td>Denmark</td>\n",
       "      <td>Belgium</td>\n",
       "      <td>2</td>\n",
       "    </tr>\n",
       "    <tr>\n",
       "      <th>12417.0</th>\n",
       "      <td>Spain</td>\n",
       "      <td>Belgium</td>\n",
       "      <td>2</td>\n",
       "    </tr>\n",
       "    <tr>\n",
       "      <th>12422.0</th>\n",
       "      <td>Switzerland</td>\n",
       "      <td>Australia</td>\n",
       "      <td>2</td>\n",
       "    </tr>\n",
       "    <tr>\n",
       "      <th>12429.0</th>\n",
       "      <td>Denmark</td>\n",
       "      <td>Austria</td>\n",
       "      <td>2</td>\n",
       "    </tr>\n",
       "    <tr>\n",
       "      <th>12431.0</th>\n",
       "      <td>Belgium</td>\n",
       "      <td>Australia</td>\n",
       "      <td>2</td>\n",
       "    </tr>\n",
       "    <tr>\n",
       "      <th>12455.0</th>\n",
       "      <td>Spain</td>\n",
       "      <td>Cyprus</td>\n",
       "      <td>2</td>\n",
       "    </tr>\n",
       "    <tr>\n",
       "      <th>12457.0</th>\n",
       "      <td>Switzerland</td>\n",
       "      <td>Cyprus</td>\n",
       "      <td>2</td>\n",
       "    </tr>\n",
       "  </tbody>\n",
       "</table>\n",
       "</div>"
      ],
      "text/plain": [
       "              country_x  country_y  country_count\n",
       "customerid                                       \n",
       "12370.0          Cyprus    Austria              2\n",
       "12394.0         Denmark    Belgium              2\n",
       "12417.0           Spain    Belgium              2\n",
       "12422.0     Switzerland  Australia              2\n",
       "12429.0         Denmark    Austria              2\n",
       "12431.0         Belgium  Australia              2\n",
       "12455.0           Spain     Cyprus              2\n",
       "12457.0     Switzerland     Cyprus              2"
      ]
     },
     "execution_count": 104,
     "metadata": {},
     "output_type": "execute_result"
    }
   ],
   "source": [
    "buyers = pd.merge(df.groupby('customerid')['country'].max(), df.groupby('customerid')['country'].min(), left_on='customerid', right_on='customerid')\n",
    "buyers = pd.merge(buyers, df.groupby('customerid')['country'].nunique(), left_on='customerid', right_on='customerid')\n",
    "buyers[buyers['country_x'] != buyers['country_y']].rename(columns={'country':'country_count'})"
   ]
  },
  {
   "cell_type": "markdown",
   "id": "0ad34367-4861-4122-ab4d-f3809076d5ef",
   "metadata": {},
   "source": [
    "Not enough differences to cause a problem right now."
   ]
  },
  {
   "cell_type": "code",
   "execution_count": 105,
   "id": "f9ee5432-d2e8-4fbe-be1b-9c61c90d0b36",
   "metadata": {},
   "outputs": [
    {
     "data": {
      "text/plain": [
       "customerid\n",
       "12346.0    United Kingdom\n",
       "12347.0           Iceland\n",
       "12348.0           Finland\n",
       "12349.0             Italy\n",
       "12350.0            Norway\n",
       "Name: country, dtype: object"
      ]
     },
     "execution_count": 105,
     "metadata": {},
     "output_type": "execute_result"
    }
   ],
   "source": [
    "buyers=df.groupby('customerid')['country'].max()\n",
    "buyers.head(5)"
   ]
  },
  {
   "cell_type": "markdown",
   "id": "32f5a34d-c9d6-4c5e-bbc7-6921b32c5aeb",
   "metadata": {},
   "source": [
    " "
   ]
  },
  {
   "cell_type": "markdown",
   "id": "6378a710-af8d-48bf-8461-b99fd44d111a",
   "metadata": {},
   "source": [
    " "
   ]
  },
  {
   "cell_type": "markdown",
   "id": "e8dd7506-c211-4f8c-bae7-43aad0c0f0d9",
   "metadata": {},
   "source": [
    " "
   ]
  },
  {
   "cell_type": "markdown",
   "id": "b6045509-642d-436d-8ac9-716315c3e146",
   "metadata": {},
   "source": [
    " "
   ]
  },
  {
   "cell_type": "markdown",
   "id": "6e27e780-59e8-4353-84cc-85816ad5fe2f",
   "metadata": {},
   "source": [
    "## Preprocessing"
   ]
  },
  {
   "cell_type": "markdown",
   "id": "c29b30d4-fd0f-4f58-8f72-6e4878c6ddd5",
   "metadata": {},
   "source": [
    " For my modeling, I decided to predict the probability of a customer buying a popular item: 'ASSORTED COLOUR BIRD ORNAMENT' based on data about their other purchases. I chose this item because it was purchased by a large number of individual buyers, across a wide variety of countries.\n",
    " \n",
    " "
   ]
  },
  {
   "cell_type": "markdown",
   "id": "cd0e27f0-c41c-48c2-afee-8f70e136933f",
   "metadata": {},
   "source": [
    " "
   ]
  },
  {
   "cell_type": "markdown",
   "id": "7a88f41b-add5-409f-a00a-ec623821eca4",
   "metadata": {},
   "source": [
    "*Commented out code: dropped two outliers for the item I'm interested in predicting. This code was not necessary after I converted values to boolean.*"
   ]
  },
  {
   "cell_type": "code",
   "execution_count": 356,
   "id": "f67573f5-5980-466b-b932-032dce824074",
   "metadata": {
    "scrolled": true,
    "tags": []
   },
   "outputs": [],
   "source": [
    "# df[df['description']=='ASSORTED COLOUR BIRD ORNAMENT'].sort_values(by='quantity', ascending=False)"
   ]
  },
  {
   "cell_type": "code",
   "execution_count": 283,
   "id": "025ac781-95a8-48fb-95cb-095309f28efc",
   "metadata": {},
   "outputs": [],
   "source": [
    "# Dropped two outliers for this item: buyer who purchased over 1000 bird ornaments"
   ]
  },
  {
   "cell_type": "code",
   "execution_count": 282,
   "id": "05fa651d-664e-4222-9ac1-c70716d40f4f",
   "metadata": {},
   "outputs": [],
   "source": [
    "# df_bird = df.drop(291249)\n",
    "# df_bird = df_bird.drop(452365)"
   ]
  },
  {
   "cell_type": "markdown",
   "id": "5d2832d4-a0d7-41ef-b512-908141422873",
   "metadata": {},
   "source": [
    " "
   ]
  },
  {
   "cell_type": "markdown",
   "id": "fc257798-d342-4180-b2e1-867d2f8dcaf7",
   "metadata": {},
   "source": [
    " #### Reshaping data"
   ]
  },
  {
   "cell_type": "markdown",
   "id": "35a45738-2d2e-4216-9a86-22db65470698",
   "metadata": {},
   "source": [
    "I used pd.pivot_table to make a dataframe with customerid as the primary key, and sum of purchases for each available item as the features. \n",
    "\n",
    "* Since all NANs have already been dropped, I filled NaNs resulting from pivot table with 0 to represent no items bought.\n",
    "* Worth mentioning that this does erase customer return data for people who returned the same # of items they bought (total item quantity averages out to 0) which may misrepresent some smaller patterns in the data, but can return to that later if time.\n",
    "* However this does solve the issue of outliers for the dependent variable (people who purchased an abnormally high number of bird ornaments.)"
   ]
  },
  {
   "cell_type": "code",
   "execution_count": 276,
   "id": "a6013e48-4f4d-4641-8118-c0a6ea24641b",
   "metadata": {},
   "outputs": [],
   "source": [
    "df2 = pd.pivot_table(df, values='quantity', index=['customerid'],\n",
    "                  columns=['description'], aggfunc=np.sum).fillna(0)"
   ]
  },
  {
   "cell_type": "code",
   "execution_count": 284,
   "id": "826607f4-9936-43d3-b4e7-8abdd60e9a85",
   "metadata": {},
   "outputs": [],
   "source": [
    "df3 = df2.applymap(lambda x: 1 if x > 0 else 0) #Convert to boolean for y1=purchase, 0=no purchase"
   ]
  },
  {
   "cell_type": "markdown",
   "id": "2842b688-4f06-4ec3-8941-e448f7a6149c",
   "metadata": {},
   "source": [
    "<font color=white>.</font>"
   ]
  },
  {
   "cell_type": "markdown",
   "id": "b20b2e61-c29f-4330-a16b-4728a520d81e",
   "metadata": {},
   "source": [
    "Added countries for buyers from <code>buyers</code> table."
   ]
  },
  {
   "cell_type": "code",
   "execution_count": 285,
   "id": "d206ab9f-13a5-4b9f-8ad9-e364447db1f3",
   "metadata": {},
   "outputs": [
    {
     "data": {
      "text/html": [
       "<div>\n",
       "<style scoped>\n",
       "    .dataframe tbody tr th:only-of-type {\n",
       "        vertical-align: middle;\n",
       "    }\n",
       "\n",
       "    .dataframe tbody tr th {\n",
       "        vertical-align: top;\n",
       "    }\n",
       "\n",
       "    .dataframe thead th {\n",
       "        text-align: right;\n",
       "    }\n",
       "</style>\n",
       "<table border=\"1\" class=\"dataframe\">\n",
       "  <thead>\n",
       "    <tr style=\"text-align: right;\">\n",
       "      <th></th>\n",
       "      <th>4 PURPLE FLOCK DINNER CANDLES</th>\n",
       "      <th>50'S CHRISTMAS GIFT BAG LARGE</th>\n",
       "      <th>DOLLY GIRL BEAKER</th>\n",
       "      <th>I LOVE LONDON MINI BACKPACK</th>\n",
       "      <th>I LOVE LONDON MINI RUCKSACK</th>\n",
       "      <th>NINE DRAWER OFFICE TIDY</th>\n",
       "      <th>OVAL WALL MIRROR DIAMANTE</th>\n",
       "      <th>RED SPOT GIFT BAG LARGE</th>\n",
       "      <th>SET 2 TEA TOWELS I LOVE LONDON</th>\n",
       "      <th>SPACEBOY BABY GIFT SET</th>\n",
       "      <th>...</th>\n",
       "      <th>country_RSA</th>\n",
       "      <th>country_Saudi Arabia</th>\n",
       "      <th>country_Singapore</th>\n",
       "      <th>country_Spain</th>\n",
       "      <th>country_Sweden</th>\n",
       "      <th>country_Switzerland</th>\n",
       "      <th>country_USA</th>\n",
       "      <th>country_United Arab Emirates</th>\n",
       "      <th>country_United Kingdom</th>\n",
       "      <th>country_Unspecified</th>\n",
       "    </tr>\n",
       "    <tr>\n",
       "      <th>customerid</th>\n",
       "      <th></th>\n",
       "      <th></th>\n",
       "      <th></th>\n",
       "      <th></th>\n",
       "      <th></th>\n",
       "      <th></th>\n",
       "      <th></th>\n",
       "      <th></th>\n",
       "      <th></th>\n",
       "      <th></th>\n",
       "      <th></th>\n",
       "      <th></th>\n",
       "      <th></th>\n",
       "      <th></th>\n",
       "      <th></th>\n",
       "      <th></th>\n",
       "      <th></th>\n",
       "      <th></th>\n",
       "      <th></th>\n",
       "      <th></th>\n",
       "      <th></th>\n",
       "    </tr>\n",
       "  </thead>\n",
       "  <tbody>\n",
       "    <tr>\n",
       "      <th>12346.0</th>\n",
       "      <td>0</td>\n",
       "      <td>0</td>\n",
       "      <td>0</td>\n",
       "      <td>0</td>\n",
       "      <td>0</td>\n",
       "      <td>0</td>\n",
       "      <td>0</td>\n",
       "      <td>0</td>\n",
       "      <td>0</td>\n",
       "      <td>0</td>\n",
       "      <td>...</td>\n",
       "      <td>0</td>\n",
       "      <td>0</td>\n",
       "      <td>0</td>\n",
       "      <td>0</td>\n",
       "      <td>0</td>\n",
       "      <td>0</td>\n",
       "      <td>0</td>\n",
       "      <td>0</td>\n",
       "      <td>1</td>\n",
       "      <td>0</td>\n",
       "    </tr>\n",
       "    <tr>\n",
       "      <th>12347.0</th>\n",
       "      <td>0</td>\n",
       "      <td>0</td>\n",
       "      <td>0</td>\n",
       "      <td>0</td>\n",
       "      <td>0</td>\n",
       "      <td>0</td>\n",
       "      <td>0</td>\n",
       "      <td>0</td>\n",
       "      <td>0</td>\n",
       "      <td>0</td>\n",
       "      <td>...</td>\n",
       "      <td>0</td>\n",
       "      <td>0</td>\n",
       "      <td>0</td>\n",
       "      <td>0</td>\n",
       "      <td>0</td>\n",
       "      <td>0</td>\n",
       "      <td>0</td>\n",
       "      <td>0</td>\n",
       "      <td>0</td>\n",
       "      <td>0</td>\n",
       "    </tr>\n",
       "    <tr>\n",
       "      <th>12348.0</th>\n",
       "      <td>0</td>\n",
       "      <td>0</td>\n",
       "      <td>0</td>\n",
       "      <td>0</td>\n",
       "      <td>0</td>\n",
       "      <td>0</td>\n",
       "      <td>0</td>\n",
       "      <td>0</td>\n",
       "      <td>0</td>\n",
       "      <td>0</td>\n",
       "      <td>...</td>\n",
       "      <td>0</td>\n",
       "      <td>0</td>\n",
       "      <td>0</td>\n",
       "      <td>0</td>\n",
       "      <td>0</td>\n",
       "      <td>0</td>\n",
       "      <td>0</td>\n",
       "      <td>0</td>\n",
       "      <td>0</td>\n",
       "      <td>0</td>\n",
       "    </tr>\n",
       "    <tr>\n",
       "      <th>12349.0</th>\n",
       "      <td>0</td>\n",
       "      <td>0</td>\n",
       "      <td>0</td>\n",
       "      <td>0</td>\n",
       "      <td>0</td>\n",
       "      <td>0</td>\n",
       "      <td>0</td>\n",
       "      <td>0</td>\n",
       "      <td>0</td>\n",
       "      <td>0</td>\n",
       "      <td>...</td>\n",
       "      <td>0</td>\n",
       "      <td>0</td>\n",
       "      <td>0</td>\n",
       "      <td>0</td>\n",
       "      <td>0</td>\n",
       "      <td>0</td>\n",
       "      <td>0</td>\n",
       "      <td>0</td>\n",
       "      <td>0</td>\n",
       "      <td>0</td>\n",
       "    </tr>\n",
       "  </tbody>\n",
       "</table>\n",
       "<p>4 rows × 3931 columns</p>\n",
       "</div>"
      ],
      "text/plain": [
       "             4 PURPLE FLOCK DINNER CANDLES   50'S CHRISTMAS GIFT BAG LARGE  \\\n",
       "customerid                                                                   \n",
       "12346.0                                  0                               0   \n",
       "12347.0                                  0                               0   \n",
       "12348.0                                  0                               0   \n",
       "12349.0                                  0                               0   \n",
       "\n",
       "             DOLLY GIRL BEAKER   I LOVE LONDON MINI BACKPACK  \\\n",
       "customerid                                                     \n",
       "12346.0                      0                             0   \n",
       "12347.0                      0                             0   \n",
       "12348.0                      0                             0   \n",
       "12349.0                      0                             0   \n",
       "\n",
       "             I LOVE LONDON MINI RUCKSACK   NINE DRAWER OFFICE TIDY  \\\n",
       "customerid                                                           \n",
       "12346.0                                0                         0   \n",
       "12347.0                                0                         0   \n",
       "12348.0                                0                         0   \n",
       "12349.0                                0                         0   \n",
       "\n",
       "             OVAL WALL MIRROR DIAMANTE    RED SPOT GIFT BAG LARGE  \\\n",
       "customerid                                                          \n",
       "12346.0                               0                         0   \n",
       "12347.0                               0                         0   \n",
       "12348.0                               0                         0   \n",
       "12349.0                               0                         0   \n",
       "\n",
       "             SET 2 TEA TOWELS I LOVE LONDON    SPACEBOY BABY GIFT SET  ...  \\\n",
       "customerid                                                             ...   \n",
       "12346.0                                    0                        0  ...   \n",
       "12347.0                                    0                        0  ...   \n",
       "12348.0                                    0                        0  ...   \n",
       "12349.0                                    0                        0  ...   \n",
       "\n",
       "            country_RSA  country_Saudi Arabia  country_Singapore  \\\n",
       "customerid                                                         \n",
       "12346.0               0                     0                  0   \n",
       "12347.0               0                     0                  0   \n",
       "12348.0               0                     0                  0   \n",
       "12349.0               0                     0                  0   \n",
       "\n",
       "            country_Spain  country_Sweden  country_Switzerland  country_USA  \\\n",
       "customerid                                                                    \n",
       "12346.0                 0               0                    0            0   \n",
       "12347.0                 0               0                    0            0   \n",
       "12348.0                 0               0                    0            0   \n",
       "12349.0                 0               0                    0            0   \n",
       "\n",
       "            country_United Arab Emirates  country_United Kingdom  \\\n",
       "customerid                                                         \n",
       "12346.0                                0                       1   \n",
       "12347.0                                0                       0   \n",
       "12348.0                                0                       0   \n",
       "12349.0                                0                       0   \n",
       "\n",
       "            country_Unspecified  \n",
       "customerid                       \n",
       "12346.0                       0  \n",
       "12347.0                       0  \n",
       "12348.0                       0  \n",
       "12349.0                       0  \n",
       "\n",
       "[4 rows x 3931 columns]"
      ]
     },
     "execution_count": 285,
     "metadata": {},
     "output_type": "execute_result"
    }
   ],
   "source": [
    "df4 = df3.merge(buyers, left_index=True, right_on='customerid')\n",
    "df4 = pd.get_dummies(df4, columns=['country'])\n",
    "df4.head(4)"
   ]
  },
  {
   "cell_type": "markdown",
   "id": "6ed870f2-0bad-49cd-96af-381bbb3bdbfa",
   "metadata": {},
   "source": [
    "<font color=white>.</font>"
   ]
  },
  {
   "cell_type": "markdown",
   "id": "ffc4e42f-61ac-44fc-8d34-b0f9b1cc3731",
   "metadata": {},
   "source": [
    "#### Train test split"
   ]
  },
  {
   "cell_type": "markdown",
   "id": "ee1728aa-786d-4131-8a32-8f6d22ed8fab",
   "metadata": {},
   "source": [
    "Setting up X & y. Since 'ASSORTED COLOUR BIRD ORNAMENT' is a popular purchase (for a large # of customers), I am predicting the likelihood of a customer purchasing this product based on their previous purchases."
   ]
  },
  {
   "cell_type": "code",
   "execution_count": 329,
   "id": "e5c5a0c8-070a-4321-86c8-5a7f02f5db99",
   "metadata": {
    "tags": []
   },
   "outputs": [],
   "source": [
    "X = df4.drop(columns='ASSORTED COLOUR BIRD ORNAMENT')\n",
    "y = df4['ASSORTED COLOUR BIRD ORNAMENT']\n",
    "\n",
    "from sklearn.model_selection import train_test_split\n",
    "X_train, X_test, y_train, y_test = train_test_split(X, y, stratify=y, random_state=42)"
   ]
  },
  {
   "cell_type": "markdown",
   "id": "e21e5919-a241-47a8-9489-64cb85102515",
   "metadata": {},
   "source": [
    "<font color=white>.</font>"
   ]
  },
  {
   "cell_type": "markdown",
   "id": "2470f4ae-a149-4851-99de-e7d10e99e2ea",
   "metadata": {},
   "source": [
    "### Baseline Model"
   ]
  },
  {
   "cell_type": "markdown",
   "id": "1f6ab108-aff8-46f9-befe-0694b78d622d",
   "metadata": {},
   "source": [
    "I built a baseline model that predicts the majority class (no bird ornament purchases.)"
   ]
  },
  {
   "cell_type": "code",
   "execution_count": 330,
   "id": "f300d304-e3b7-4f9f-8782-b94cd7a19da6",
   "metadata": {},
   "outputs": [
    {
     "data": {
      "text/plain": [
       "0    0.844832\n",
       "1    0.155168\n",
       "Name: ASSORTED COLOUR BIRD ORNAMENT, dtype: float64"
      ]
     },
     "execution_count": 330,
     "metadata": {},
     "output_type": "execute_result"
    }
   ],
   "source": [
    "y.value_counts(normalize=True)"
   ]
  },
  {
   "cell_type": "markdown",
   "id": "87972345-5d87-4688-9d53-876587a67e4f",
   "metadata": {},
   "source": [
    "<font color=white>.</font>"
   ]
  },
  {
   "cell_type": "markdown",
   "id": "b66e6cac-bd02-445f-a242-bf6e4a801660",
   "metadata": {},
   "source": [
    "Due to having imbalanced classes in my data, I used balanced_accuracy_score (aliased as <code>acc</code>) and f1_score (alised as <code>f1</code>) as my metrics, and made sure to consider this when modeling. If I had more time, I might consider trying additional methods to balance the data:\n",
    "\n",
    "* Redefining features as aggregations of different categories of items (i.e., \"Christmas Decorations, general\")\n",
    "* Generating additional fake data for the minority class"
   ]
  },
  {
   "cell_type": "code",
   "execution_count": 332,
   "id": "d3ade2c1-ade9-43ac-b80d-025aa6061199",
   "metadata": {},
   "outputs": [],
   "source": [
    "from sklearn.metrics import balanced_accuracy_score as acc, f1_score as f1"
   ]
  },
  {
   "cell_type": "code",
   "execution_count": 462,
   "id": "33044d76-34d7-4caa-a74c-409f1f925c7f",
   "metadata": {},
   "outputs": [],
   "source": [
    "from sklearn.dummy import DummyClassifier\n",
    "\n",
    "dc = DummyClassifier(strategy='most_frequent')\n",
    "dc.fit(X_train, y_train)\n",
    "preds=dc.predict(X_test)\n",
    "preds2=dc.predict(X_train)\n",
    "\n",
    "a0 = pd.DataFrame([{'classifier':'baseline',\n",
    "                  'train f1':f1(y_train, preds2),\n",
    "                    'test f1':f1(y_test, preds),\n",
    "                  'train acc': acc(y_train, preds2),\n",
    "                  'test acc': acc(y_test, preds) }]  )"
   ]
  },
  {
   "cell_type": "markdown",
   "id": "1ca7ae16-fd31-4f32-9990-34144bf3db8d",
   "metadata": {},
   "source": [
    "<font color=white>.</font>"
   ]
  },
  {
   "cell_type": "code",
   "execution_count": 473,
   "id": "814805d8-2c8b-4521-be9d-abf858b9ff2c",
   "metadata": {},
   "outputs": [],
   "source": [
    "def x(styler):\n",
    "    styler.set_caption(\"Model Testing Results\")\n",
    "    styler.background_gradient(axis=None, vmin=-0.5, vmax=1.4, cmap=\"RdBu\")\n",
    "    return styler"
   ]
  },
  {
   "cell_type": "code",
   "execution_count": 625,
   "id": "a8eaef05-a7b2-4f40-96ea-e0fcf1050ae1",
   "metadata": {},
   "outputs": [
    {
     "data": {
      "text/html": [
       "<style type=\"text/css\">\n",
       "#T_b624d_row0_col0 {\n",
       "  width: 125px;\n",
       "  height: 30px;\n",
       "}\n",
       "#T_b624d_row0_col1, #T_b624d_row0_col2 {\n",
       "  width: 125px;\n",
       "  height: 30px;\n",
       "  background-color: #e98b6e;\n",
       "  color: #f1f1f1;\n",
       "}\n",
       "#T_b624d_row0_col3, #T_b624d_row0_col4 {\n",
       "  width: 125px;\n",
       "  height: 30px;\n",
       "  background-color: #edf2f5;\n",
       "  color: #000000;\n",
       "}\n",
       "</style>\n",
       "<table id=\"T_b624d_\">\n",
       "  <caption>Model Testing Results</caption>\n",
       "  <thead>\n",
       "    <tr>\n",
       "      <th class=\"blank level0\" >&nbsp;</th>\n",
       "      <th class=\"col_heading level0 col0\" >classifier</th>\n",
       "      <th class=\"col_heading level0 col1\" >train f1</th>\n",
       "      <th class=\"col_heading level0 col2\" >test f1</th>\n",
       "      <th class=\"col_heading level0 col3\" >train acc</th>\n",
       "      <th class=\"col_heading level0 col4\" >test acc</th>\n",
       "    </tr>\n",
       "  </thead>\n",
       "  <tbody>\n",
       "    <tr>\n",
       "      <th id=\"T_b624d_level0_row0\" class=\"row_heading level0 row0\" >0</th>\n",
       "      <td id=\"T_b624d_row0_col0\" class=\"data row0 col0\" >baseline</td>\n",
       "      <td id=\"T_b624d_row0_col1\" class=\"data row0 col1\" >0.000000</td>\n",
       "      <td id=\"T_b624d_row0_col2\" class=\"data row0 col2\" >0.000000</td>\n",
       "      <td id=\"T_b624d_row0_col3\" class=\"data row0 col3\" >0.500000</td>\n",
       "      <td id=\"T_b624d_row0_col4\" class=\"data row0 col4\" >0.500000</td>\n",
       "    </tr>\n",
       "  </tbody>\n",
       "</table>\n"
      ],
      "text/plain": [
       "<pandas.io.formats.style.Styler at 0x7fa2ecec8a90>"
      ]
     },
     "execution_count": 625,
     "metadata": {},
     "output_type": "execute_result"
    }
   ],
   "source": [
    "a0.style.set_properties(**{'width': '125px', 'height':'30px'}).pipe(x)"
   ]
  },
  {
   "cell_type": "markdown",
   "id": "fb818a03-2507-4741-9d75-67ebd658a407",
   "metadata": {},
   "source": [
    "<font color=white>.</font>"
   ]
  },
  {
   "cell_type": "markdown",
   "id": "5d598ba8-7f68-4291-b2ad-ae81ebf4d70e",
   "metadata": {},
   "source": [
    "My baseline model had a balanced accuracy score of 50%, and an f1 score of 0 (not great). \n",
    "\n",
    "However, it performs exactly as expected for a model that makes the same guess every time.\n"
   ]
  },
  {
   "cell_type": "markdown",
   "id": "3c4ae025-b17a-46f4-a01d-a5ce560b39f2",
   "metadata": {},
   "source": [
    "<font color=white>.</font>"
   ]
  },
  {
   "cell_type": "markdown",
   "id": "54a78dbb-9919-4a23-89a2-9f3dc7627214",
   "metadata": {},
   "source": [
    "## Model Testing"
   ]
  },
  {
   "cell_type": "markdown",
   "id": "8de2a33e-21e0-47bd-bf0a-aa51106864f8",
   "metadata": {},
   "source": [
    "#### ***Logistic Regression***"
   ]
  },
  {
   "cell_type": "markdown",
   "id": "e2261ab5-c9ce-4743-bf99-e5d195d38f5b",
   "metadata": {},
   "source": [
    "<img src='./img/logreg.svg' height=160 width=160>"
   ]
  },
  {
   "cell_type": "markdown",
   "id": "0608c619-61bd-419e-951a-ed52d5509069",
   "metadata": {},
   "source": [
    "The first model I tried was a simple logistic regression with no normalization. \n",
    "\n",
    "Logistic regression has a few limitations, some of which my data may not meet. However, despite this, my basic logistic regression performed fairly well compared to the baseline model.\n",
    "* It assumes little or no multicollinearity between independent variables (may or may not be true for this  dataset).\n",
    "* It assumes that the independent variables are linearly related to the log odds.\n",
    "* Data needs to be scaled. (In this case, it's already boolean data.)\n",
    "* It requires a large sample size. Number of features should not exceed rows of data. \n"
   ]
  },
  {
   "cell_type": "code",
   "execution_count": 489,
   "id": "39351bfa-dfe1-4599-8478-d6f0817164a7",
   "metadata": {},
   "outputs": [],
   "source": [
    "from sklearn.linear_model import LogisticRegression\n",
    "from sklearn.pipeline import Pipeline, make_pipeline\n",
    "from sklearn.preprocessing import PolynomialFeatures\n",
    "\n",
    "pipe = Pipeline([\n",
    "    ('lr', LogisticRegression(class_weight='balanced', max_iter=10000, C=0.075, random_state=42))\n",
    "    ])\n",
    "\n",
    "# the pipe was not used, but I set it up incase I needed it later.\n",
    "    \n",
    "pipe.fit(X_train, y_train)\n",
    "preds = pipe.predict(X_test)\n",
    "preds2=pipe.predict(X_train)\n",
    "\n",
    "\n",
    "a = pd.DataFrame([{'classifier':'logreg',\n",
    "                'train f1':f1(y_train, preds2),\n",
    "                'test f1':f1(y_test, preds),\n",
    "                'train acc': acc(y_train, preds2),\n",
    "                'test acc': acc(y_test, preds) }] )"
   ]
  },
  {
   "cell_type": "code",
   "execution_count": 486,
   "id": "6f651713-a163-48d4-9054-1752a7822899",
   "metadata": {},
   "outputs": [
    {
     "name": "stdout",
     "output_type": "stream",
     "text": [
      "Fitting 5 folds for each of 2 candidates, totalling 10 fits\n"
     ]
    },
    {
     "data": {
      "text/plain": [
       "({'max_iter': 1000, 'class_weight': 'balanced', 'C': 0.075},\n",
       " 0.8395457198216496)"
      ]
     },
     "execution_count": 486,
     "metadata": {},
     "output_type": "execute_result"
    }
   ],
   "source": [
    "from sklearn.model_selection import RandomizedSearchCV\n",
    "\n",
    "lr = LogisticRegression()\n",
    "\n",
    "# Grid search for best hyperparams\n",
    "\n",
    "hyperparams = {\n",
    "    'C': [0.07, 0.075], #,0.02, 0.05, 1, 5, 0.5, 0.7, 0.4,  0.45, 0.3,0.2, 0.1, 0.15, 0.09, \n",
    "    'class_weight': ['balanced'],\n",
    "    'max_iter': [1000]\n",
    "}\n",
    "\n",
    "rcv = RandomizedSearchCV(lr, hyperparams, cv = 5, verbose = 1, error_score = \"raise\", n_iter = 2, random_state=42)\n",
    "rcv.fit(X_train, y_train)\n",
    "rcv.best_params_, rcv.best_score_"
   ]
  },
  {
   "cell_type": "markdown",
   "id": "5a4ab646-6fc0-49f4-83e8-874983a8e152",
   "metadata": {},
   "source": [
    "<font color=white>.</font>"
   ]
  },
  {
   "cell_type": "code",
   "execution_count": null,
   "id": "58b2b152-3242-489b-8ce8-e6c51c830033",
   "metadata": {},
   "outputs": [],
   "source": [
    "pd.merge(pd.DataFrame(pipe['lr'].coef_, index=X_train.columns).sort_values(by=0, ascending=False),\n",
    "         num, \n",
    "         left_index=True, \n",
    "         right_on='description').set_index('description').rename(columns={'description':'item', 0:'importance', 'quantity':'number of unique sales'})"
   ]
  },
  {
   "cell_type": "markdown",
   "id": "e70dd492-48d2-45b4-9235-78e79777439a",
   "metadata": {},
   "source": [
    "<font color=white>.</font>"
   ]
  },
  {
   "cell_type": "code",
   "execution_count": 624,
   "id": "0663680b-94c8-4c4c-8660-fe06dd425867",
   "metadata": {},
   "outputs": [
    {
     "data": {
      "text/html": [
       "<style type=\"text/css\">\n",
       "#T_fd890_row0_col0 {\n",
       "  width: 125px;\n",
       "  height: 30px;\n",
       "}\n",
       "#T_fd890_row0_col1 {\n",
       "  width: 125px;\n",
       "  height: 30px;\n",
       "  background-color: #8ac0db;\n",
       "  color: #000000;\n",
       "}\n",
       "#T_fd890_row0_col2 {\n",
       "  width: 125px;\n",
       "  height: 30px;\n",
       "  background-color: #dbeaf2;\n",
       "  color: #000000;\n",
       "}\n",
       "#T_fd890_row0_col3 {\n",
       "  width: 125px;\n",
       "  height: 30px;\n",
       "  background-color: #65a9cf;\n",
       "  color: #f1f1f1;\n",
       "}\n",
       "#T_fd890_row0_col4 {\n",
       "  width: 125px;\n",
       "  height: 30px;\n",
       "  background-color: #a5cee3;\n",
       "  color: #000000;\n",
       "}\n",
       "</style>\n",
       "<table id=\"T_fd890_\">\n",
       "  <caption>Model Testing Results</caption>\n",
       "  <thead>\n",
       "    <tr>\n",
       "      <th class=\"blank level0\" >&nbsp;</th>\n",
       "      <th class=\"col_heading level0 col0\" >classifier</th>\n",
       "      <th class=\"col_heading level0 col1\" >train f1</th>\n",
       "      <th class=\"col_heading level0 col2\" >test f1</th>\n",
       "      <th class=\"col_heading level0 col3\" >train acc</th>\n",
       "      <th class=\"col_heading level0 col4\" >test acc</th>\n",
       "    </tr>\n",
       "  </thead>\n",
       "  <tbody>\n",
       "    <tr>\n",
       "      <th id=\"T_fd890_level0_row0\" class=\"row_heading level0 row0\" >0</th>\n",
       "      <td id=\"T_fd890_row0_col0\" class=\"data row0 col0\" >logreg</td>\n",
       "      <td id=\"T_fd890_row0_col1\" class=\"data row0 col1\" >0.845807</td>\n",
       "      <td id=\"T_fd890_row0_col2\" class=\"data row0 col2\" >0.586667</td>\n",
       "      <td id=\"T_fd890_row0_col3\" class=\"data row0 col3\" >0.937736</td>\n",
       "      <td id=\"T_fd890_row0_col4\" class=\"data row0 col4\" >0.773383</td>\n",
       "    </tr>\n",
       "  </tbody>\n",
       "</table>\n"
      ],
      "text/plain": [
       "<pandas.io.formats.style.Styler at 0x7fa2ecec8940>"
      ]
     },
     "execution_count": 624,
     "metadata": {},
     "output_type": "execute_result"
    }
   ],
   "source": [
    "a.style.set_properties(**{'width': '125px', 'height':'30px'}).pipe(x)"
   ]
  },
  {
   "cell_type": "markdown",
   "id": "52cbf27c-e9b2-42db-b7ce-77d586d38a47",
   "metadata": {},
   "source": [
    "Even with regularization this model is pretty overfit!"
   ]
  },
  {
   "cell_type": "markdown",
   "id": "705fb855-ff4e-43fb-a913-64fcf3e06794",
   "metadata": {},
   "source": [
    "<font color=white>.</font>"
   ]
  },
  {
   "cell_type": "markdown",
   "id": "6a0a8e47-cae0-4aa2-8c0f-db9b49007ead",
   "metadata": {},
   "source": [
    "<font color=white>.</font>"
   ]
  },
  {
   "cell_type": "markdown",
   "id": "323294b2-4026-41b1-b04f-2809396f74e1",
   "metadata": {
    "tags": []
   },
   "source": [
    "#### ***KNN***"
   ]
  },
  {
   "cell_type": "markdown",
   "id": "cb1228e3-db8a-49ab-b617-c5d8acb73c2e",
   "metadata": {},
   "source": [
    "<img src='./img/knn.svg' height=160 width=160>"
   ]
  },
  {
   "cell_type": "code",
   "execution_count": 467,
   "id": "92c232e0-dd8a-48f4-a97b-5428abc5ddab",
   "metadata": {},
   "outputs": [],
   "source": [
    "from sklearn.neighbors import KNeighborsClassifier\n",
    "\n",
    "pipe = Pipeline([\n",
    "    ('kn', KNeighborsClassifier(n_neighbors=3, p=1)\n",
    "    )])\n",
    "    \n",
    "pipe.fit(X_train, y_train)\n",
    "preds = pipe.predict(X_test)\n",
    "preds2 = pipe.predict(X_train)\n",
    "\n",
    "\n",
    "b = pd.DataFrame( [{'classifier':'KNN',\n",
    "                'train f1': f1(y_train, preds2),\n",
    "                'test f1': f1(y_test, preds),\n",
    "                'train acc': acc(y_train, preds2),\n",
    "                'test acc': acc(y_test, preds) }] )"
   ]
  },
  {
   "cell_type": "code",
   "execution_count": 353,
   "id": "ee82271c-9c9c-44d7-ac6c-8884a745e641",
   "metadata": {},
   "outputs": [
    {
     "name": "stdout",
     "output_type": "stream",
     "text": [
      "Fitting 5 folds for each of 2 candidates, totalling 10 fits\n"
     ]
    },
    {
     "data": {
      "text/plain": [
       "({'p': 1, 'n_neighbors': 3}, 0.8450489063193036)"
      ]
     },
     "execution_count": 353,
     "metadata": {},
     "output_type": "execute_result"
    }
   ],
   "source": [
    "kn = KNeighborsClassifier()\n",
    "\n",
    "# Grid search for best hyperparams\n",
    "\n",
    "hyperparams = {\n",
    "    'n_neighbors': [2, 3], #, 5] #, 10] #, 15, 20, 50],\n",
    "    'p':[1,2],\n",
    "    #'weights': ['uniform', 'distance']\n",
    "}\n",
    "\n",
    "rcv = RandomizedSearchCV(kn, hyperparams, cv = 5, verbose = 1, error_score = \"raise\", n_iter = 2)\n",
    "rcv.fit(X_train, y_train)\n",
    "rcv.best_params_, rcv.best_score_"
   ]
  },
  {
   "cell_type": "markdown",
   "id": "a8de4834-aab6-48b0-9cd9-7939f7cbd861",
   "metadata": {},
   "source": [
    "<font color=white>.</font>"
   ]
  },
  {
   "cell_type": "code",
   "execution_count": 623,
   "id": "9515294d-142c-4837-8793-95e21ffb125e",
   "metadata": {
    "tags": []
   },
   "outputs": [
    {
     "data": {
      "text/html": [
       "<style type=\"text/css\">\n",
       "#T_acd80_row0_col0 {\n",
       "  width: 125px;\n",
       "  height: 30px;\n",
       "}\n",
       "#T_acd80_row0_col1 {\n",
       "  width: 125px;\n",
       "  height: 30px;\n",
       "  background-color: #f3a481;\n",
       "  color: #000000;\n",
       "}\n",
       "#T_acd80_row0_col2 {\n",
       "  width: 125px;\n",
       "  height: 30px;\n",
       "  background-color: #ef9979;\n",
       "  color: #000000;\n",
       "}\n",
       "#T_acd80_row0_col3 {\n",
       "  width: 125px;\n",
       "  height: 30px;\n",
       "  background-color: #e9f0f4;\n",
       "  color: #000000;\n",
       "}\n",
       "#T_acd80_row0_col4 {\n",
       "  width: 125px;\n",
       "  height: 30px;\n",
       "  background-color: #ecf2f5;\n",
       "  color: #000000;\n",
       "}\n",
       "</style>\n",
       "<table id=\"T_acd80_\">\n",
       "  <caption>Model Testing Results</caption>\n",
       "  <thead>\n",
       "    <tr>\n",
       "      <th class=\"blank level0\" >&nbsp;</th>\n",
       "      <th class=\"col_heading level0 col0\" >classifier</th>\n",
       "      <th class=\"col_heading level0 col1\" >train f1</th>\n",
       "      <th class=\"col_heading level0 col2\" >test f1</th>\n",
       "      <th class=\"col_heading level0 col3\" >train acc</th>\n",
       "      <th class=\"col_heading level0 col4\" >test acc</th>\n",
       "    </tr>\n",
       "  </thead>\n",
       "  <tbody>\n",
       "    <tr>\n",
       "      <th id=\"T_acd80_level0_row0\" class=\"row_heading level0 row0\" >0</th>\n",
       "      <td id=\"T_acd80_row0_col0\" class=\"data row0 col0\" >KNN</td>\n",
       "      <td id=\"T_acd80_row0_col1\" class=\"data row0 col1\" >0.068441</td>\n",
       "      <td id=\"T_acd80_row0_col2\" class=\"data row0 col2\" >0.034884</td>\n",
       "      <td id=\"T_acd80_row0_col3\" class=\"data row0 col3\" >0.517717</td>\n",
       "      <td id=\"T_acd80_row0_col4\" class=\"data row0 col4\" >0.508876</td>\n",
       "    </tr>\n",
       "  </tbody>\n",
       "</table>\n"
      ],
      "text/plain": [
       "<pandas.io.formats.style.Styler at 0x7fa2eceb0c40>"
      ]
     },
     "execution_count": 623,
     "metadata": {},
     "output_type": "execute_result"
    }
   ],
   "source": [
    "b.style.set_properties(**{'width': '125px', 'height':'30px'}).pipe(x)"
   ]
  },
  {
   "cell_type": "markdown",
   "id": "d28e3fd3-2009-43cc-85f6-cb523ad988cd",
   "metadata": {},
   "source": [
    "I did not tune additional hyperparameters for this model due to the time it took to run. This model was also overfit, and the f1 score (weighted harmonic mean of precision and recall) was not good in this model. \n",
    "\n",
    "Taking a guess - I think this is likely because of the inability to set class weights for KNN in SciKitLearn (at least not without altering source code.) If I had additional time and wanted to improve this model, I'd focus on using additional methods of balancing the classes in my data."
   ]
  },
  {
   "cell_type": "markdown",
   "id": "f35b3695-38e5-4497-be2e-a740fb4b54f4",
   "metadata": {},
   "source": [
    "<font color=white>.</font>"
   ]
  },
  {
   "cell_type": "markdown",
   "id": "dfe5891a-ab18-435b-be68-bb1c22c1a727",
   "metadata": {},
   "source": [
    "<font color=white>.</font>"
   ]
  },
  {
   "cell_type": "markdown",
   "id": "de1bc1fe-e455-43d6-9694-e6e78223c842",
   "metadata": {},
   "source": [
    "#### ***Decision Tree***"
   ]
  },
  {
   "cell_type": "markdown",
   "id": "417c8d8a-5093-49fc-9247-2ebb62c5fd5c",
   "metadata": {},
   "source": [
    "Decision trees work by splitting on the best determining feature, like a nested \"if-then\" statement that sorts data into bins for each class.\n",
    "\n",
    "I thought a decision tree or random forest might work well, since they can handle multicollinearity and a large number of features (due to naturally ignoring the less important ones.)"
   ]
  },
  {
   "cell_type": "markdown",
   "id": "2faa707d-8729-4511-a6f1-196e1dc00394",
   "metadata": {},
   "source": [
    "<img src='./img/tree2.svg' height=160 width=160>"
   ]
  },
  {
   "cell_type": "markdown",
   "id": "c8939fb0-2fbb-458d-b293-068c91ca7cd2",
   "metadata": {},
   "source": [
    "<font color=white>.</font>"
   ]
  },
  {
   "cell_type": "code",
   "execution_count": 542,
   "id": "6d93f8fa-4197-44c7-8d9a-693551b96f55",
   "metadata": {},
   "outputs": [],
   "source": [
    "from sklearn.tree import DecisionTreeClassifier\n",
    "\n",
    "pipe = Pipeline([\n",
    "    ('tree', DecisionTreeClassifier(class_weight='balanced', random_state=42, max_depth=9)\n",
    "    )])\n",
    "    \n",
    "pipe.fit(X_train, y_train)\n",
    "preds = pipe.predict(X_test)\n",
    "preds2 = pipe.predict(X_train)\n",
    "\n",
    "\n",
    "c = pd.DataFrame([{'classifier':'dec tree',\n",
    "                'train f1':f1(y_train, preds2),\n",
    "                'test f1':f1(y_test, preds),\n",
    "                'train acc': acc(y_train, preds2),\n",
    "                'test acc': acc(y_test, preds) }]  )"
   ]
  },
  {
   "cell_type": "markdown",
   "id": "539bd3e9-4066-4b21-8220-3fb10c0085ed",
   "metadata": {},
   "source": [
    "<font color=white>.</font>"
   ]
  },
  {
   "cell_type": "code",
   "execution_count": 496,
   "id": "bb1386f7-6b8e-408e-8e10-6ecfcb0a8a43",
   "metadata": {},
   "outputs": [
    {
     "name": "stdout",
     "output_type": "stream",
     "text": [
      "Fitting 5 folds for each of 3 candidates, totalling 15 fits\n"
     ]
    },
    {
     "data": {
      "text/plain": [
       "({'splitter': 'best',\n",
       "  'random_state': 42,\n",
       "  'min_samples_split': 2,\n",
       "  'max_depth': 9,\n",
       "  'class_weight': 'balanced'},\n",
       " 0.8083731353736257)"
      ]
     },
     "execution_count": 496,
     "metadata": {},
     "output_type": "execute_result"
    }
   ],
   "source": [
    "dc = DecisionTreeClassifier()\n",
    "\n",
    "# Grid search for best hyperparams\n",
    "\n",
    "hyperparams = {\n",
    "    'splitter': ['best'], # 'random'\n",
    "    'max_depth': [9], #, 11, 22 ,2, 5, 50, 70, 7, 8           \n",
    "    'min_samples_split': [2], #, 3, 4                          \n",
    "    #'max_features': [ ],\n",
    "    'random_state': [42],\n",
    "    'class_weight': ['balanced']\n",
    "}\n",
    "\n",
    "rcv = RandomizedSearchCV(dc, hyperparams, cv = 5, verbose = 1, error_score = \"raise\", n_iter = 3)\n",
    "rcv.fit(X_train, y_train)\n",
    "rcv.best_params_, rcv.best_score_"
   ]
  },
  {
   "cell_type": "markdown",
   "id": "06631bc3-ee1c-4deb-8fa8-41c72d0d8228",
   "metadata": {},
   "source": [
    "<font color=white>.</font>"
   ]
  },
  {
   "cell_type": "code",
   "execution_count": 554,
   "id": "8d854dc9-abcb-4c6c-999b-994aa6e07dd0",
   "metadata": {
    "scrolled": true,
    "tags": []
   },
   "outputs": [
    {
     "data": {
      "text/html": [
       "<div>\n",
       "<style scoped>\n",
       "    .dataframe tbody tr th:only-of-type {\n",
       "        vertical-align: middle;\n",
       "    }\n",
       "\n",
       "    .dataframe tbody tr th {\n",
       "        vertical-align: top;\n",
       "    }\n",
       "\n",
       "    .dataframe thead th {\n",
       "        text-align: right;\n",
       "    }\n",
       "</style>\n",
       "<table border=\"1\" class=\"dataframe\">\n",
       "  <thead>\n",
       "    <tr style=\"text-align: right;\">\n",
       "      <th></th>\n",
       "      <th>importance</th>\n",
       "      <th>number of unique sales</th>\n",
       "    </tr>\n",
       "    <tr>\n",
       "      <th>description</th>\n",
       "      <th></th>\n",
       "      <th></th>\n",
       "    </tr>\n",
       "  </thead>\n",
       "  <tbody>\n",
       "    <tr>\n",
       "      <th>PAINTED METAL PEARS ASSORTED</th>\n",
       "      <td>0.281424</td>\n",
       "      <td>4467</td>\n",
       "    </tr>\n",
       "    <tr>\n",
       "      <th>REGENCY CAKESTAND 3 TIER</th>\n",
       "      <td>0.097266</td>\n",
       "      <td>11573</td>\n",
       "    </tr>\n",
       "    <tr>\n",
       "      <th>HOME BUILDING BLOCK WORD</th>\n",
       "      <td>0.052907</td>\n",
       "      <td>2643</td>\n",
       "    </tr>\n",
       "    <tr>\n",
       "      <th>VICTORIAN GLASS HANGING T-LIGHT</th>\n",
       "      <td>0.038282</td>\n",
       "      <td>21984</td>\n",
       "    </tr>\n",
       "    <tr>\n",
       "      <th>PACK OF 6 BIRDY GIFT TAGS</th>\n",
       "      <td>0.038067</td>\n",
       "      <td>6017</td>\n",
       "    </tr>\n",
       "    <tr>\n",
       "      <th>BOX OF 6 MINI VINTAGE CRACKERS</th>\n",
       "      <td>0.029504</td>\n",
       "      <td>3479</td>\n",
       "    </tr>\n",
       "    <tr>\n",
       "      <th>SET 6 PAPER TABLE LANTERN STARS</th>\n",
       "      <td>0.026865</td>\n",
       "      <td>1809</td>\n",
       "    </tr>\n",
       "    <tr>\n",
       "      <th>HEART BEADED TRELLIS DECORATION</th>\n",
       "      <td>0.021085</td>\n",
       "      <td>244</td>\n",
       "    </tr>\n",
       "    <tr>\n",
       "      <th>FRENCH STYLE EMBOSSED HEART CABINET</th>\n",
       "      <td>0.017959</td>\n",
       "      <td>21</td>\n",
       "    </tr>\n",
       "    <tr>\n",
       "      <th>ANTIQUE SILVER T-LIGHT GLASS</th>\n",
       "      <td>0.017668</td>\n",
       "      <td>12658</td>\n",
       "    </tr>\n",
       "    <tr>\n",
       "      <th>BATH BUILDING BLOCK WORD</th>\n",
       "      <td>0.016802</td>\n",
       "      <td>790</td>\n",
       "    </tr>\n",
       "    <tr>\n",
       "      <th>RED ROCKING HORSE HAND PAINTED</th>\n",
       "      <td>0.014836</td>\n",
       "      <td>2184</td>\n",
       "    </tr>\n",
       "    <tr>\n",
       "      <th>PAPER CHAIN KIT VINTAGE CHRISTMAS</th>\n",
       "      <td>0.013921</td>\n",
       "      <td>9082</td>\n",
       "    </tr>\n",
       "    <tr>\n",
       "      <th>MINIATURE ANTIQUE ROSE HOOK IVORY</th>\n",
       "      <td>0.012880</td>\n",
       "      <td>2057</td>\n",
       "    </tr>\n",
       "    <tr>\n",
       "      <th>JUMBO BAG VINTAGE CHRISTMAS</th>\n",
       "      <td>0.012576</td>\n",
       "      <td>4637</td>\n",
       "    </tr>\n",
       "    <tr>\n",
       "      <th>JUMBO BAG VINTAGE LEAF</th>\n",
       "      <td>0.012263</td>\n",
       "      <td>10474</td>\n",
       "    </tr>\n",
       "    <tr>\n",
       "      <th>WORLD WAR 2 GLIDERS ASSTD DESIGNS</th>\n",
       "      <td>0.011995</td>\n",
       "      <td>53215</td>\n",
       "    </tr>\n",
       "    <tr>\n",
       "      <th>HANGING MINI COLOURED BOTTLES</th>\n",
       "      <td>0.011330</td>\n",
       "      <td>3370</td>\n",
       "    </tr>\n",
       "    <tr>\n",
       "      <th>PARTY BUNTING</th>\n",
       "      <td>0.010888</td>\n",
       "      <td>15027</td>\n",
       "    </tr>\n",
       "    <tr>\n",
       "      <th>ANTIQUE ALL GLASS CANDLESTICK</th>\n",
       "      <td>0.009296</td>\n",
       "      <td>564</td>\n",
       "    </tr>\n",
       "  </tbody>\n",
       "</table>\n",
       "</div>"
      ],
      "text/plain": [
       "                                     importance  number of unique sales\n",
       "description                                                            \n",
       "PAINTED METAL PEARS ASSORTED           0.281424                    4467\n",
       "REGENCY CAKESTAND 3 TIER               0.097266                   11573\n",
       "HOME BUILDING BLOCK WORD               0.052907                    2643\n",
       "VICTORIAN GLASS HANGING T-LIGHT        0.038282                   21984\n",
       "PACK OF 6 BIRDY GIFT TAGS              0.038067                    6017\n",
       "BOX OF 6 MINI VINTAGE CRACKERS         0.029504                    3479\n",
       "SET 6 PAPER TABLE LANTERN STARS        0.026865                    1809\n",
       "HEART BEADED TRELLIS DECORATION        0.021085                     244\n",
       "FRENCH STYLE EMBOSSED HEART CABINET    0.017959                      21\n",
       "ANTIQUE SILVER T-LIGHT GLASS           0.017668                   12658\n",
       "BATH BUILDING BLOCK WORD               0.016802                     790\n",
       "RED ROCKING HORSE HAND PAINTED         0.014836                    2184\n",
       "PAPER CHAIN KIT VINTAGE CHRISTMAS      0.013921                    9082\n",
       "MINIATURE ANTIQUE ROSE HOOK IVORY      0.012880                    2057\n",
       "JUMBO BAG VINTAGE CHRISTMAS            0.012576                    4637\n",
       "JUMBO BAG VINTAGE LEAF                 0.012263                   10474\n",
       "WORLD WAR 2 GLIDERS ASSTD DESIGNS      0.011995                   53215\n",
       "HANGING MINI COLOURED BOTTLES          0.011330                    3370\n",
       "PARTY BUNTING                          0.010888                   15027\n",
       "ANTIQUE ALL GLASS CANDLESTICK          0.009296                     564"
      ]
     },
     "execution_count": 554,
     "metadata": {},
     "output_type": "execute_result"
    }
   ],
   "source": [
    "pd.merge(pd.DataFrame(pipe['tree'].feature_importances_, index=X_train.columns).sort_values(by=0, ascending=False).head(20), \n",
    "         num, \n",
    "         left_index=True, \n",
    "         right_on='description').set_index('description').rename(columns={'description':'item', 0:'importance', 'quantity':'number of unique sales'})"
   ]
  },
  {
   "cell_type": "markdown",
   "id": "b25b7ed0-1c5f-4f7f-a981-ba15b76a51c4",
   "metadata": {},
   "source": [
    "<font color=white>.</font>"
   ]
  },
  {
   "cell_type": "code",
   "execution_count": 622,
   "id": "970d5cbe-d791-4853-bcff-2dad6b8dc2d1",
   "metadata": {
    "tags": []
   },
   "outputs": [
    {
     "data": {
      "text/html": [
       "<style type=\"text/css\">\n",
       "#T_e8f07_row0_col0 {\n",
       "  width: 125px;\n",
       "  height: 30px;\n",
       "}\n",
       "#T_e8f07_row0_col1 {\n",
       "  width: 125px;\n",
       "  height: 30px;\n",
       "  background-color: #bbdaea;\n",
       "  color: #000000;\n",
       "}\n",
       "#T_e8f07_row0_col2 {\n",
       "  width: 125px;\n",
       "  height: 30px;\n",
       "  background-color: #f8f4f2;\n",
       "  color: #000000;\n",
       "}\n",
       "#T_e8f07_row0_col3 {\n",
       "  width: 125px;\n",
       "  height: 30px;\n",
       "  background-color: #8ac0db;\n",
       "  color: #000000;\n",
       "}\n",
       "#T_e8f07_row0_col4 {\n",
       "  width: 125px;\n",
       "  height: 30px;\n",
       "  background-color: #c7e0ed;\n",
       "  color: #000000;\n",
       "}\n",
       "</style>\n",
       "<table id=\"T_e8f07_\">\n",
       "  <caption>Model Testing Results</caption>\n",
       "  <thead>\n",
       "    <tr>\n",
       "      <th class=\"blank level0\" >&nbsp;</th>\n",
       "      <th class=\"col_heading level0 col0\" >classifier</th>\n",
       "      <th class=\"col_heading level0 col1\" >train f1</th>\n",
       "      <th class=\"col_heading level0 col2\" >test f1</th>\n",
       "      <th class=\"col_heading level0 col3\" >train acc</th>\n",
       "      <th class=\"col_heading level0 col4\" >test acc</th>\n",
       "    </tr>\n",
       "  </thead>\n",
       "  <tbody>\n",
       "    <tr>\n",
       "      <th id=\"T_e8f07_level0_row0\" class=\"row_heading level0 row0\" >0</th>\n",
       "      <td id=\"T_e8f07_row0_col0\" class=\"data row0 col0\" >dec tree</td>\n",
       "      <td id=\"T_e8f07_row0_col1\" class=\"data row0 col1\" >0.704918</td>\n",
       "      <td id=\"T_e8f07_row0_col2\" class=\"data row0 col2\" >0.428198</td>\n",
       "      <td id=\"T_e8f07_row0_col3\" class=\"data row0 col3\" >0.844183</td>\n",
       "      <td id=\"T_e8f07_row0_col4\" class=\"data row0 col4\" >0.671020</td>\n",
       "    </tr>\n",
       "  </tbody>\n",
       "</table>\n"
      ],
      "text/plain": [
       "<pandas.io.formats.style.Styler at 0x7fa2eceb00a0>"
      ]
     },
     "execution_count": 622,
     "metadata": {},
     "output_type": "execute_result"
    }
   ],
   "source": [
    "c.style.set_properties(**{'width': '125px', 'height':'30px'}).pipe(x)"
   ]
  },
  {
   "cell_type": "markdown",
   "id": "932bb97b-fdb5-46f9-a706-ac23a5188e66",
   "metadata": {},
   "source": [
    "<font color=white>.</font>"
   ]
  },
  {
   "cell_type": "markdown",
   "id": "122522c8-024b-4ed1-abae-32098f46d0ca",
   "metadata": {},
   "source": [
    "I didn't spend much time on the decision tree because I wanted to try a random forest."
   ]
  },
  {
   "cell_type": "markdown",
   "id": "86e67988-ecc2-40ed-b846-cd7b78c71649",
   "metadata": {},
   "source": [
    "<font color=white>.</font>"
   ]
  },
  {
   "cell_type": "markdown",
   "id": "a9e00cdc-dc99-4ff5-b4f6-afd2f674e32d",
   "metadata": {},
   "source": [
    "<font color=white>.</font>"
   ]
  },
  {
   "cell_type": "markdown",
   "id": "188340c3-2e10-4350-80c2-6bbc59410818",
   "metadata": {},
   "source": [
    "#### ***Random Forest***"
   ]
  },
  {
   "cell_type": "markdown",
   "id": "3091f162-e0cf-40a8-8f22-785124dd8503",
   "metadata": {},
   "source": [
    "<img src='./img/rf.svg' height=160 width=160>"
   ]
  },
  {
   "cell_type": "markdown",
   "id": "b48ac916-566a-4bfc-9c77-6435e2e1e0f5",
   "metadata": {},
   "source": [
    "Random forests work by taking many samples with replacement from the original data (bagging), fitting a decision tree on each sample and creating a model, and combining the predictions (ensembling). \n",
    "\n",
    "In order to avoid high correlation between models themselves, decision trees select a random subset of features at each split, instead of the \"best\" features."
   ]
  },
  {
   "cell_type": "code",
   "execution_count": 530,
   "id": "6b7d8296-f5ee-4cfa-b0fd-fb58411fae9f",
   "metadata": {},
   "outputs": [
    {
     "data": {
      "text/plain": [
       "62.68971207462992"
      ]
     },
     "execution_count": 530,
     "metadata": {},
     "output_type": "execute_result"
    }
   ],
   "source": [
    "# check default param for max_features\n",
    "len(list(X_train.columns))**0.5"
   ]
  },
  {
   "cell_type": "markdown",
   "id": "1d971b78-63d8-497f-a8e1-d3de6e31280b",
   "metadata": {},
   "source": [
    "<font color=white>.</font>"
   ]
  },
  {
   "cell_type": "code",
   "execution_count": 569,
   "id": "214f3803-f0b9-4682-9df4-1d9928a4cc0b",
   "metadata": {},
   "outputs": [],
   "source": [
    "from sklearn.ensemble import RandomForestClassifier\n",
    "\n",
    "pipe = Pipeline([\n",
    "    ('rf', RandomForestClassifier(random_state=42, n_estimators=85, max_features=300,  min_samples_split=6, max_samples=0.4, min_samples_leaf=4)\n",
    "    )])\n",
    "    \n",
    "pipe.fit(X_train, y_train)\n",
    "preds = pipe.predict(X_test)\n",
    "preds2=pipe.predict(X_train)\n",
    "\n",
    "\n",
    "d = pd.DataFrame( [{'classifier':'random forest',\n",
    "                'train f1':f1(y_train, preds2),\n",
    "                'test f1':f1(y_test, preds),\n",
    "                'train acc': acc(y_train, preds2),\n",
    "                'test acc': acc(y_test, preds) }] )"
   ]
  },
  {
   "cell_type": "code",
   "execution_count": 561,
   "id": "8e80f595-129c-4169-adf7-c58a8467110a",
   "metadata": {},
   "outputs": [
    {
     "name": "stdout",
     "output_type": "stream",
     "text": [
      "Fitting 5 folds for each of 3 candidates, totalling 15 fits\n"
     ]
    },
    {
     "data": {
      "text/plain": [
       "({'n_estimators': 85,\n",
       "  'min_samples_split': 6,\n",
       "  'min_samples_leaf': 5,\n",
       "  'max_samples': 0.4,\n",
       "  'max_features': 500,\n",
       "  'max_depth': None},\n",
       " 0.8777491420967853)"
      ]
     },
     "execution_count": 561,
     "metadata": {},
     "output_type": "execute_result"
    }
   ],
   "source": [
    "rf = RandomForestClassifier()\n",
    "\n",
    "# Grid search for best hyperparams\n",
    "\n",
    "hyperparams = {\n",
    "    'max_samples': [0.4],\n",
    "    'n_estimators': [85], #10, 50, 150, 200\n",
    "    'min_samples_split': [6], #2, 3, 4, 5, \n",
    "    'max_features': [500], #20, 150, 200,  'auto'\n",
    "    'max_depth': [None], #, 5, 9, 20\n",
    "    'min_samples_leaf': [4, 5, 6] #,1,\n",
    "}\n",
    "\n",
    "rcv = RandomizedSearchCV(rf, hyperparams, cv = 5, verbose = 1, error_score = \"raise\", n_iter = 3)\n",
    "rcv.fit(X_train, y_train)\n",
    "rcv.best_params_, rcv.best_score_"
   ]
  },
  {
   "cell_type": "markdown",
   "id": "73d0741c-cc12-4ddc-916d-ea55715b8910",
   "metadata": {},
   "source": [
    "<font color=white>.</font>"
   ]
  },
  {
   "cell_type": "code",
   "execution_count": 574,
   "id": "11231cd0-dbf0-4fa3-affb-860f355a5054",
   "metadata": {
    "scrolled": true,
    "tags": []
   },
   "outputs": [
    {
     "data": {
      "text/html": [
       "<div>\n",
       "<style scoped>\n",
       "    .dataframe tbody tr th:only-of-type {\n",
       "        vertical-align: middle;\n",
       "    }\n",
       "\n",
       "    .dataframe tbody tr th {\n",
       "        vertical-align: top;\n",
       "    }\n",
       "\n",
       "    .dataframe thead th {\n",
       "        text-align: right;\n",
       "    }\n",
       "</style>\n",
       "<table border=\"1\" class=\"dataframe\">\n",
       "  <thead>\n",
       "    <tr style=\"text-align: right;\">\n",
       "      <th></th>\n",
       "      <th>importance</th>\n",
       "      <th>number of unique sales</th>\n",
       "    </tr>\n",
       "    <tr>\n",
       "      <th>description</th>\n",
       "      <th></th>\n",
       "      <th></th>\n",
       "    </tr>\n",
       "  </thead>\n",
       "  <tbody>\n",
       "    <tr>\n",
       "      <th>PAINTED METAL PEARS ASSORTED</th>\n",
       "      <td>0.145839</td>\n",
       "      <td>4467</td>\n",
       "    </tr>\n",
       "    <tr>\n",
       "      <th>PACK OF 6 BIRDY GIFT TAGS</th>\n",
       "      <td>0.017280</td>\n",
       "      <td>6017</td>\n",
       "    </tr>\n",
       "    <tr>\n",
       "      <th>VICTORIAN  METAL POSTCARD SPRING</th>\n",
       "      <td>0.014023</td>\n",
       "      <td>2416</td>\n",
       "    </tr>\n",
       "    <tr>\n",
       "      <th>HOME BUILDING BLOCK WORD</th>\n",
       "      <td>0.012405</td>\n",
       "      <td>2643</td>\n",
       "    </tr>\n",
       "    <tr>\n",
       "      <th>HEART FILIGREE DOVE  SMALL</th>\n",
       "      <td>0.011510</td>\n",
       "      <td>5405</td>\n",
       "    </tr>\n",
       "    <tr>\n",
       "      <th>ANTIQUE SILVER T-LIGHT GLASS</th>\n",
       "      <td>0.011038</td>\n",
       "      <td>12658</td>\n",
       "    </tr>\n",
       "    <tr>\n",
       "      <th>HEART IVORY TRELLIS SMALL</th>\n",
       "      <td>0.010268</td>\n",
       "      <td>3863</td>\n",
       "    </tr>\n",
       "    <tr>\n",
       "      <th>HEART FILIGREE DOVE LARGE</th>\n",
       "      <td>0.010190</td>\n",
       "      <td>2737</td>\n",
       "    </tr>\n",
       "    <tr>\n",
       "      <th>REGENCY CAKESTAND 3 TIER</th>\n",
       "      <td>0.009972</td>\n",
       "      <td>11573</td>\n",
       "    </tr>\n",
       "    <tr>\n",
       "      <th>LOVE BUILDING BLOCK WORD</th>\n",
       "      <td>0.009945</td>\n",
       "      <td>1942</td>\n",
       "    </tr>\n",
       "    <tr>\n",
       "      <th>LOVEBIRD HANGING DECORATION WHITE</th>\n",
       "      <td>0.008581</td>\n",
       "      <td>3346</td>\n",
       "    </tr>\n",
       "    <tr>\n",
       "      <th>SMALL GLASS HEART TRINKET POT</th>\n",
       "      <td>0.006829</td>\n",
       "      <td>3532</td>\n",
       "    </tr>\n",
       "    <tr>\n",
       "      <th>WOODEN STAR CHRISTMAS SCANDINAVIAN</th>\n",
       "      <td>0.006812</td>\n",
       "      <td>9629</td>\n",
       "    </tr>\n",
       "    <tr>\n",
       "      <th>HEART IVORY TRELLIS LARGE</th>\n",
       "      <td>0.006763</td>\n",
       "      <td>3054</td>\n",
       "    </tr>\n",
       "    <tr>\n",
       "      <th>WOODEN PICTURE FRAME WHITE FINISH</th>\n",
       "      <td>0.006454</td>\n",
       "      <td>8046</td>\n",
       "    </tr>\n",
       "    <tr>\n",
       "      <th>PARTY BUNTING</th>\n",
       "      <td>0.006426</td>\n",
       "      <td>15027</td>\n",
       "    </tr>\n",
       "    <tr>\n",
       "      <th>SPOTTY BUNTING</th>\n",
       "      <td>0.006324</td>\n",
       "      <td>7529</td>\n",
       "    </tr>\n",
       "    <tr>\n",
       "      <th>RIBBON REEL STRIPES DESIGN</th>\n",
       "      <td>0.005808</td>\n",
       "      <td>2538</td>\n",
       "    </tr>\n",
       "    <tr>\n",
       "      <th>ROSES REGENCY TEACUP AND SAUCER</th>\n",
       "      <td>0.005465</td>\n",
       "      <td>8873</td>\n",
       "    </tr>\n",
       "    <tr>\n",
       "      <th>VICTORIAN GLASS HANGING T-LIGHT</th>\n",
       "      <td>0.005440</td>\n",
       "      <td>21984</td>\n",
       "    </tr>\n",
       "  </tbody>\n",
       "</table>\n",
       "</div>"
      ],
      "text/plain": [
       "                                    importance  number of unique sales\n",
       "description                                                           \n",
       "PAINTED METAL PEARS ASSORTED          0.145839                    4467\n",
       "PACK OF 6 BIRDY GIFT TAGS             0.017280                    6017\n",
       "VICTORIAN  METAL POSTCARD SPRING      0.014023                    2416\n",
       "HOME BUILDING BLOCK WORD              0.012405                    2643\n",
       "HEART FILIGREE DOVE  SMALL            0.011510                    5405\n",
       "ANTIQUE SILVER T-LIGHT GLASS          0.011038                   12658\n",
       "HEART IVORY TRELLIS SMALL             0.010268                    3863\n",
       "HEART FILIGREE DOVE LARGE             0.010190                    2737\n",
       "REGENCY CAKESTAND 3 TIER              0.009972                   11573\n",
       "LOVE BUILDING BLOCK WORD              0.009945                    1942\n",
       "LOVEBIRD HANGING DECORATION WHITE     0.008581                    3346\n",
       "SMALL GLASS HEART TRINKET POT         0.006829                    3532\n",
       "WOODEN STAR CHRISTMAS SCANDINAVIAN    0.006812                    9629\n",
       "HEART IVORY TRELLIS LARGE             0.006763                    3054\n",
       "WOODEN PICTURE FRAME WHITE FINISH     0.006454                    8046\n",
       "PARTY BUNTING                         0.006426                   15027\n",
       "SPOTTY BUNTING                        0.006324                    7529\n",
       "RIBBON REEL STRIPES DESIGN            0.005808                    2538\n",
       "ROSES REGENCY TEACUP AND SAUCER       0.005465                    8873\n",
       "VICTORIAN GLASS HANGING T-LIGHT       0.005440                   21984"
      ]
     },
     "execution_count": 574,
     "metadata": {},
     "output_type": "execute_result"
    }
   ],
   "source": [
    "top20 = pd.merge(pd.DataFrame(pipe['rf'].feature_importances_, index=X_train.columns).sort_values(by=0, ascending=False).head(20), \n",
    "         num, \n",
    "         left_index=True, \n",
    "         right_on='description').set_index('description').rename(columns={'description':'item', 0:'importance', 'quantity':'number of unique sales'})\n",
    "top20"
   ]
  },
  {
   "cell_type": "markdown",
   "id": "5d828e82-dc0c-4f46-9487-ca608aeeade7",
   "metadata": {},
   "source": [
    "<font color=white>.</font>"
   ]
  },
  {
   "cell_type": "code",
   "execution_count": 621,
   "id": "f7a8d859-f260-4a6c-839e-7ef8799917d4",
   "metadata": {
    "tags": []
   },
   "outputs": [
    {
     "data": {
      "text/html": [
       "<style type=\"text/css\">\n",
       "#T_f87ea_row0_col0 {\n",
       "  width: 125px;\n",
       "  height: 30px;\n",
       "}\n",
       "#T_f87ea_row0_col1 {\n",
       "  width: 125px;\n",
       "  height: 30px;\n",
       "  background-color: #e7f0f4;\n",
       "  color: #000000;\n",
       "}\n",
       "#T_f87ea_row0_col2 {\n",
       "  width: 125px;\n",
       "  height: 30px;\n",
       "  background-color: #e6eff4;\n",
       "  color: #000000;\n",
       "}\n",
       "#T_f87ea_row0_col3 {\n",
       "  width: 125px;\n",
       "  height: 30px;\n",
       "  background-color: #c2ddec;\n",
       "  color: #000000;\n",
       "}\n",
       "#T_f87ea_row0_col4 {\n",
       "  width: 125px;\n",
       "  height: 30px;\n",
       "  background-color: #c0dceb;\n",
       "  color: #000000;\n",
       "}\n",
       "</style>\n",
       "<table id=\"T_f87ea_\">\n",
       "  <caption>Model Testing Results</caption>\n",
       "  <thead>\n",
       "    <tr>\n",
       "      <th class=\"blank level0\" >&nbsp;</th>\n",
       "      <th class=\"col_heading level0 col0\" >classifier</th>\n",
       "      <th class=\"col_heading level0 col1\" >train f1</th>\n",
       "      <th class=\"col_heading level0 col2\" >test f1</th>\n",
       "      <th class=\"col_heading level0 col3\" >train acc</th>\n",
       "      <th class=\"col_heading level0 col4\" >test acc</th>\n",
       "    </tr>\n",
       "  </thead>\n",
       "  <tbody>\n",
       "    <tr>\n",
       "      <th id=\"T_f87ea_level0_row0\" class=\"row_heading level0 row0\" >0</th>\n",
       "      <td id=\"T_f87ea_row0_col0\" class=\"data row0 col0\" >random forest</td>\n",
       "      <td id=\"T_f87ea_row0_col1\" class=\"data row0 col1\" >0.528610</td>\n",
       "      <td id=\"T_f87ea_row0_col2\" class=\"data row0 col2\" >0.534413</td>\n",
       "      <td id=\"T_f87ea_row0_col3\" class=\"data row0 col3\" >0.685156</td>\n",
       "      <td id=\"T_f87ea_row0_col4\" class=\"data row0 col4\" >0.688759</td>\n",
       "    </tr>\n",
       "  </tbody>\n",
       "</table>\n"
      ],
      "text/plain": [
       "<pandas.io.formats.style.Styler at 0x7f72f57f7ac0>"
      ]
     },
     "execution_count": 621,
     "metadata": {},
     "output_type": "execute_result"
    }
   ],
   "source": [
    "d.style.set_properties(**{'width': '125px', 'height':'30px'}).pipe(x)"
   ]
  },
  {
   "cell_type": "markdown",
   "id": "40fe9f43-51be-4672-abff-496a1a443049",
   "metadata": {},
   "source": [
    "Tuning hyperparameters didn't help the model a lot, but it did keep it from overfitting."
   ]
  },
  {
   "cell_type": "markdown",
   "id": "fc7ae47a-fd86-4881-b67f-a624305bf9b2",
   "metadata": {},
   "source": [
    "<font color=white>.</font>"
   ]
  },
  {
   "cell_type": "markdown",
   "id": "ec04a782-5a51-412e-b0de-bf64364e58ae",
   "metadata": {},
   "source": [
    "<font color=white>.</font>"
   ]
  },
  {
   "cell_type": "markdown",
   "id": "cccfefef-2055-425a-aef3-05bfdff5097e",
   "metadata": {},
   "source": [
    "#### ***SVC***"
   ]
  },
  {
   "cell_type": "markdown",
   "id": "7fde9145-5b18-4437-aa94-ecc7368bcdef",
   "metadata": {},
   "source": [
    "<img src='./img/svm.svg' height=160 width=160>"
   ]
  },
  {
   "cell_type": "markdown",
   "id": "8ba35fda-d790-4afd-a1ac-ac1e241083cc",
   "metadata": {},
   "source": [
    "For SVC, I only passed in my top features from my Random Forest, to reduce dimensionality and overfitting. "
   ]
  },
  {
   "cell_type": "code",
   "execution_count": 580,
   "id": "adca3964-b824-4d8d-b2ca-f36a653f2492",
   "metadata": {},
   "outputs": [],
   "source": [
    "X_train_20 = X_train.loc[:, list(top20.reset_index()['description'])]\n",
    "X_test_20 = X_test.loc[:, list(top20.reset_index()['description'])]"
   ]
  },
  {
   "cell_type": "code",
   "execution_count": 628,
   "id": "918358b2-2a13-441b-b0b5-f0263be505b8",
   "metadata": {},
   "outputs": [],
   "source": [
    "from sklearn.svm import SVC\n",
    "\n",
    "# SVC with subset of features\n",
    "\n",
    "pipe = Pipeline([\n",
    "    ('svc', SVC(probability=True, class_weight='balanced', C=0.6, break_ties='true')\n",
    "    )])\n",
    "    \n",
    "pipe.fit(X_train_20, y_train)\n",
    "preds = pipe.predict(X_test_20)\n",
    "preds2=pipe.predict(X_train_20)\n",
    "\n",
    "\n",
    "e = pd.DataFrame([{'classifier':'SVC',\n",
    "                'train f1':f1(y_train, preds2),\n",
    "                'test f1':f1(y_test, preds),\n",
    "                'train acc': acc(y_train, preds2),\n",
    "                'test acc': acc(y_test, preds) }] )"
   ]
  },
  {
   "cell_type": "code",
   "execution_count": 640,
   "id": "fe4aa128-872a-47ca-924e-320dd5375cb8",
   "metadata": {},
   "outputs": [],
   "source": [
    "# SVC with all features\n",
    "\n",
    "pipe = Pipeline([\n",
    "    ('svc', SVC(probability=True, class_weight='balanced', C=0.4, break_ties='true')\n",
    "    )])\n",
    "    \n",
    "pipe.fit(X_train, y_train)\n",
    "preds = pipe.predict(X_test)\n",
    "preds2=pipe.predict(X_train)\n",
    "\n",
    "\n",
    "e2 = pd.DataFrame([{'classifier':'SVC',\n",
    "                'train f1':f1(y_train, preds2),\n",
    "                'test f1':f1(y_test, preds),\n",
    "                'train acc': acc(y_train, preds2),\n",
    "                'test acc': acc(y_test, preds) }] )"
   ]
  },
  {
   "cell_type": "code",
   "execution_count": 637,
   "id": "f0bd9639-71bb-47a4-9ce4-70c1469fda63",
   "metadata": {},
   "outputs": [
    {
     "name": "stdout",
     "output_type": "stream",
     "text": [
      "Fitting 5 folds for each of 5 candidates, totalling 25 fits\n"
     ]
    },
    {
     "data": {
      "text/plain": [
       "({'kernel': 'rbf',\n",
       "  'gamma': 0.1,\n",
       "  'class_weight': 'balanced',\n",
       "  'break_ties': 'false',\n",
       "  'C': 0.6},\n",
       " 0.8450493732054067)"
      ]
     },
     "execution_count": 637,
     "metadata": {},
     "output_type": "execute_result"
    }
   ],
   "source": [
    "rf = SVC()\n",
    "\n",
    "# Grid search for best hyperparams\n",
    "\n",
    "hyperparams = {\n",
    "    'C': [1, 0.6, 0.01, 0.1],\n",
    "    'class_weight': ['balanced'],\n",
    "    'break_ties': ['true', 'false'],\n",
    "    'kernel': ['rbf'],\n",
    "    'gamma':[1, 0.1, 0.01, 0.001]\n",
    "}\n",
    "\n",
    "rcv = RandomizedSearchCV(rf, hyperparams, cv = 5, verbose = 1, error_score = \"raise\", n_iter = 5)\n",
    "rcv.fit(X_train, y_train)\n",
    "rcv.best_params_, rcv.best_score_"
   ]
  },
  {
   "cell_type": "markdown",
   "id": "b8e22b9a-4310-496e-bd2c-46d9312cfae9",
   "metadata": {},
   "source": [
    "getting feature importances not possible (or mathematically/computationally taxing) when not using linear kernel due to hyperplane living in a different space than features."
   ]
  },
  {
   "cell_type": "markdown",
   "id": "226cbc3d-da95-4c2d-a2fb-638331e7a58a",
   "metadata": {},
   "source": [
    "<font color=white>.</font>"
   ]
  },
  {
   "cell_type": "code",
   "execution_count": 641,
   "id": "26a1e975-56ff-476e-9b70-e30a26183fcd",
   "metadata": {
    "tags": []
   },
   "outputs": [
    {
     "data": {
      "text/html": [
       "<style type=\"text/css\">\n",
       "#T_f0094_row0_col0, #T_f0094_row1_col0 {\n",
       "  width: 125px;\n",
       "  height: 30px;\n",
       "  background-color: #e98b6e;\n",
       "  color: #f1f1f1;\n",
       "}\n",
       "#T_f0094_row0_col1, #T_f0094_row1_col1 {\n",
       "  width: 125px;\n",
       "  height: 30px;\n",
       "}\n",
       "#T_f0094_row0_col2 {\n",
       "  width: 125px;\n",
       "  height: 30px;\n",
       "  background-color: #dbeaf2;\n",
       "  color: #000000;\n",
       "}\n",
       "#T_f0094_row0_col3 {\n",
       "  width: 125px;\n",
       "  height: 30px;\n",
       "  background-color: #e7f0f4;\n",
       "  color: #000000;\n",
       "}\n",
       "#T_f0094_row0_col4 {\n",
       "  width: 125px;\n",
       "  height: 30px;\n",
       "  background-color: #98c8e0;\n",
       "  color: #000000;\n",
       "}\n",
       "#T_f0094_row0_col5, #T_f0094_row1_col5 {\n",
       "  width: 125px;\n",
       "  height: 30px;\n",
       "  background-color: #a9d1e5;\n",
       "  color: #000000;\n",
       "}\n",
       "#T_f0094_row1_col2 {\n",
       "  width: 125px;\n",
       "  height: 30px;\n",
       "  background-color: #c2ddec;\n",
       "  color: #000000;\n",
       "}\n",
       "#T_f0094_row1_col3 {\n",
       "  width: 125px;\n",
       "  height: 30px;\n",
       "  background-color: #eaf1f5;\n",
       "  color: #000000;\n",
       "}\n",
       "#T_f0094_row1_col4 {\n",
       "  width: 125px;\n",
       "  height: 30px;\n",
       "  background-color: #7bb6d6;\n",
       "  color: #000000;\n",
       "}\n",
       "</style>\n",
       "<table id=\"T_f0094_\">\n",
       "  <caption>Model Testing Results</caption>\n",
       "  <thead>\n",
       "    <tr>\n",
       "      <th class=\"blank level0\" >&nbsp;</th>\n",
       "      <th class=\"col_heading level0 col0\" >index</th>\n",
       "      <th class=\"col_heading level0 col1\" >classifier</th>\n",
       "      <th class=\"col_heading level0 col2\" >train f1</th>\n",
       "      <th class=\"col_heading level0 col3\" >test f1</th>\n",
       "      <th class=\"col_heading level0 col4\" >train acc</th>\n",
       "      <th class=\"col_heading level0 col5\" >test acc</th>\n",
       "    </tr>\n",
       "  </thead>\n",
       "  <tbody>\n",
       "    <tr>\n",
       "      <th id=\"T_f0094_level0_row0\" class=\"row_heading level0 row0\" >0</th>\n",
       "      <td id=\"T_f0094_row0_col0\" class=\"data row0 col0\" >0</td>\n",
       "      <td id=\"T_f0094_row0_col1\" class=\"data row0 col1\" >SVC</td>\n",
       "      <td id=\"T_f0094_row0_col2\" class=\"data row0 col2\" >0.590090</td>\n",
       "      <td id=\"T_f0094_row0_col3\" class=\"data row0 col3\" >0.526077</td>\n",
       "      <td id=\"T_f0094_row0_col4\" class=\"data row0 col4\" >0.808844</td>\n",
       "      <td id=\"T_f0094_row0_col5\" class=\"data row0 col5\" >0.758597</td>\n",
       "    </tr>\n",
       "    <tr>\n",
       "      <th id=\"T_f0094_level0_row1\" class=\"row_heading level0 row1\" >1</th>\n",
       "      <td id=\"T_f0094_row1_col0\" class=\"data row1 col0\" >0</td>\n",
       "      <td id=\"T_f0094_row1_col1\" class=\"data row1 col1\" >SVC</td>\n",
       "      <td id=\"T_f0094_row1_col2\" class=\"data row1 col2\" >0.685714</td>\n",
       "      <td id=\"T_f0094_row1_col3\" class=\"data row1 col3\" >0.512712</td>\n",
       "      <td id=\"T_f0094_row1_col4\" class=\"data row1 col4\" >0.882611</td>\n",
       "      <td id=\"T_f0094_row1_col5\" class=\"data row1 col5\" >0.759290</td>\n",
       "    </tr>\n",
       "  </tbody>\n",
       "</table>\n"
      ],
      "text/plain": [
       "<pandas.io.formats.style.Styler at 0x7fa2ecead640>"
      ]
     },
     "execution_count": 641,
     "metadata": {},
     "output_type": "execute_result"
    }
   ],
   "source": [
    "pd.concat([e, e2]).reset_index().style.set_properties(**{'width': '125px', 'height':'30px'}).pipe(x)"
   ]
  },
  {
   "cell_type": "markdown",
   "id": "fb1e6d86-5500-430d-8f91-7d88af22ffd8",
   "metadata": {},
   "source": [
    "<font color=white>.</font>"
   ]
  },
  {
   "cell_type": "markdown",
   "id": "475ca2bf-c838-4f66-8778-d1abcd0d35c3",
   "metadata": {},
   "source": [
    "#### ***Naive Bayes***"
   ]
  },
  {
   "cell_type": "markdown",
   "id": "d4339eb0-30ff-4c1c-bca0-979a3fdd0711",
   "metadata": {},
   "source": [
    "<img src='./img/bayes.svg' height=160 width=160>"
   ]
  },
  {
   "cell_type": "markdown",
   "id": "becfc470-3dd7-4682-9395-73e60816b672",
   "metadata": {},
   "source": [
    "Naive Bayes is based on the bayes principle, which is used to determine the probability of an outcome given the known probability of a related outcome. \n",
    "\n",
    "Bayes principle: **P(A|B) = P(A) * P(B|A)/P(B)**\n",
    "\n",
    "When used for modeling, naive bayes predicts the probability of belonging to class A, when predictor B has already been provided. It's called \"naive\" because it makes an assumption that the independent variables are independent of each other."
   ]
  },
  {
   "cell_type": "code",
   "execution_count": 607,
   "id": "ec66999a-3518-494c-8ce4-0f4334854fe9",
   "metadata": {},
   "outputs": [],
   "source": [
    "from sklearn.naive_bayes import ComplementNB # Selected due to imbalanced classes\n",
    "\n",
    "pipe = Pipeline([\n",
    "    ('nb', ComplementNB(fit_prior=True, alpha=1)\n",
    "    )])\n",
    "    \n",
    "pipe.fit(X_train, y_train)\n",
    "preds = pipe.predict(X_test)\n",
    "preds2=pipe.predict(X_train)\n",
    "\n",
    "\n",
    "f = pd.DataFrame( [{'classifier':'complement naive bayes',\n",
    "                'train f1':f1(y_train, preds2),\n",
    "                'test f1':f1(y_test, preds),\n",
    "                'train acc': acc(y_train, preds2),\n",
    "                'test acc': acc(y_test, preds) }] )"
   ]
  },
  {
   "cell_type": "code",
   "execution_count": 609,
   "id": "5794ecbf-549c-4598-8f4a-cedcbb85d057",
   "metadata": {},
   "outputs": [
    {
     "name": "stderr",
     "output_type": "stream",
     "text": [
      "/Users/rowanschaefer/opt/anaconda3/lib/python3.9/site-packages/sklearn/model_selection/_search.py:292: UserWarning: The total space of parameters 6 is smaller than n_iter=10. Running 6 iterations. For exhaustive searches, use GridSearchCV.\n",
      "  warnings.warn(\n"
     ]
    },
    {
     "name": "stdout",
     "output_type": "stream",
     "text": [
      "Fitting 5 folds for each of 6 candidates, totalling 30 fits\n"
     ]
    },
    {
     "data": {
      "text/plain": [
       "({'fit_prior': True, 'alpha': 1}, 0.6956000653640546)"
      ]
     },
     "execution_count": 609,
     "metadata": {},
     "output_type": "execute_result"
    }
   ],
   "source": [
    "mnb = ComplementNB()\n",
    "\n",
    "# Grid search for best hyperparams\n",
    "\n",
    "hyperparams = {\n",
    "    'alpha': [0.8, 0.9, 1], #0.1, 0.2, 0.3, 0.5, 0.7,\n",
    "    'fit_prior': [True, False]\n",
    "}\n",
    "\n",
    "rcv = RandomizedSearchCV(mnb, hyperparams, cv=5, verbose=1, error_score=\"raise\")\n",
    "rcv.fit(X_train, y_train)\n",
    "rcv.best_params_, rcv.best_score_"
   ]
  },
  {
   "cell_type": "markdown",
   "id": "35b2ef3e-a558-4c05-a400-9949803c4c13",
   "metadata": {},
   "source": [
    "Also difficult to determine feature importances for naive bayes, <code>permutation_importance</code> is taking too long to run."
   ]
  },
  {
   "cell_type": "markdown",
   "id": "e3fe15ca-970e-4209-833d-908356251f07",
   "metadata": {},
   "source": [
    "<font color=white>.</font>"
   ]
  },
  {
   "cell_type": "code",
   "execution_count": 619,
   "id": "63ee1f67-5c4d-4bae-997d-ac9aa3ce9a4c",
   "metadata": {
    "tags": []
   },
   "outputs": [
    {
     "data": {
      "text/html": [
       "<style type=\"text/css\">\n",
       "#T_99fd5_row0_col0 {\n",
       "  width: 125px;\n",
       "  height: 30px;\n",
       "}\n",
       "#T_99fd5_row0_col1 {\n",
       "  width: 125px;\n",
       "  height: 30px;\n",
       "  background-color: #ecf2f5;\n",
       "  color: #000000;\n",
       "}\n",
       "#T_99fd5_row0_col2 {\n",
       "  width: 125px;\n",
       "  height: 30px;\n",
       "  background-color: #f8f1ed;\n",
       "  color: #000000;\n",
       "}\n",
       "#T_99fd5_row0_col3 {\n",
       "  width: 125px;\n",
       "  height: 30px;\n",
       "  background-color: #a5cee3;\n",
       "  color: #000000;\n",
       "}\n",
       "#T_99fd5_row0_col4 {\n",
       "  width: 125px;\n",
       "  height: 30px;\n",
       "  background-color: #c2ddec;\n",
       "  color: #000000;\n",
       "}\n",
       "</style>\n",
       "<table id=\"T_99fd5_\">\n",
       "  <caption>Model Testing Results</caption>\n",
       "  <thead>\n",
       "    <tr>\n",
       "      <th class=\"blank level0\" >&nbsp;</th>\n",
       "      <th class=\"col_heading level0 col0\" >classifier</th>\n",
       "      <th class=\"col_heading level0 col1\" >train f1</th>\n",
       "      <th class=\"col_heading level0 col2\" >test f1</th>\n",
       "      <th class=\"col_heading level0 col3\" >train acc</th>\n",
       "      <th class=\"col_heading level0 col4\" >test acc</th>\n",
       "    </tr>\n",
       "  </thead>\n",
       "  <tbody>\n",
       "    <tr>\n",
       "      <th id=\"T_99fd5_level0_row0\" class=\"row_heading level0 row0\" >0</th>\n",
       "      <td id=\"T_99fd5_row0_col0\" class=\"data row0 col0\" >complement naive bayes</td>\n",
       "      <td id=\"T_99fd5_row0_col1\" class=\"data row0 col1\" >0.508366</td>\n",
       "      <td id=\"T_99fd5_row0_col2\" class=\"data row0 col2\" >0.407547</td>\n",
       "      <td id=\"T_99fd5_row0_col3\" class=\"data row0 col3\" >0.771015</td>\n",
       "      <td id=\"T_99fd5_row0_col4\" class=\"data row0 col4\" >0.682325</td>\n",
       "    </tr>\n",
       "  </tbody>\n",
       "</table>\n"
      ],
      "text/plain": [
       "<pandas.io.formats.style.Styler at 0x7f72f57f9070>"
      ]
     },
     "execution_count": 619,
     "metadata": {},
     "output_type": "execute_result"
    }
   ],
   "source": [
    "f.style.set_properties(**{'width': '125px', 'height':'30px'}).pipe(x)"
   ]
  },
  {
   "cell_type": "markdown",
   "id": "40800829-2b1b-44e9-9de3-29b672bd94e6",
   "metadata": {},
   "source": [
    "<font color=white>.</font>"
   ]
  },
  {
   "cell_type": "markdown",
   "id": "be92d973-4af1-4e71-810f-7a76cc40b03a",
   "metadata": {},
   "source": [
    "<font color=white>.</font>"
   ]
  },
  {
   "cell_type": "markdown",
   "id": "2efda72d-14bc-4a48-93eb-8233c463b526",
   "metadata": {},
   "source": [
    "# Model Results"
   ]
  },
  {
   "cell_type": "code",
   "execution_count": 613,
   "id": "64812cda-36b4-4441-928f-ba9a8e80531f",
   "metadata": {},
   "outputs": [
    {
     "data": {
      "text/html": [
       "<style type=\"text/css\">\n",
       "#T_639ab_row0_col0, #T_639ab_row1_col0, #T_639ab_row2_col0, #T_639ab_row3_col0, #T_639ab_row4_col0, #T_639ab_row5_col0, #T_639ab_row6_col0 {\n",
       "  width: 150px;\n",
       "  height: 30px;\n",
       "}\n",
       "#T_639ab_row0_col1, #T_639ab_row0_col2 {\n",
       "  width: 150px;\n",
       "  height: 30px;\n",
       "  background-color: #e98b6e;\n",
       "  color: #f1f1f1;\n",
       "}\n",
       "#T_639ab_row0_col3, #T_639ab_row0_col4 {\n",
       "  width: 150px;\n",
       "  height: 30px;\n",
       "  background-color: #edf2f5;\n",
       "  color: #000000;\n",
       "}\n",
       "#T_639ab_row1_col1, #T_639ab_row3_col3 {\n",
       "  width: 150px;\n",
       "  height: 30px;\n",
       "  background-color: #8ac0db;\n",
       "  color: #000000;\n",
       "}\n",
       "#T_639ab_row1_col2 {\n",
       "  width: 150px;\n",
       "  height: 30px;\n",
       "  background-color: #dbeaf2;\n",
       "  color: #000000;\n",
       "}\n",
       "#T_639ab_row1_col3 {\n",
       "  width: 150px;\n",
       "  height: 30px;\n",
       "  background-color: #65a9cf;\n",
       "  color: #f1f1f1;\n",
       "}\n",
       "#T_639ab_row1_col4, #T_639ab_row6_col3 {\n",
       "  width: 150px;\n",
       "  height: 30px;\n",
       "  background-color: #a5cee3;\n",
       "  color: #000000;\n",
       "}\n",
       "#T_639ab_row2_col1 {\n",
       "  width: 150px;\n",
       "  height: 30px;\n",
       "  background-color: #f3a481;\n",
       "  color: #000000;\n",
       "}\n",
       "#T_639ab_row2_col2 {\n",
       "  width: 150px;\n",
       "  height: 30px;\n",
       "  background-color: #ef9979;\n",
       "  color: #000000;\n",
       "}\n",
       "#T_639ab_row2_col3, #T_639ab_row5_col2 {\n",
       "  width: 150px;\n",
       "  height: 30px;\n",
       "  background-color: #e9f0f4;\n",
       "  color: #000000;\n",
       "}\n",
       "#T_639ab_row2_col4, #T_639ab_row6_col1 {\n",
       "  width: 150px;\n",
       "  height: 30px;\n",
       "  background-color: #ecf2f5;\n",
       "  color: #000000;\n",
       "}\n",
       "#T_639ab_row3_col1 {\n",
       "  width: 150px;\n",
       "  height: 30px;\n",
       "  background-color: #bbdaea;\n",
       "  color: #000000;\n",
       "}\n",
       "#T_639ab_row3_col2 {\n",
       "  width: 150px;\n",
       "  height: 30px;\n",
       "  background-color: #f8f4f2;\n",
       "  color: #000000;\n",
       "}\n",
       "#T_639ab_row3_col4 {\n",
       "  width: 150px;\n",
       "  height: 30px;\n",
       "  background-color: #c7e0ed;\n",
       "  color: #000000;\n",
       "}\n",
       "#T_639ab_row4_col1 {\n",
       "  width: 150px;\n",
       "  height: 30px;\n",
       "  background-color: #e7f0f4;\n",
       "  color: #000000;\n",
       "}\n",
       "#T_639ab_row4_col2 {\n",
       "  width: 150px;\n",
       "  height: 30px;\n",
       "  background-color: #e6eff4;\n",
       "  color: #000000;\n",
       "}\n",
       "#T_639ab_row4_col3, #T_639ab_row6_col4 {\n",
       "  width: 150px;\n",
       "  height: 30px;\n",
       "  background-color: #c2ddec;\n",
       "  color: #000000;\n",
       "}\n",
       "#T_639ab_row4_col4 {\n",
       "  width: 150px;\n",
       "  height: 30px;\n",
       "  background-color: #c0dceb;\n",
       "  color: #000000;\n",
       "}\n",
       "#T_639ab_row5_col1 {\n",
       "  width: 150px;\n",
       "  height: 30px;\n",
       "  background-color: #deebf2;\n",
       "  color: #000000;\n",
       "}\n",
       "#T_639ab_row5_col3 {\n",
       "  width: 150px;\n",
       "  height: 30px;\n",
       "  background-color: #9bc9e0;\n",
       "  color: #000000;\n",
       "}\n",
       "#T_639ab_row5_col4 {\n",
       "  width: 150px;\n",
       "  height: 30px;\n",
       "  background-color: #a9d1e5;\n",
       "  color: #000000;\n",
       "}\n",
       "#T_639ab_row6_col2 {\n",
       "  width: 150px;\n",
       "  height: 30px;\n",
       "  background-color: #f8f1ed;\n",
       "  color: #000000;\n",
       "}\n",
       "</style>\n",
       "<table id=\"T_639ab_\">\n",
       "  <caption>Model Testing Results</caption>\n",
       "  <thead>\n",
       "    <tr>\n",
       "      <th class=\"blank level0\" >&nbsp;</th>\n",
       "      <th class=\"col_heading level0 col0\" >classifier</th>\n",
       "      <th class=\"col_heading level0 col1\" >train f1</th>\n",
       "      <th class=\"col_heading level0 col2\" >test f1</th>\n",
       "      <th class=\"col_heading level0 col3\" >train acc</th>\n",
       "      <th class=\"col_heading level0 col4\" >test acc</th>\n",
       "    </tr>\n",
       "  </thead>\n",
       "  <tbody>\n",
       "    <tr>\n",
       "      <th id=\"T_639ab_level0_row0\" class=\"row_heading level0 row0\" >0</th>\n",
       "      <td id=\"T_639ab_row0_col0\" class=\"data row0 col0\" >baseline</td>\n",
       "      <td id=\"T_639ab_row0_col1\" class=\"data row0 col1\" >0.000000</td>\n",
       "      <td id=\"T_639ab_row0_col2\" class=\"data row0 col2\" >0.000000</td>\n",
       "      <td id=\"T_639ab_row0_col3\" class=\"data row0 col3\" >0.500000</td>\n",
       "      <td id=\"T_639ab_row0_col4\" class=\"data row0 col4\" >0.500000</td>\n",
       "    </tr>\n",
       "    <tr>\n",
       "      <th id=\"T_639ab_level0_row1\" class=\"row_heading level0 row1\" >1</th>\n",
       "      <td id=\"T_639ab_row1_col0\" class=\"data row1 col0\" >logreg</td>\n",
       "      <td id=\"T_639ab_row1_col1\" class=\"data row1 col1\" >0.845807</td>\n",
       "      <td id=\"T_639ab_row1_col2\" class=\"data row1 col2\" >0.586667</td>\n",
       "      <td id=\"T_639ab_row1_col3\" class=\"data row1 col3\" >0.937736</td>\n",
       "      <td id=\"T_639ab_row1_col4\" class=\"data row1 col4\" >0.773383</td>\n",
       "    </tr>\n",
       "    <tr>\n",
       "      <th id=\"T_639ab_level0_row2\" class=\"row_heading level0 row2\" >2</th>\n",
       "      <td id=\"T_639ab_row2_col0\" class=\"data row2 col0\" >KNN</td>\n",
       "      <td id=\"T_639ab_row2_col1\" class=\"data row2 col1\" >0.068441</td>\n",
       "      <td id=\"T_639ab_row2_col2\" class=\"data row2 col2\" >0.034884</td>\n",
       "      <td id=\"T_639ab_row2_col3\" class=\"data row2 col3\" >0.517717</td>\n",
       "      <td id=\"T_639ab_row2_col4\" class=\"data row2 col4\" >0.508876</td>\n",
       "    </tr>\n",
       "    <tr>\n",
       "      <th id=\"T_639ab_level0_row3\" class=\"row_heading level0 row3\" >3</th>\n",
       "      <td id=\"T_639ab_row3_col0\" class=\"data row3 col0\" >dec tree</td>\n",
       "      <td id=\"T_639ab_row3_col1\" class=\"data row3 col1\" >0.704918</td>\n",
       "      <td id=\"T_639ab_row3_col2\" class=\"data row3 col2\" >0.428198</td>\n",
       "      <td id=\"T_639ab_row3_col3\" class=\"data row3 col3\" >0.844183</td>\n",
       "      <td id=\"T_639ab_row3_col4\" class=\"data row3 col4\" >0.671020</td>\n",
       "    </tr>\n",
       "    <tr>\n",
       "      <th id=\"T_639ab_level0_row4\" class=\"row_heading level0 row4\" >4</th>\n",
       "      <td id=\"T_639ab_row4_col0\" class=\"data row4 col0\" >random forest</td>\n",
       "      <td id=\"T_639ab_row4_col1\" class=\"data row4 col1\" >0.528610</td>\n",
       "      <td id=\"T_639ab_row4_col2\" class=\"data row4 col2\" >0.534413</td>\n",
       "      <td id=\"T_639ab_row4_col3\" class=\"data row4 col3\" >0.685156</td>\n",
       "      <td id=\"T_639ab_row4_col4\" class=\"data row4 col4\" >0.688759</td>\n",
       "    </tr>\n",
       "    <tr>\n",
       "      <th id=\"T_639ab_level0_row5\" class=\"row_heading level0 row5\" >5</th>\n",
       "      <td id=\"T_639ab_row5_col0\" class=\"data row5 col0\" >SVC</td>\n",
       "      <td id=\"T_639ab_row5_col1\" class=\"data row5 col1\" >0.569141</td>\n",
       "      <td id=\"T_639ab_row5_col2\" class=\"data row5 col2\" >0.518847</td>\n",
       "      <td id=\"T_639ab_row5_col3\" class=\"data row5 col3\" >0.798916</td>\n",
       "      <td id=\"T_639ab_row5_col4\" class=\"data row5 col4\" >0.756674</td>\n",
       "    </tr>\n",
       "    <tr>\n",
       "      <th id=\"T_639ab_level0_row6\" class=\"row_heading level0 row6\" >6</th>\n",
       "      <td id=\"T_639ab_row6_col0\" class=\"data row6 col0\" >complement naive bayes</td>\n",
       "      <td id=\"T_639ab_row6_col1\" class=\"data row6 col1\" >0.508366</td>\n",
       "      <td id=\"T_639ab_row6_col2\" class=\"data row6 col2\" >0.407547</td>\n",
       "      <td id=\"T_639ab_row6_col3\" class=\"data row6 col3\" >0.771015</td>\n",
       "      <td id=\"T_639ab_row6_col4\" class=\"data row6 col4\" >0.682325</td>\n",
       "    </tr>\n",
       "  </tbody>\n",
       "</table>\n"
      ],
      "text/plain": [
       "<pandas.io.formats.style.Styler at 0x7fa2e7e5a550>"
      ]
     },
     "execution_count": 613,
     "metadata": {},
     "output_type": "execute_result"
    }
   ],
   "source": [
    "pd.concat([a0, a, b, c, d, e, f]).reset_index(drop=True).style.set_properties(**{'width': '150px', 'height':'30px'}).pipe(x)"
   ]
  },
  {
   "cell_type": "markdown",
   "id": "f6116a1e-1484-440b-bf7a-ba7eef71b3c8",
   "metadata": {},
   "source": [
    "<img src='./img/modeltesting.png' width=830 height=700>"
   ]
  },
  {
   "cell_type": "markdown",
   "id": "d95340eb-3a96-4d34-8c9a-b4cd30274436",
   "metadata": {},
   "source": [
    "<font size=1>*Additional image included for markdown rendering in github*</font>"
   ]
  },
  {
   "cell_type": "markdown",
   "id": "2d978b45-96c3-4be2-b218-15bdb9e87a2c",
   "metadata": {},
   "source": [
    "<font color=white>.</font>"
   ]
  },
  {
   "cell_type": "markdown",
   "id": "5976c4d6-faea-44ce-b0b9-c153a4d45b41",
   "metadata": {},
   "source": [
    "## Takeaways"
   ]
  },
  {
   "cell_type": "markdown",
   "id": "fd97255a-9dfa-45a0-b19b-7bf79eab4977",
   "metadata": {},
   "source": [
    "* My data had imbalanced classes, I chose to combat this by using balanced_accuracy, f1_score, and class weights with each model due to time constraints. Preliminary models include Random Forest, SVC, Logistic Regression, and Naive Bayes.\n",
    "\n",
    "* My baseline model predicted the majority class (not buying a bird ornament), and had a f1 score of 0 and balanced accuracy of 0.50 on the testing set. \n",
    "  \n",
    "* I had several models that outperformed the baseline: despite being overfit, the Logistic Regression performed best on the testing set, with test f1 of .58 and balanced accuracy score of .77. If I revisited this model, I would try limiting features based on the feature_importances from my Random Forest model; this may help prevent overfitting.\n",
    "  \n",
    "* The SVC model also performed relatively well after tuning hyperparameters to prevent overfitting. "
   ]
  },
  {
   "cell_type": "markdown",
   "id": "322b7f11-c451-4002-9f04-b7a6fc26766e",
   "metadata": {},
   "source": [
    "<font color=white>.</font>"
   ]
  },
  {
   "cell_type": "markdown",
   "id": "6fb6285a-cbba-4018-bee9-df08d22f264c",
   "metadata": {},
   "source": [
    "## Next Steps"
   ]
  },
  {
   "cell_type": "markdown",
   "id": "472a0180-9493-494b-a327-0be8bdea0f2e",
   "metadata": {},
   "source": [
    "**Taking a look at preliminary models, there are a couple steps I could take next, given more time to complete the project:**\n",
    "\n",
    "* Attempting to further reduce overfitting for the two best models (Logistic Regression and SVC), and using Logistic Regression with better feature selection.\n",
    "* Trying ensembling methods with my best models to create a better-performing model.\n",
    "* PCA to reduce dimensionality, given the high number of features (products) in the dataset. Or MCA/PCA alternatives, if using boolean data.\n",
    "* Pulling in additional data or training a model to create categories and subcategories for each item.\n",
    "* A deeper dive into feature importances for each model.\n",
    "* Trying additional strategies to balance data.\n",
    "<br />\n",
    "<br />\n",
    "\n",
    "\n",
    "**Additionally, here some other ideas that I could explore for this dataset:**\n",
    "\n",
    "* Looking at cosine similarity for products and building a product recommender based on previous products ordered.\n",
    "* Clustering buyers based on their buying habits, or doing customer segmentation with available data.\n",
    "* Building an app that allows a user to select the product they want to model for.\n",
    "* Incorporating order dates and times into my modeling."
   ]
  },
  {
   "cell_type": "markdown",
   "id": "768a698a-7c70-4857-899a-c84558290c19",
   "metadata": {},
   "source": [
    "<font color=white>.</font>"
   ]
  },
  {
   "cell_type": "markdown",
   "id": "81aa8b7f-cbc0-433e-8027-d13c58d200e6",
   "metadata": {},
   "source": [
    "<font color=white>.</font>"
   ]
  },
  {
   "cell_type": "markdown",
   "id": "2952e938-92f7-4b6d-bc6d-d0000237e9e6",
   "metadata": {},
   "source": [
    "<font color=white>.</font>"
   ]
  },
  {
   "cell_type": "markdown",
   "id": "b1dee3c7-2314-4f6e-9091-c213ad5892e1",
   "metadata": {},
   "source": [
    "<font color=white>.</font>"
   ]
  },
  {
   "cell_type": "markdown",
   "id": "3718c19d-25a6-42bc-932e-b0ff15209795",
   "metadata": {},
   "source": [
    "<font color=white>.</font>"
   ]
  },
  {
   "cell_type": "markdown",
   "id": "20040da6-4e41-44dd-bba9-01a5c9f697b6",
   "metadata": {},
   "source": [
    "<font color=white>.</font>"
   ]
  },
  {
   "cell_type": "markdown",
   "id": "1b6e41b3-49a3-402f-871b-d1f09242821b",
   "metadata": {},
   "source": [
    "<font color=white>.</font>"
   ]
  },
  {
   "cell_type": "markdown",
   "id": "5b3b61d0-428c-48ad-acb9-707c0d1943e1",
   "metadata": {},
   "source": [
    "<font color=white>.</font>"
   ]
  },
  {
   "cell_type": "markdown",
   "id": "7cd32387-c4cc-4ee9-8cb8-e44b3377be06",
   "metadata": {},
   "source": [
    "<font color=white>.</font>"
   ]
  },
  {
   "cell_type": "markdown",
   "id": "970b74ee-8b4a-4bc9-98de-0ff8b0ad2fc3",
   "metadata": {},
   "source": [
    "#### additional work"
   ]
  },
  {
   "cell_type": "code",
   "execution_count": 313,
   "id": "97136a27-ea01-4cd1-b63e-1e3d4c33ab46",
   "metadata": {},
   "outputs": [],
   "source": [
    "from sklearn.decomposition import PCA"
   ]
  },
  {
   "cell_type": "code",
   "execution_count": 318,
   "id": "ac41739b-962c-4200-8087-bc66da0b26e0",
   "metadata": {},
   "outputs": [
    {
     "data": {
      "text/html": [
       "<div>\n",
       "<style scoped>\n",
       "    .dataframe tbody tr th:only-of-type {\n",
       "        vertical-align: middle;\n",
       "    }\n",
       "\n",
       "    .dataframe tbody tr th {\n",
       "        vertical-align: top;\n",
       "    }\n",
       "\n",
       "    .dataframe thead th {\n",
       "        text-align: right;\n",
       "    }\n",
       "</style>\n",
       "<table border=\"1\" class=\"dataframe\">\n",
       "  <thead>\n",
       "    <tr style=\"text-align: right;\">\n",
       "      <th>description</th>\n",
       "      <th>4 PURPLE FLOCK DINNER CANDLES</th>\n",
       "      <th>50'S CHRISTMAS GIFT BAG LARGE</th>\n",
       "      <th>DOLLY GIRL BEAKER</th>\n",
       "      <th>I LOVE LONDON MINI BACKPACK</th>\n",
       "      <th>I LOVE LONDON MINI RUCKSACK</th>\n",
       "      <th>NINE DRAWER OFFICE TIDY</th>\n",
       "      <th>OVAL WALL MIRROR DIAMANTE</th>\n",
       "      <th>RED SPOT GIFT BAG LARGE</th>\n",
       "      <th>SET 2 TEA TOWELS I LOVE LONDON</th>\n",
       "      <th>SPACEBOY BABY GIFT SET</th>\n",
       "      <th>...</th>\n",
       "      <th>ZINC STAR T-LIGHT HOLDER</th>\n",
       "      <th>ZINC SWEETHEART SOAP DISH</th>\n",
       "      <th>ZINC SWEETHEART WIRE LETTER RACK</th>\n",
       "      <th>ZINC T-LIGHT HOLDER STAR LARGE</th>\n",
       "      <th>ZINC T-LIGHT HOLDER STARS LARGE</th>\n",
       "      <th>ZINC T-LIGHT HOLDER STARS SMALL</th>\n",
       "      <th>ZINC TOP  2 DOOR WOODEN SHELF</th>\n",
       "      <th>ZINC WILLIE WINKIE  CANDLE STICK</th>\n",
       "      <th>ZINC WIRE KITCHEN ORGANISER</th>\n",
       "      <th>ZINC WIRE SWEETHEART LETTER TRAY</th>\n",
       "    </tr>\n",
       "    <tr>\n",
       "      <th>customerid</th>\n",
       "      <th></th>\n",
       "      <th></th>\n",
       "      <th></th>\n",
       "      <th></th>\n",
       "      <th></th>\n",
       "      <th></th>\n",
       "      <th></th>\n",
       "      <th></th>\n",
       "      <th></th>\n",
       "      <th></th>\n",
       "      <th></th>\n",
       "      <th></th>\n",
       "      <th></th>\n",
       "      <th></th>\n",
       "      <th></th>\n",
       "      <th></th>\n",
       "      <th></th>\n",
       "      <th></th>\n",
       "      <th></th>\n",
       "      <th></th>\n",
       "      <th></th>\n",
       "    </tr>\n",
       "  </thead>\n",
       "  <tbody>\n",
       "    <tr>\n",
       "      <th>12346.0</th>\n",
       "      <td>0.0</td>\n",
       "      <td>0.0</td>\n",
       "      <td>0.0</td>\n",
       "      <td>0.0</td>\n",
       "      <td>0.0</td>\n",
       "      <td>0.0</td>\n",
       "      <td>0.0</td>\n",
       "      <td>0.0</td>\n",
       "      <td>0.0</td>\n",
       "      <td>0.0</td>\n",
       "      <td>...</td>\n",
       "      <td>0.0</td>\n",
       "      <td>0.0</td>\n",
       "      <td>0.0</td>\n",
       "      <td>0.0</td>\n",
       "      <td>0.0</td>\n",
       "      <td>0.0</td>\n",
       "      <td>0.0</td>\n",
       "      <td>0.0</td>\n",
       "      <td>0.0</td>\n",
       "      <td>0.0</td>\n",
       "    </tr>\n",
       "    <tr>\n",
       "      <th>12347.0</th>\n",
       "      <td>0.0</td>\n",
       "      <td>0.0</td>\n",
       "      <td>0.0</td>\n",
       "      <td>0.0</td>\n",
       "      <td>0.0</td>\n",
       "      <td>0.0</td>\n",
       "      <td>0.0</td>\n",
       "      <td>0.0</td>\n",
       "      <td>0.0</td>\n",
       "      <td>0.0</td>\n",
       "      <td>...</td>\n",
       "      <td>0.0</td>\n",
       "      <td>0.0</td>\n",
       "      <td>0.0</td>\n",
       "      <td>0.0</td>\n",
       "      <td>0.0</td>\n",
       "      <td>0.0</td>\n",
       "      <td>0.0</td>\n",
       "      <td>0.0</td>\n",
       "      <td>0.0</td>\n",
       "      <td>0.0</td>\n",
       "    </tr>\n",
       "    <tr>\n",
       "      <th>12348.0</th>\n",
       "      <td>0.0</td>\n",
       "      <td>0.0</td>\n",
       "      <td>0.0</td>\n",
       "      <td>0.0</td>\n",
       "      <td>0.0</td>\n",
       "      <td>0.0</td>\n",
       "      <td>0.0</td>\n",
       "      <td>0.0</td>\n",
       "      <td>0.0</td>\n",
       "      <td>0.0</td>\n",
       "      <td>...</td>\n",
       "      <td>0.0</td>\n",
       "      <td>0.0</td>\n",
       "      <td>0.0</td>\n",
       "      <td>0.0</td>\n",
       "      <td>0.0</td>\n",
       "      <td>0.0</td>\n",
       "      <td>0.0</td>\n",
       "      <td>0.0</td>\n",
       "      <td>0.0</td>\n",
       "      <td>0.0</td>\n",
       "    </tr>\n",
       "    <tr>\n",
       "      <th>12349.0</th>\n",
       "      <td>0.0</td>\n",
       "      <td>0.0</td>\n",
       "      <td>0.0</td>\n",
       "      <td>0.0</td>\n",
       "      <td>0.0</td>\n",
       "      <td>0.0</td>\n",
       "      <td>0.0</td>\n",
       "      <td>0.0</td>\n",
       "      <td>0.0</td>\n",
       "      <td>0.0</td>\n",
       "      <td>...</td>\n",
       "      <td>0.0</td>\n",
       "      <td>0.0</td>\n",
       "      <td>0.0</td>\n",
       "      <td>0.0</td>\n",
       "      <td>0.0</td>\n",
       "      <td>0.0</td>\n",
       "      <td>0.0</td>\n",
       "      <td>0.0</td>\n",
       "      <td>0.0</td>\n",
       "      <td>0.0</td>\n",
       "    </tr>\n",
       "    <tr>\n",
       "      <th>12350.0</th>\n",
       "      <td>0.0</td>\n",
       "      <td>0.0</td>\n",
       "      <td>0.0</td>\n",
       "      <td>0.0</td>\n",
       "      <td>0.0</td>\n",
       "      <td>0.0</td>\n",
       "      <td>0.0</td>\n",
       "      <td>0.0</td>\n",
       "      <td>0.0</td>\n",
       "      <td>0.0</td>\n",
       "      <td>...</td>\n",
       "      <td>0.0</td>\n",
       "      <td>0.0</td>\n",
       "      <td>0.0</td>\n",
       "      <td>0.0</td>\n",
       "      <td>0.0</td>\n",
       "      <td>0.0</td>\n",
       "      <td>0.0</td>\n",
       "      <td>0.0</td>\n",
       "      <td>0.0</td>\n",
       "      <td>0.0</td>\n",
       "    </tr>\n",
       "  </tbody>\n",
       "</table>\n",
       "<p>5 rows × 3894 columns</p>\n",
       "</div>"
      ],
      "text/plain": [
       "description   4 PURPLE FLOCK DINNER CANDLES   50'S CHRISTMAS GIFT BAG LARGE  \\\n",
       "customerid                                                                    \n",
       "12346.0                                 0.0                             0.0   \n",
       "12347.0                                 0.0                             0.0   \n",
       "12348.0                                 0.0                             0.0   \n",
       "12349.0                                 0.0                             0.0   \n",
       "12350.0                                 0.0                             0.0   \n",
       "\n",
       "description   DOLLY GIRL BEAKER   I LOVE LONDON MINI BACKPACK  \\\n",
       "customerid                                                      \n",
       "12346.0                     0.0                           0.0   \n",
       "12347.0                     0.0                           0.0   \n",
       "12348.0                     0.0                           0.0   \n",
       "12349.0                     0.0                           0.0   \n",
       "12350.0                     0.0                           0.0   \n",
       "\n",
       "description   I LOVE LONDON MINI RUCKSACK   NINE DRAWER OFFICE TIDY  \\\n",
       "customerid                                                            \n",
       "12346.0                               0.0                       0.0   \n",
       "12347.0                               0.0                       0.0   \n",
       "12348.0                               0.0                       0.0   \n",
       "12349.0                               0.0                       0.0   \n",
       "12350.0                               0.0                       0.0   \n",
       "\n",
       "description   OVAL WALL MIRROR DIAMANTE    RED SPOT GIFT BAG LARGE  \\\n",
       "customerid                                                           \n",
       "12346.0                              0.0                       0.0   \n",
       "12347.0                              0.0                       0.0   \n",
       "12348.0                              0.0                       0.0   \n",
       "12349.0                              0.0                       0.0   \n",
       "12350.0                              0.0                       0.0   \n",
       "\n",
       "description   SET 2 TEA TOWELS I LOVE LONDON    SPACEBOY BABY GIFT SET  ...  \\\n",
       "customerid                                                              ...   \n",
       "12346.0                                   0.0                      0.0  ...   \n",
       "12347.0                                   0.0                      0.0  ...   \n",
       "12348.0                                   0.0                      0.0  ...   \n",
       "12349.0                                   0.0                      0.0  ...   \n",
       "12350.0                                   0.0                      0.0  ...   \n",
       "\n",
       "description  ZINC STAR T-LIGHT HOLDER   ZINC SWEETHEART SOAP DISH  \\\n",
       "customerid                                                          \n",
       "12346.0                            0.0                        0.0   \n",
       "12347.0                            0.0                        0.0   \n",
       "12348.0                            0.0                        0.0   \n",
       "12349.0                            0.0                        0.0   \n",
       "12350.0                            0.0                        0.0   \n",
       "\n",
       "description  ZINC SWEETHEART WIRE LETTER RACK  ZINC T-LIGHT HOLDER STAR LARGE  \\\n",
       "customerid                                                                      \n",
       "12346.0                                   0.0                             0.0   \n",
       "12347.0                                   0.0                             0.0   \n",
       "12348.0                                   0.0                             0.0   \n",
       "12349.0                                   0.0                             0.0   \n",
       "12350.0                                   0.0                             0.0   \n",
       "\n",
       "description  ZINC T-LIGHT HOLDER STARS LARGE  ZINC T-LIGHT HOLDER STARS SMALL  \\\n",
       "customerid                                                                      \n",
       "12346.0                                  0.0                              0.0   \n",
       "12347.0                                  0.0                              0.0   \n",
       "12348.0                                  0.0                              0.0   \n",
       "12349.0                                  0.0                              0.0   \n",
       "12350.0                                  0.0                              0.0   \n",
       "\n",
       "description  ZINC TOP  2 DOOR WOODEN SHELF   ZINC WILLIE WINKIE  CANDLE STICK  \\\n",
       "customerid                                                                      \n",
       "12346.0                                 0.0                               0.0   \n",
       "12347.0                                 0.0                               0.0   \n",
       "12348.0                                 0.0                               0.0   \n",
       "12349.0                                 0.0                               0.0   \n",
       "12350.0                                 0.0                               0.0   \n",
       "\n",
       "description  ZINC WIRE KITCHEN ORGANISER  ZINC WIRE SWEETHEART LETTER TRAY  \n",
       "customerid                                                                  \n",
       "12346.0                              0.0                               0.0  \n",
       "12347.0                              0.0                               0.0  \n",
       "12348.0                              0.0                               0.0  \n",
       "12349.0                              0.0                               0.0  \n",
       "12350.0                              0.0                               0.0  \n",
       "\n",
       "[5 rows x 3894 columns]"
      ]
     },
     "execution_count": 318,
     "metadata": {},
     "output_type": "execute_result"
    }
   ],
   "source": [
    "df2.head()"
   ]
  },
  {
   "cell_type": "code",
   "execution_count": 319,
   "id": "d9443c7f-3a58-46d6-8e5f-7112607cfdac",
   "metadata": {},
   "outputs": [],
   "source": [
    "X=df2.drop(columns='ASSORTED COLOUR BIRD ORNAMENT')\n",
    "y=df2['ASSORTED COLOUR BIRD ORNAMENT']\n",
    "\n",
    "X_train, X_test, y_train, y_test = train_test_split(X, y, random_state=42)"
   ]
  },
  {
   "cell_type": "code",
   "execution_count": 321,
   "id": "6f7513dc-4753-41e2-8d86-0e1ba7008148",
   "metadata": {},
   "outputs": [],
   "source": [
    "from sklearn.preprocessing import StandardScaler\n",
    "ss=StandardScaler()\n",
    "ss.fit(X_train)\n",
    "\n",
    "X_train_ss = ss.transform(X_train)\n",
    "X_test_ss = ss.transform(X_test)"
   ]
  },
  {
   "cell_type": "code",
   "execution_count": null,
   "id": "079c0ff4-1b55-4e0e-9158-265d3b8b040a",
   "metadata": {},
   "outputs": [],
   "source": [
    "pca = PCA()\n",
    "pca.fit(X_train_ss)"
   ]
  }
 ],
 "metadata": {
  "kernelspec": {
   "display_name": "Python 3 (ipykernel)",
   "language": "python",
   "name": "python3"
  },
  "language_info": {
   "codemirror_mode": {
    "name": "ipython",
    "version": 3
   },
   "file_extension": ".py",
   "mimetype": "text/x-python",
   "name": "python",
   "nbconvert_exporter": "python",
   "pygments_lexer": "ipython3",
   "version": "3.9.7"
  }
 },
 "nbformat": 4,
 "nbformat_minor": 5
}
